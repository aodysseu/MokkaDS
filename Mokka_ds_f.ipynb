{
 "cells": [
  {
   "cell_type": "markdown",
   "metadata": {},
   "source": [
    "# Описание\n",
    "\n",
    "Что сделал:\n",
    "* построил модель по предсказанию дефолта. Взял часть выборки в которой target не null. Оставшаяся часть не попала в модель.\n",
    "  * маленький event rate -> критерий качества ROC AUC\n",
    "  * результаты модели и график с основными переменными ниже\n",
    "\n",
    "\n",
    "Какие данные добавил/убрал:\n",
    "* в данные Заявки apps.csv добавил агрегаты из cart_items: количество товаров, средняя стоимость, мин/макс стоимость товара.\n",
    "* возраст заемщика на момент обращения, разницу между суммой заявки и одобренной суммой\n",
    "\n",
    "\n",
    "\n",
    "Проблемы с данными:\n",
    "* нет справочника с укрупненным перечнем товаров: телефон/компьютер и т.д.\n",
    "* склеил наименование товаров с табличкой кредитов, оказалось много пустых позиций: неизвестно на что именно брался кредит (аванс)\n",
    "* json в pandas\n",
    "\n",
    "Что можно добавить (есть данные):\n",
    "* Время обращения (обращение в будний день хуже чем в выходной), историю обращений.\n",
    "* строить модель не по заявке а по заемщику и проч\n",
    "* проверку на hold-out, а не просто 5 fold validation\n",
    "\n",
    "Что можно добавить (нет данных):\n",
    "* пол, кредитная история"
   ]
  },
  {
   "cell_type": "code",
   "execution_count": 60,
   "metadata": {
    "ExecuteTime": {
     "end_time": "2021-09-19T16:38:35.753087Z",
     "start_time": "2021-09-19T16:38:35.749050Z"
    }
   },
   "outputs": [],
   "source": [
    "import pandas as pd\n",
    "from pandasql import sqldf\n",
    "from sklearn.metrics import roc_auc_score, roc_curve\n",
    "from sklearn.model_selection import KFold, StratifiedKFold\n",
    "from lightgbm import LGBMClassifier\n",
    "import json \n",
    "from tqdm import tqdm\n",
    "import matplotlib.pyplot as plt\n",
    "import seaborn as sns\n",
    "import warnings\n",
    "warnings.filterwarnings(\"ignore\")"
   ]
  },
  {
   "cell_type": "code",
   "execution_count": 61,
   "metadata": {
    "ExecuteTime": {
     "end_time": "2021-09-19T16:38:43.702787Z",
     "start_time": "2021-09-19T16:38:41.582497Z"
    }
   },
   "outputs": [
    {
     "data": {
      "text/html": [
       "<div>\n",
       "<style scoped>\n",
       "    .dataframe tbody tr th:only-of-type {\n",
       "        vertical-align: middle;\n",
       "    }\n",
       "\n",
       "    .dataframe tbody tr th {\n",
       "        vertical-align: top;\n",
       "    }\n",
       "\n",
       "    .dataframe thead th {\n",
       "        text-align: right;\n",
       "    }\n",
       "</style>\n",
       "<table border=\"1\" class=\"dataframe\">\n",
       "  <thead>\n",
       "    <tr style=\"text-align: right;\">\n",
       "      <th></th>\n",
       "      <th>loan_application_id</th>\n",
       "      <th>name</th>\n",
       "      <th>price</th>\n",
       "      <th>quantity</th>\n",
       "    </tr>\n",
       "  </thead>\n",
       "  <tbody>\n",
       "    <tr>\n",
       "      <th>0</th>\n",
       "      <td>7397173</td>\n",
       "      <td>Смартфон Apple iPhone 8 Plus 64GB Space Gray (...</td>\n",
       "      <td>44990.0</td>\n",
       "      <td>1</td>\n",
       "    </tr>\n",
       "    <tr>\n",
       "      <th>1</th>\n",
       "      <td>7397173</td>\n",
       "      <td>Чехол для iPhone Apple iPhone 8 Plus / 7 Plus ...</td>\n",
       "      <td>2990.0</td>\n",
       "      <td>1</td>\n",
       "    </tr>\n",
       "    <tr>\n",
       "      <th>2</th>\n",
       "      <td>7397174</td>\n",
       "      <td>Телевизор LG 32LK510</td>\n",
       "      <td>14990.0</td>\n",
       "      <td>1</td>\n",
       "    </tr>\n",
       "    <tr>\n",
       "      <th>3</th>\n",
       "      <td>7397177</td>\n",
       "      <td>Ноутбук Apple MacBook Air 13 i5 1.8/8Gb/128SSD...</td>\n",
       "      <td>64490.0</td>\n",
       "      <td>1</td>\n",
       "    </tr>\n",
       "    <tr>\n",
       "      <th>4</th>\n",
       "      <td>7397197</td>\n",
       "      <td>Стиральная машина CANDY CS4 1051D1/2-07, фронт...</td>\n",
       "      <td>12470.0</td>\n",
       "      <td>1</td>\n",
       "    </tr>\n",
       "  </tbody>\n",
       "</table>\n",
       "</div>"
      ],
      "text/plain": [
       "   loan_application_id                                               name  \\\n",
       "0              7397173  Смартфон Apple iPhone 8 Plus 64GB Space Gray (...   \n",
       "1              7397173  Чехол для iPhone Apple iPhone 8 Plus / 7 Plus ...   \n",
       "2              7397174                               Телевизор LG 32LK510   \n",
       "3              7397177  Ноутбук Apple MacBook Air 13 i5 1.8/8Gb/128SSD...   \n",
       "4              7397197  Стиральная машина CANDY CS4 1051D1/2-07, фронт...   \n",
       "\n",
       "     price  quantity  \n",
       "0  44990.0         1  \n",
       "1   2990.0         1  \n",
       "2  14990.0         1  \n",
       "3  64490.0         1  \n",
       "4  12470.0         1  "
      ]
     },
     "execution_count": 61,
     "metadata": {},
     "output_type": "execute_result"
    }
   ],
   "source": [
    "ds_1 = pd.read_csv(\"/home/amadeus/Desktop/kaggle/Yury/Mokka_test/input_data/cart_items_amended.csv\")\n",
    "ds_1.drop(['Unnamed: 0'], axis=1, inplace = True)\n",
    "ds_1.head()"
   ]
  },
  {
   "cell_type": "code",
   "execution_count": 62,
   "metadata": {
    "ExecuteTime": {
     "end_time": "2021-09-19T16:39:10.127490Z",
     "start_time": "2021-09-19T16:38:49.362937Z"
    }
   },
   "outputs": [],
   "source": [
    "ds_2 = pd.read_csv(\"/home/amadeus/Desktop/kaggle/Yury/Mokka_test/input_data/apps.csv\",sep=';', engine=\"python\", encoding='cp1251')"
   ]
  },
  {
   "cell_type": "code",
   "execution_count": 63,
   "metadata": {
    "ExecuteTime": {
     "end_time": "2021-09-19T16:39:15.902647Z",
     "start_time": "2021-09-19T16:39:15.886489Z"
    }
   },
   "outputs": [
    {
     "data": {
      "text/html": [
       "<div>\n",
       "<style scoped>\n",
       "    .dataframe tbody tr th:only-of-type {\n",
       "        vertical-align: middle;\n",
       "    }\n",
       "\n",
       "    .dataframe tbody tr th {\n",
       "        vertical-align: top;\n",
       "    }\n",
       "\n",
       "    .dataframe thead th {\n",
       "        text-align: right;\n",
       "    }\n",
       "</style>\n",
       "<table border=\"1\" class=\"dataframe\">\n",
       "  <thead>\n",
       "    <tr style=\"text-align: right;\">\n",
       "      <th></th>\n",
       "      <th>target</th>\n",
       "      <th>loan_application_id</th>\n",
       "      <th>client_id</th>\n",
       "      <th>loan_application_key</th>\n",
       "      <th>previous_application_with_fico_key</th>\n",
       "      <th>federal_region_nm</th>\n",
       "      <th>city_nm</th>\n",
       "      <th>chain_nm</th>\n",
       "      <th>first_chain_nm</th>\n",
       "      <th>first_store_nm</th>\n",
       "      <th>...</th>\n",
       "      <th>application_dttm</th>\n",
       "      <th>application_amt</th>\n",
       "      <th>application_repeat_type</th>\n",
       "      <th>approved_flg</th>\n",
       "      <th>conversion_flg</th>\n",
       "      <th>loan_key</th>\n",
       "      <th>loan_order_num</th>\n",
       "      <th>start_dt</th>\n",
       "      <th>principal_amt</th>\n",
       "      <th>birth_dt</th>\n",
       "    </tr>\n",
       "  </thead>\n",
       "  <tbody>\n",
       "    <tr>\n",
       "      <th>0</th>\n",
       "      <td>NaN</td>\n",
       "      <td>10566042</td>\n",
       "      <td>4272096</td>\n",
       "      <td>10518421</td>\n",
       "      <td>10510793</td>\n",
       "      <td>Волгоградская область</td>\n",
       "      <td>Волгоград</td>\n",
       "      <td>Eldorado DirectCredit pick-up</td>\n",
       "      <td>Mvideo DirectCredit pick-up</td>\n",
       "      <td>PUMVD390YUG</td>\n",
       "      <td>...</td>\n",
       "      <td>2020-03-31 10:47:47</td>\n",
       "      <td>1</td>\n",
       "      <td>preapplication</td>\n",
       "      <td>0</td>\n",
       "      <td>0</td>\n",
       "      <td>NaN</td>\n",
       "      <td>0</td>\n",
       "      <td>NaN</td>\n",
       "      <td>NaN</td>\n",
       "      <td>1994-05-19</td>\n",
       "    </tr>\n",
       "    <tr>\n",
       "      <th>1</th>\n",
       "      <td>NaN</td>\n",
       "      <td>10566033</td>\n",
       "      <td>4272187</td>\n",
       "      <td>10518412</td>\n",
       "      <td>10518412</td>\n",
       "      <td>Томская область</td>\n",
       "      <td>Томск</td>\n",
       "      <td>Mvideo DirectCredit pick-up</td>\n",
       "      <td>Mvideo DirectCredit pick-up</td>\n",
       "      <td>PUMVD642SIB</td>\n",
       "      <td>...</td>\n",
       "      <td>2020-03-31 10:47:09</td>\n",
       "      <td>1</td>\n",
       "      <td>preapplication</td>\n",
       "      <td>1</td>\n",
       "      <td>0</td>\n",
       "      <td>NaN</td>\n",
       "      <td>0</td>\n",
       "      <td>NaN</td>\n",
       "      <td>NaN</td>\n",
       "      <td>1978-11-03</td>\n",
       "    </tr>\n",
       "    <tr>\n",
       "      <th>2</th>\n",
       "      <td>NaN</td>\n",
       "      <td>10566031</td>\n",
       "      <td>4272184</td>\n",
       "      <td>10518410</td>\n",
       "      <td>10518410</td>\n",
       "      <td>г. Москва</td>\n",
       "      <td>Москва</td>\n",
       "      <td>Рево Client App</td>\n",
       "      <td>Рево Client App</td>\n",
       "      <td>Рево Client App</td>\n",
       "      <td>...</td>\n",
       "      <td>2020-03-31 10:47:07</td>\n",
       "      <td>1</td>\n",
       "      <td>preapplication</td>\n",
       "      <td>1</td>\n",
       "      <td>0</td>\n",
       "      <td>NaN</td>\n",
       "      <td>0</td>\n",
       "      <td>NaN</td>\n",
       "      <td>NaN</td>\n",
       "      <td>1996-11-05</td>\n",
       "    </tr>\n",
       "    <tr>\n",
       "      <th>3</th>\n",
       "      <td>NaN</td>\n",
       "      <td>10566028</td>\n",
       "      <td>4272118</td>\n",
       "      <td>10518407</td>\n",
       "      <td>10510936</td>\n",
       "      <td>г. Москва</td>\n",
       "      <td>Москва</td>\n",
       "      <td>Рево Client App</td>\n",
       "      <td>Детский Мир</td>\n",
       "      <td>DM1632VOL</td>\n",
       "      <td>...</td>\n",
       "      <td>2020-03-31 10:47:00</td>\n",
       "      <td>1</td>\n",
       "      <td>preapplication</td>\n",
       "      <td>0</td>\n",
       "      <td>0</td>\n",
       "      <td>NaN</td>\n",
       "      <td>1</td>\n",
       "      <td>NaN</td>\n",
       "      <td>NaN</td>\n",
       "      <td>1989-09-26</td>\n",
       "    </tr>\n",
       "    <tr>\n",
       "      <th>4</th>\n",
       "      <td>NaN</td>\n",
       "      <td>10566026</td>\n",
       "      <td>4272186</td>\n",
       "      <td>10518405</td>\n",
       "      <td>10518405</td>\n",
       "      <td>Свердловская область</td>\n",
       "      <td>Екатеринбург</td>\n",
       "      <td>Eldorado DirectCredit pick-up</td>\n",
       "      <td>Eldorado DirectCredit pick-up</td>\n",
       "      <td>PUELA671URL</td>\n",
       "      <td>...</td>\n",
       "      <td>2020-03-31 10:46:51</td>\n",
       "      <td>1</td>\n",
       "      <td>preapplication</td>\n",
       "      <td>0</td>\n",
       "      <td>0</td>\n",
       "      <td>NaN</td>\n",
       "      <td>0</td>\n",
       "      <td>NaN</td>\n",
       "      <td>NaN</td>\n",
       "      <td>1998-11-30</td>\n",
       "    </tr>\n",
       "  </tbody>\n",
       "</table>\n",
       "<p>5 rows × 21 columns</p>\n",
       "</div>"
      ],
      "text/plain": [
       "   target  loan_application_id  client_id  loan_application_key  \\\n",
       "0     NaN             10566042    4272096              10518421   \n",
       "1     NaN             10566033    4272187              10518412   \n",
       "2     NaN             10566031    4272184              10518410   \n",
       "3     NaN             10566028    4272118              10518407   \n",
       "4     NaN             10566026    4272186              10518405   \n",
       "\n",
       "   previous_application_with_fico_key      federal_region_nm       city_nm  \\\n",
       "0                            10510793  Волгоградская область     Волгоград   \n",
       "1                            10518412        Томская область         Томск   \n",
       "2                            10518410              г. Москва        Москва   \n",
       "3                            10510936              г. Москва        Москва   \n",
       "4                            10518405   Свердловская область  Екатеринбург   \n",
       "\n",
       "                        chain_nm                 first_chain_nm  \\\n",
       "0  Eldorado DirectCredit pick-up    Mvideo DirectCredit pick-up   \n",
       "1    Mvideo DirectCredit pick-up    Mvideo DirectCredit pick-up   \n",
       "2                Рево Client App                Рево Client App   \n",
       "3                Рево Client App                    Детский Мир   \n",
       "4  Eldorado DirectCredit pick-up  Eldorado DirectCredit pick-up   \n",
       "\n",
       "    first_store_nm  ...     application_dttm application_amt  \\\n",
       "0      PUMVD390YUG  ...  2020-03-31 10:47:47               1   \n",
       "1      PUMVD642SIB  ...  2020-03-31 10:47:09               1   \n",
       "2  Рево Client App  ...  2020-03-31 10:47:07               1   \n",
       "3        DM1632VOL  ...  2020-03-31 10:47:00               1   \n",
       "4      PUELA671URL  ...  2020-03-31 10:46:51               1   \n",
       "\n",
       "  application_repeat_type approved_flg  conversion_flg  loan_key  \\\n",
       "0          preapplication            0               0       NaN   \n",
       "1          preapplication            1               0       NaN   \n",
       "2          preapplication            1               0       NaN   \n",
       "3          preapplication            0               0       NaN   \n",
       "4          preapplication            0               0       NaN   \n",
       "\n",
       "   loan_order_num  start_dt principal_amt    birth_dt  \n",
       "0               0       NaN           NaN  1994-05-19  \n",
       "1               0       NaN           NaN  1978-11-03  \n",
       "2               0       NaN           NaN  1996-11-05  \n",
       "3               1       NaN           NaN  1989-09-26  \n",
       "4               0       NaN           NaN  1998-11-30  \n",
       "\n",
       "[5 rows x 21 columns]"
      ]
     },
     "execution_count": 63,
     "metadata": {},
     "output_type": "execute_result"
    }
   ],
   "source": [
    "ds_2.head()"
   ]
  },
  {
   "cell_type": "markdown",
   "metadata": {},
   "source": [
    "# Data merging"
   ]
  },
  {
   "cell_type": "code",
   "execution_count": 64,
   "metadata": {
    "ExecuteTime": {
     "end_time": "2021-09-19T16:40:30.010776Z",
     "start_time": "2021-09-19T16:39:21.776776Z"
    }
   },
   "outputs": [],
   "source": [
    "dataset = sqldf(\n",
    "'''\n",
    "SELECT\n",
    "    DS2.*\n",
    "    ,DS1.quantity\n",
    "    ,DS1.total_price\n",
    "    ,DS1.min_price\n",
    "    ,DS1.max_price\n",
    "    ,DS1.avg_price\n",
    "FROM\n",
    "    ds_2 DS2\n",
    "LEFT JOIN\n",
    "(\n",
    "    SELECT\n",
    "        loan_application_id\n",
    "        ,SUM(quantity) AS quantity\n",
    "        ,SUM(price) AS total_price\n",
    "        ,MIN(price) AS min_price\n",
    "        ,MAX(price) AS max_price\n",
    "        ,AVG(price) AS avg_price\n",
    "    FROM\n",
    "        ds_1\n",
    "    GROUP BY\n",
    "        loan_application_id\n",
    ") DS1\n",
    "ON\n",
    "    DS2.loan_application_id = DS1.loan_application_id\n",
    "'''\n",
    ")"
   ]
  },
  {
   "cell_type": "markdown",
   "metadata": {},
   "source": [
    "# Generate features"
   ]
  },
  {
   "cell_type": "code",
   "execution_count": 65,
   "metadata": {
    "ExecuteTime": {
     "end_time": "2021-09-19T16:40:39.329014Z",
     "start_time": "2021-09-19T16:40:36.931695Z"
    }
   },
   "outputs": [],
   "source": [
    "#bin_labels_5 = ['A_amt', 'B_amt', 'C_amt', 'D_amt', 'E_amt']\n",
    "dataset['application_amt'] = dataset['application_amt'].apply(lambda x: x.replace(',','.'))\n",
    "dataset['application_amt'] = pd.to_numeric(dataset['application_amt'])\n",
    "#dataset['principal_amt'] = dataset['principal_amt'].notnull().apply(lambda x: x.replace(',','.'))\n",
    "dataset['principal_amt'] = dataset['principal_amt'].apply(lambda x: x.replace(',','.') if(pd.notnull(x)) else x)\n",
    "dataset['principal_amt'] = pd.to_numeric(dataset['principal_amt'])    \n",
    "#dataset['amt_quartiles'] = pd.qcut(dataset['application_amt'], 5, labels=bin_labels_5)"
   ]
  },
  {
   "cell_type": "code",
   "execution_count": 66,
   "metadata": {
    "ExecuteTime": {
     "end_time": "2021-09-19T16:40:48.706134Z",
     "start_time": "2021-09-19T16:40:46.129831Z"
    }
   },
   "outputs": [],
   "source": [
    "#Remove garbage\n",
    "dataset = dataset[(dataset[\"birth_dt\"] >= \"1941-07-04\") & (dataset[\"birth_dt\"] < \"2300-01-01\")]\n",
    "#Generate age\n",
    "dataset['application_dttm'] = pd.to_datetime(dataset['application_dttm'])\n",
    "dataset['birth_dt'] = pd.to_datetime(dataset['birth_dt'])\n",
    "dataset[\"borrower_age_yy\"] = (dataset['application_dttm'] - dataset['birth_dt'])\n",
    "dataset[\"borrower_age_yy\"] = ((dataset[\"borrower_age_yy\"] / np.timedelta64(1, 'D')).astype(int)/365.25).astype(float)"
   ]
  },
  {
   "cell_type": "code",
   "execution_count": 67,
   "metadata": {
    "ExecuteTime": {
     "end_time": "2021-09-19T16:40:55.053500Z",
     "start_time": "2021-09-19T16:40:55.040122Z"
    }
   },
   "outputs": [
    {
     "name": "stdout",
     "output_type": "stream",
     "text": [
      "-0.7912388774811773\n",
      "78.64202600958248\n"
     ]
    }
   ],
   "source": [
    "print(dataset[\"borrower_age_yy\"].min())\n",
    "print(dataset[\"borrower_age_yy\"].max())"
   ]
  },
  {
   "cell_type": "code",
   "execution_count": 68,
   "metadata": {
    "ExecuteTime": {
     "end_time": "2021-09-19T16:41:01.272075Z",
     "start_time": "2021-09-19T16:41:01.258970Z"
    }
   },
   "outputs": [],
   "source": [
    "#Сколько денег не хватило в абс и в %%\n",
    "#dataset[\"money_shortage_amt\"] = dataset[\"total_price\"] - dataset[\"application_amt\"]\n",
    "dataset[\"money_shortage_amt\"] = dataset[\"application_amt\"] - dataset[\"principal_amt\"]\n",
    "dataset[\"money_shortage_perc\"] = dataset[\"money_shortage_amt\"]/dataset[\"total_price\"]"
   ]
  },
  {
   "cell_type": "code",
   "execution_count": 69,
   "metadata": {
    "ExecuteTime": {
     "end_time": "2021-09-19T16:41:08.597650Z",
     "start_time": "2021-09-19T16:41:07.401437Z"
    }
   },
   "outputs": [
    {
     "data": {
      "text/plain": [
       "target                                  82662\n",
       "loan_application_id                   1164811\n",
       "client_id                             1164811\n",
       "loan_application_key                  1164811\n",
       "previous_application_with_fico_key    1164811\n",
       "federal_region_nm                     1163936\n",
       "city_nm                               1161477\n",
       "chain_nm                              1164811\n",
       "first_chain_nm                        1164811\n",
       "first_store_nm                        1164811\n",
       "channel_type                          1164811\n",
       "application_dttm                      1164811\n",
       "application_amt                       1164811\n",
       "application_repeat_type               1164811\n",
       "approved_flg                          1164811\n",
       "conversion_flg                        1164811\n",
       "loan_key                                82662\n",
       "loan_order_num                        1164811\n",
       "start_dt                                82662\n",
       "principal_amt                           82662\n",
       "birth_dt                              1164811\n",
       "quantity                               899267\n",
       "total_price                            899267\n",
       "min_price                              899267\n",
       "max_price                              899267\n",
       "avg_price                              899267\n",
       "borrower_age_yy                       1164811\n",
       "money_shortage_amt                      82662\n",
       "money_shortage_perc                     18847\n",
       "dtype: int64"
      ]
     },
     "execution_count": 69,
     "metadata": {},
     "output_type": "execute_result"
    }
   ],
   "source": [
    "dataset.count()"
   ]
  },
  {
   "cell_type": "code",
   "execution_count": 70,
   "metadata": {
    "ExecuteTime": {
     "end_time": "2021-09-19T16:41:14.437121Z",
     "start_time": "2021-09-19T16:41:14.435159Z"
    }
   },
   "outputs": [],
   "source": [
    "#dataset[(dataset[\"target\"].notnull() & dataset[\"quantity\"].isnull() )]"
   ]
  },
  {
   "cell_type": "markdown",
   "metadata": {},
   "source": [
    "# Numerical features"
   ]
  },
  {
   "cell_type": "code",
   "execution_count": 71,
   "metadata": {
    "ExecuteTime": {
     "end_time": "2021-09-19T16:41:24.630362Z",
     "start_time": "2021-09-19T16:41:20.303393Z"
    }
   },
   "outputs": [
    {
     "data": {
      "image/png": "[encoded data removed]",
      "text/plain": [
       "<Figure size 864x1008 with 6 Axes>"
      ]
     },
     "metadata": {
      "needs_background": "light"
     },
     "output_type": "display_data"
    }
   ],
   "source": [
    "import warnings\n",
    "warnings.filterwarnings(\"ignore\")\n",
    "numerical_cols = [\"total_price\", \"avg_price\", \"min_price\", \"max_price\", \"money_shortage_amt\", \"borrower_age_yy\"]\n",
    "fig, axes = plt.subplots(ncols = 2, nrows = 3, figsize = (12,14))\n",
    "fig.subplots_adjust(hspace = 0.4, wspace = 0.2)\n",
    "fig.suptitle(\"KDE plots of numerical features\")\n",
    "\n",
    "for ax, col in zip(axes.flatten(), numerical_cols) :\n",
    "    sns.kdeplot(dataset[(dataset[\"application_repeat_type\"] != \"preapplication\") & ( dataset[\"target\"] == 1)][col], shade=\"True\", label=\"Not accepted\", ax = ax)\n",
    "    sns.kdeplot(dataset[(dataset[\"application_repeat_type\"] != \"preapplication\") & ( dataset[\"target\"] == 0)][col], shade=\"True\", label=\"Rejected\", ax = ax)\n",
    "    ax.set_xlabel(col)"
   ]
  },
  {
   "cell_type": "markdown",
   "metadata": {},
   "source": [
    "# Categorical features with low cardinality"
   ]
  },
  {
   "cell_type": "code",
   "execution_count": 72,
   "metadata": {
    "ExecuteTime": {
     "end_time": "2021-09-19T16:41:30.547407Z",
     "start_time": "2021-09-19T16:41:30.402160Z"
    }
   },
   "outputs": [],
   "source": [
    "df_train = dataset[dataset[\"target\"].notnull()]"
   ]
  },
  {
   "cell_type": "code",
   "execution_count": 73,
   "metadata": {
    "ExecuteTime": {
     "end_time": "2021-09-19T16:41:36.521204Z",
     "start_time": "2021-09-19T16:41:36.361940Z"
    }
   },
   "outputs": [
    {
     "data": {
      "text/plain": [
       "target                                82662\n",
       "loan_application_id                   82662\n",
       "client_id                             82662\n",
       "loan_application_key                  82662\n",
       "previous_application_with_fico_key    82662\n",
       "federal_region_nm                     82648\n",
       "city_nm                               82571\n",
       "chain_nm                              82662\n",
       "first_chain_nm                        82662\n",
       "first_store_nm                        82662\n",
       "channel_type                          82662\n",
       "application_dttm                      82662\n",
       "application_amt                       82662\n",
       "application_repeat_type               82662\n",
       "approved_flg                          82662\n",
       "conversion_flg                        82662\n",
       "loan_key                              82662\n",
       "loan_order_num                        82662\n",
       "start_dt                              82662\n",
       "principal_amt                         82662\n",
       "birth_dt                              82662\n",
       "quantity                              18847\n",
       "total_price                           18847\n",
       "min_price                             18847\n",
       "max_price                             18847\n",
       "avg_price                             18847\n",
       "borrower_age_yy                       82662\n",
       "money_shortage_amt                    82662\n",
       "money_shortage_perc                   18847\n",
       "dtype: int64"
      ]
     },
     "execution_count": 73,
     "metadata": {},
     "output_type": "execute_result"
    }
   ],
   "source": [
    "df_train.count()"
   ]
  },
  {
   "cell_type": "markdown",
   "metadata": {},
   "source": [
    "# Cleaning"
   ]
  },
  {
   "cell_type": "code",
   "execution_count": 74,
   "metadata": {
    "ExecuteTime": {
     "end_time": "2021-09-19T16:41:42.284998Z",
     "start_time": "2021-09-19T16:41:42.245614Z"
    }
   },
   "outputs": [],
   "source": [
    "to_drop = [\"loan_application_id\", \"client_id\", \"approved_flg\",\n",
    "           \"loan_application_key\", \"previous_application_with_fico_key\", \"city_nm\" , \"first_chain_nm\", \"first_store_nm\", \"application_dttm\", \"loan_key\",\"start_dt\", \"birth_dt\", \"application_amt\"]\n",
    "df_train.drop(to_drop, axis=1, inplace=True)"
   ]
  },
  {
   "cell_type": "code",
   "execution_count": 75,
   "metadata": {
    "ExecuteTime": {
     "end_time": "2021-09-19T16:41:47.831129Z",
     "start_time": "2021-09-19T16:41:47.829154Z"
    }
   },
   "outputs": [],
   "source": [
    "#df_train.count()"
   ]
  },
  {
   "cell_type": "code",
   "execution_count": 76,
   "metadata": {
    "ExecuteTime": {
     "end_time": "2021-09-19T16:41:53.989024Z",
     "start_time": "2021-09-19T16:41:53.576240Z"
    }
   },
   "outputs": [],
   "source": [
    "cat_cols_few = [\"federal_region_nm\", \"chain_nm\",\n",
    "            \"channel_type\",\"application_repeat_type\"]#, \"amt_quartiles\"]\n",
    "for col in cat_cols_few:\n",
    "        df_train[col].fillna(df_train[col].mode()[0], inplace=True)\n",
    "df_train = pd.get_dummies(df_train, columns = cat_cols_few)"
   ]
  },
  {
   "cell_type": "code",
   "execution_count": 77,
   "metadata": {
    "ExecuteTime": {
     "end_time": "2021-09-19T16:41:59.616054Z",
     "start_time": "2021-09-19T16:41:59.581883Z"
    }
   },
   "outputs": [
    {
     "data": {
      "text/plain": [
       "target                                  82662\n",
       "conversion_flg                          82662\n",
       "loan_order_num                          82662\n",
       "principal_amt                           82662\n",
       "quantity                                18847\n",
       "                                        ...  \n",
       "channel_type_Full_online                82662\n",
       "channel_type_Offline                    82662\n",
       "channel_type_Online                     82662\n",
       "application_repeat_type_false repeat    82662\n",
       "application_repeat_type_new             82662\n",
       "Length: 151, dtype: int64"
      ]
     },
     "execution_count": 77,
     "metadata": {},
     "output_type": "execute_result"
    }
   ],
   "source": [
    "df_train.count()"
   ]
  },
  {
   "cell_type": "code",
   "execution_count": 78,
   "metadata": {
    "ExecuteTime": {
     "end_time": "2021-09-19T16:42:05.229395Z",
     "start_time": "2021-09-19T16:42:05.198518Z"
    }
   },
   "outputs": [
    {
     "data": {
      "text/html": [
       "<div>\n",
       "<style scoped>\n",
       "    .dataframe tbody tr th:only-of-type {\n",
       "        vertical-align: middle;\n",
       "    }\n",
       "\n",
       "    .dataframe tbody tr th {\n",
       "        vertical-align: top;\n",
       "    }\n",
       "\n",
       "    .dataframe thead th {\n",
       "        text-align: right;\n",
       "    }\n",
       "</style>\n",
       "<table border=\"1\" class=\"dataframe\">\n",
       "  <thead>\n",
       "    <tr style=\"text-align: right;\">\n",
       "      <th></th>\n",
       "      <th>target</th>\n",
       "      <th>conversion_flg</th>\n",
       "      <th>loan_order_num</th>\n",
       "      <th>principal_amt</th>\n",
       "      <th>quantity</th>\n",
       "      <th>total_price</th>\n",
       "      <th>min_price</th>\n",
       "      <th>max_price</th>\n",
       "      <th>avg_price</th>\n",
       "      <th>borrower_age_yy</th>\n",
       "      <th>...</th>\n",
       "      <th>chain_nm_Перевод на карту</th>\n",
       "      <th>chain_nm_Связной</th>\n",
       "      <th>chain_nm_Связной Онлайн</th>\n",
       "      <th>chain_nm_Сеть отсутствует в ChainLookup</th>\n",
       "      <th>chain_nm_Точка Зрения Пермь</th>\n",
       "      <th>channel_type_Full_online</th>\n",
       "      <th>channel_type_Offline</th>\n",
       "      <th>channel_type_Online</th>\n",
       "      <th>application_repeat_type_false repeat</th>\n",
       "      <th>application_repeat_type_new</th>\n",
       "    </tr>\n",
       "  </thead>\n",
       "  <tbody>\n",
       "    <tr>\n",
       "      <th>7</th>\n",
       "      <td>0</td>\n",
       "      <td>1</td>\n",
       "      <td>1</td>\n",
       "      <td>14938.00</td>\n",
       "      <td>NaN</td>\n",
       "      <td>NaN</td>\n",
       "      <td>NaN</td>\n",
       "      <td>NaN</td>\n",
       "      <td>NaN</td>\n",
       "      <td>33.566051</td>\n",
       "      <td>...</td>\n",
       "      <td>0</td>\n",
       "      <td>0</td>\n",
       "      <td>0</td>\n",
       "      <td>0</td>\n",
       "      <td>0</td>\n",
       "      <td>0</td>\n",
       "      <td>0</td>\n",
       "      <td>1</td>\n",
       "      <td>1</td>\n",
       "      <td>0</td>\n",
       "    </tr>\n",
       "    <tr>\n",
       "      <th>23</th>\n",
       "      <td>0</td>\n",
       "      <td>1</td>\n",
       "      <td>1</td>\n",
       "      <td>5458.18</td>\n",
       "      <td>NaN</td>\n",
       "      <td>NaN</td>\n",
       "      <td>NaN</td>\n",
       "      <td>NaN</td>\n",
       "      <td>NaN</td>\n",
       "      <td>67.397673</td>\n",
       "      <td>...</td>\n",
       "      <td>0</td>\n",
       "      <td>0</td>\n",
       "      <td>0</td>\n",
       "      <td>0</td>\n",
       "      <td>0</td>\n",
       "      <td>0</td>\n",
       "      <td>1</td>\n",
       "      <td>0</td>\n",
       "      <td>0</td>\n",
       "      <td>1</td>\n",
       "    </tr>\n",
       "    <tr>\n",
       "      <th>27</th>\n",
       "      <td>0</td>\n",
       "      <td>1</td>\n",
       "      <td>1</td>\n",
       "      <td>10947.00</td>\n",
       "      <td>NaN</td>\n",
       "      <td>NaN</td>\n",
       "      <td>NaN</td>\n",
       "      <td>NaN</td>\n",
       "      <td>NaN</td>\n",
       "      <td>22.529774</td>\n",
       "      <td>...</td>\n",
       "      <td>0</td>\n",
       "      <td>0</td>\n",
       "      <td>0</td>\n",
       "      <td>0</td>\n",
       "      <td>0</td>\n",
       "      <td>0</td>\n",
       "      <td>1</td>\n",
       "      <td>0</td>\n",
       "      <td>0</td>\n",
       "      <td>1</td>\n",
       "    </tr>\n",
       "    <tr>\n",
       "      <th>70</th>\n",
       "      <td>0</td>\n",
       "      <td>1</td>\n",
       "      <td>1</td>\n",
       "      <td>23990.00</td>\n",
       "      <td>1.0</td>\n",
       "      <td>23990.0</td>\n",
       "      <td>23990.0</td>\n",
       "      <td>23990.0</td>\n",
       "      <td>23990.0</td>\n",
       "      <td>33.051335</td>\n",
       "      <td>...</td>\n",
       "      <td>0</td>\n",
       "      <td>0</td>\n",
       "      <td>0</td>\n",
       "      <td>0</td>\n",
       "      <td>0</td>\n",
       "      <td>0</td>\n",
       "      <td>0</td>\n",
       "      <td>1</td>\n",
       "      <td>1</td>\n",
       "      <td>0</td>\n",
       "    </tr>\n",
       "    <tr>\n",
       "      <th>92</th>\n",
       "      <td>0</td>\n",
       "      <td>1</td>\n",
       "      <td>1</td>\n",
       "      <td>44181.00</td>\n",
       "      <td>3.0</td>\n",
       "      <td>44181.0</td>\n",
       "      <td>0.0</td>\n",
       "      <td>26591.0</td>\n",
       "      <td>14727.0</td>\n",
       "      <td>27.728953</td>\n",
       "      <td>...</td>\n",
       "      <td>0</td>\n",
       "      <td>0</td>\n",
       "      <td>0</td>\n",
       "      <td>0</td>\n",
       "      <td>0</td>\n",
       "      <td>1</td>\n",
       "      <td>0</td>\n",
       "      <td>0</td>\n",
       "      <td>1</td>\n",
       "      <td>0</td>\n",
       "    </tr>\n",
       "    <tr>\n",
       "      <th>...</th>\n",
       "      <td>...</td>\n",
       "      <td>...</td>\n",
       "      <td>...</td>\n",
       "      <td>...</td>\n",
       "      <td>...</td>\n",
       "      <td>...</td>\n",
       "      <td>...</td>\n",
       "      <td>...</td>\n",
       "      <td>...</td>\n",
       "      <td>...</td>\n",
       "      <td>...</td>\n",
       "      <td>...</td>\n",
       "      <td>...</td>\n",
       "      <td>...</td>\n",
       "      <td>...</td>\n",
       "      <td>...</td>\n",
       "      <td>...</td>\n",
       "      <td>...</td>\n",
       "      <td>...</td>\n",
       "      <td>...</td>\n",
       "      <td>...</td>\n",
       "    </tr>\n",
       "    <tr>\n",
       "      <th>1165271</th>\n",
       "      <td>0</td>\n",
       "      <td>1</td>\n",
       "      <td>1</td>\n",
       "      <td>7433.00</td>\n",
       "      <td>NaN</td>\n",
       "      <td>NaN</td>\n",
       "      <td>NaN</td>\n",
       "      <td>NaN</td>\n",
       "      <td>NaN</td>\n",
       "      <td>24.933607</td>\n",
       "      <td>...</td>\n",
       "      <td>0</td>\n",
       "      <td>0</td>\n",
       "      <td>0</td>\n",
       "      <td>0</td>\n",
       "      <td>0</td>\n",
       "      <td>0</td>\n",
       "      <td>1</td>\n",
       "      <td>0</td>\n",
       "      <td>0</td>\n",
       "      <td>1</td>\n",
       "    </tr>\n",
       "    <tr>\n",
       "      <th>1165298</th>\n",
       "      <td>0</td>\n",
       "      <td>1</td>\n",
       "      <td>1</td>\n",
       "      <td>6425.00</td>\n",
       "      <td>NaN</td>\n",
       "      <td>NaN</td>\n",
       "      <td>NaN</td>\n",
       "      <td>NaN</td>\n",
       "      <td>NaN</td>\n",
       "      <td>58.176591</td>\n",
       "      <td>...</td>\n",
       "      <td>0</td>\n",
       "      <td>0</td>\n",
       "      <td>0</td>\n",
       "      <td>0</td>\n",
       "      <td>0</td>\n",
       "      <td>0</td>\n",
       "      <td>1</td>\n",
       "      <td>0</td>\n",
       "      <td>0</td>\n",
       "      <td>1</td>\n",
       "    </tr>\n",
       "    <tr>\n",
       "      <th>1165320</th>\n",
       "      <td>0</td>\n",
       "      <td>1</td>\n",
       "      <td>1</td>\n",
       "      <td>26453.70</td>\n",
       "      <td>NaN</td>\n",
       "      <td>NaN</td>\n",
       "      <td>NaN</td>\n",
       "      <td>NaN</td>\n",
       "      <td>NaN</td>\n",
       "      <td>30.135524</td>\n",
       "      <td>...</td>\n",
       "      <td>0</td>\n",
       "      <td>0</td>\n",
       "      <td>0</td>\n",
       "      <td>0</td>\n",
       "      <td>0</td>\n",
       "      <td>0</td>\n",
       "      <td>0</td>\n",
       "      <td>1</td>\n",
       "      <td>1</td>\n",
       "      <td>0</td>\n",
       "    </tr>\n",
       "    <tr>\n",
       "      <th>1165330</th>\n",
       "      <td>0</td>\n",
       "      <td>1</td>\n",
       "      <td>1</td>\n",
       "      <td>29990.00</td>\n",
       "      <td>NaN</td>\n",
       "      <td>NaN</td>\n",
       "      <td>NaN</td>\n",
       "      <td>NaN</td>\n",
       "      <td>NaN</td>\n",
       "      <td>22.360027</td>\n",
       "      <td>...</td>\n",
       "      <td>0</td>\n",
       "      <td>0</td>\n",
       "      <td>0</td>\n",
       "      <td>0</td>\n",
       "      <td>0</td>\n",
       "      <td>0</td>\n",
       "      <td>0</td>\n",
       "      <td>1</td>\n",
       "      <td>1</td>\n",
       "      <td>0</td>\n",
       "    </tr>\n",
       "    <tr>\n",
       "      <th>1165337</th>\n",
       "      <td>0</td>\n",
       "      <td>1</td>\n",
       "      <td>1</td>\n",
       "      <td>8990.00</td>\n",
       "      <td>NaN</td>\n",
       "      <td>NaN</td>\n",
       "      <td>NaN</td>\n",
       "      <td>NaN</td>\n",
       "      <td>NaN</td>\n",
       "      <td>30.721424</td>\n",
       "      <td>...</td>\n",
       "      <td>0</td>\n",
       "      <td>0</td>\n",
       "      <td>0</td>\n",
       "      <td>0</td>\n",
       "      <td>0</td>\n",
       "      <td>0</td>\n",
       "      <td>0</td>\n",
       "      <td>1</td>\n",
       "      <td>1</td>\n",
       "      <td>0</td>\n",
       "    </tr>\n",
       "  </tbody>\n",
       "</table>\n",
       "<p>82662 rows × 151 columns</p>\n",
       "</div>"
      ],
      "text/plain": [
       "         target  conversion_flg  loan_order_num  principal_amt  quantity  \\\n",
       "7             0               1               1       14938.00       NaN   \n",
       "23            0               1               1        5458.18       NaN   \n",
       "27            0               1               1       10947.00       NaN   \n",
       "70            0               1               1       23990.00       1.0   \n",
       "92            0               1               1       44181.00       3.0   \n",
       "...         ...             ...             ...            ...       ...   \n",
       "1165271       0               1               1        7433.00       NaN   \n",
       "1165298       0               1               1        6425.00       NaN   \n",
       "1165320       0               1               1       26453.70       NaN   \n",
       "1165330       0               1               1       29990.00       NaN   \n",
       "1165337       0               1               1        8990.00       NaN   \n",
       "\n",
       "         total_price  min_price  max_price  avg_price  borrower_age_yy  ...  \\\n",
       "7                NaN        NaN        NaN        NaN        33.566051  ...   \n",
       "23               NaN        NaN        NaN        NaN        67.397673  ...   \n",
       "27               NaN        NaN        NaN        NaN        22.529774  ...   \n",
       "70           23990.0    23990.0    23990.0    23990.0        33.051335  ...   \n",
       "92           44181.0        0.0    26591.0    14727.0        27.728953  ...   \n",
       "...              ...        ...        ...        ...              ...  ...   \n",
       "1165271          NaN        NaN        NaN        NaN        24.933607  ...   \n",
       "1165298          NaN        NaN        NaN        NaN        58.176591  ...   \n",
       "1165320          NaN        NaN        NaN        NaN        30.135524  ...   \n",
       "1165330          NaN        NaN        NaN        NaN        22.360027  ...   \n",
       "1165337          NaN        NaN        NaN        NaN        30.721424  ...   \n",
       "\n",
       "         chain_nm_Перевод на карту  chain_nm_Связной  chain_nm_Связной Онлайн  \\\n",
       "7                                0                 0                        0   \n",
       "23                               0                 0                        0   \n",
       "27                               0                 0                        0   \n",
       "70                               0                 0                        0   \n",
       "92                               0                 0                        0   \n",
       "...                            ...               ...                      ...   \n",
       "1165271                          0                 0                        0   \n",
       "1165298                          0                 0                        0   \n",
       "1165320                          0                 0                        0   \n",
       "1165330                          0                 0                        0   \n",
       "1165337                          0                 0                        0   \n",
       "\n",
       "         chain_nm_Сеть отсутствует в ChainLookup  chain_nm_Точка Зрения Пермь  \\\n",
       "7                                              0                            0   \n",
       "23                                             0                            0   \n",
       "27                                             0                            0   \n",
       "70                                             0                            0   \n",
       "92                                             0                            0   \n",
       "...                                          ...                          ...   \n",
       "1165271                                        0                            0   \n",
       "1165298                                        0                            0   \n",
       "1165320                                        0                            0   \n",
       "1165330                                        0                            0   \n",
       "1165337                                        0                            0   \n",
       "\n",
       "         channel_type_Full_online  channel_type_Offline  channel_type_Online  \\\n",
       "7                               0                     0                    1   \n",
       "23                              0                     1                    0   \n",
       "27                              0                     1                    0   \n",
       "70                              0                     0                    1   \n",
       "92                              1                     0                    0   \n",
       "...                           ...                   ...                  ...   \n",
       "1165271                         0                     1                    0   \n",
       "1165298                         0                     1                    0   \n",
       "1165320                         0                     0                    1   \n",
       "1165330                         0                     0                    1   \n",
       "1165337                         0                     0                    1   \n",
       "\n",
       "         application_repeat_type_false repeat  application_repeat_type_new  \n",
       "7                                           1                            0  \n",
       "23                                          0                            1  \n",
       "27                                          0                            1  \n",
       "70                                          1                            0  \n",
       "92                                          1                            0  \n",
       "...                                       ...                          ...  \n",
       "1165271                                     0                            1  \n",
       "1165298                                     0                            1  \n",
       "1165320                                     1                            0  \n",
       "1165330                                     1                            0  \n",
       "1165337                                     1                            0  \n",
       "\n",
       "[82662 rows x 151 columns]"
      ]
     },
     "execution_count": 78,
     "metadata": {},
     "output_type": "execute_result"
    }
   ],
   "source": [
    "df_train[\"target\"] = (df_train[\"target\"]).astype(int)\n",
    "df_train"
   ]
  },
  {
   "cell_type": "markdown",
   "metadata": {},
   "source": [
    "# Modelling"
   ]
  },
  {
   "cell_type": "code",
   "execution_count": 79,
   "metadata": {
    "ExecuteTime": {
     "end_time": "2021-09-19T16:42:10.837689Z",
     "start_time": "2021-09-19T16:42:10.832469Z"
    }
   },
   "outputs": [],
   "source": [
    "# Display/plot feature importance\n",
    "def display_importances(feature_importance_df_):\n",
    "    cols = feature_importance_df_[[\"feature\", \"importance\"]].groupby(\"feature\").mean().sort_values(by=\"importance\", ascending=False)[:100].index\n",
    "    best_features = feature_importance_df_.loc[feature_importance_df_.feature.isin(cols)]\n",
    "    plt.figure(figsize=(20, 25))\n",
    "    sns.barplot(x=\"importance\", y=\"feature\", data=best_features.sort_values(by=\"importance\", ascending=False))\n",
    "    plt.title('LightGBM Features (avg over folds)')\n",
    "    plt.tight_layout()"
   ]
  },
  {
   "cell_type": "code",
   "execution_count": 80,
   "metadata": {
    "ExecuteTime": {
     "end_time": "2021-09-19T16:53:40.738234Z",
     "start_time": "2021-09-19T16:42:16.254415Z"
    }
   },
   "outputs": [
    {
     "name": "stdout",
     "output_type": "stream",
     "text": [
      "LightGBM. Train shape: {}\n",
      "[LightGBM] [Warning] num_threads is set with nthread=4, will be overridden by n_jobs=-1. Current value: num_threads=-1\n",
      "Training until validation scores don't improve for 200 rounds\n",
      "[200]\ttraining's auc: 0.721468\ttraining's binary_logloss: 0.183386\tvalid_1's auc: 0.678635\tvalid_1's binary_logloss: 0.188434\n",
      "[400]\ttraining's auc: 0.736298\ttraining's binary_logloss: 0.180604\tvalid_1's auc: 0.684296\tvalid_1's binary_logloss: 0.187733\n",
      "[600]\ttraining's auc: 0.746725\ttraining's binary_logloss: 0.178682\tvalid_1's auc: 0.685715\tvalid_1's binary_logloss: 0.187552\n",
      "[800]\ttraining's auc: 0.752239\ttraining's binary_logloss: 0.177634\tvalid_1's auc: 0.685631\tvalid_1's binary_logloss: 0.187615\n",
      "Early stopping, best iteration is:\n",
      "[653]\ttraining's auc: 0.748422\ttraining's binary_logloss: 0.178361\tvalid_1's auc: 0.686028\tvalid_1's binary_logloss: 0.187525\n",
      "Fold  1 AUC : 0.686028\n",
      "[LightGBM] [Warning] num_threads is set with nthread=4, will be overridden by n_jobs=-1. Current value: num_threads=-1\n",
      "Training until validation scores don't improve for 200 rounds\n",
      "[200]\ttraining's auc: 0.718665\ttraining's binary_logloss: 0.18398\tvalid_1's auc: 0.692655\tvalid_1's binary_logloss: 0.186169\n",
      "[400]\ttraining's auc: 0.733376\ttraining's binary_logloss: 0.181224\tvalid_1's auc: 0.693395\tvalid_1's binary_logloss: 0.185931\n",
      "Early stopping, best iteration is:\n",
      "[286]\ttraining's auc: 0.727281\ttraining's binary_logloss: 0.182426\tvalid_1's auc: 0.693591\tvalid_1's binary_logloss: 0.185916\n",
      "Fold  2 AUC : 0.693591\n",
      "[LightGBM] [Warning] num_threads is set with nthread=4, will be overridden by n_jobs=-1. Current value: num_threads=-1\n",
      "Training until validation scores don't improve for 200 rounds\n",
      "[200]\ttraining's auc: 0.718708\ttraining's binary_logloss: 0.183944\tvalid_1's auc: 0.69614\tvalid_1's binary_logloss: 0.185955\n",
      "[400]\ttraining's auc: 0.732407\ttraining's binary_logloss: 0.181425\tvalid_1's auc: 0.69781\tvalid_1's binary_logloss: 0.185365\n",
      "[600]\ttraining's auc: 0.742086\ttraining's binary_logloss: 0.17964\tvalid_1's auc: 0.701402\tvalid_1's binary_logloss: 0.184854\n",
      "[800]\ttraining's auc: 0.747358\ttraining's binary_logloss: 0.178557\tvalid_1's auc: 0.702186\tvalid_1's binary_logloss: 0.18469\n",
      "Early stopping, best iteration is:\n",
      "[734]\ttraining's auc: 0.745772\ttraining's binary_logloss: 0.178896\tvalid_1's auc: 0.70242\tvalid_1's binary_logloss: 0.184672\n",
      "Fold  3 AUC : 0.702420\n",
      "[LightGBM] [Warning] num_threads is set with nthread=4, will be overridden by n_jobs=-1. Current value: num_threads=-1\n",
      "Training until validation scores don't improve for 200 rounds\n",
      "[200]\ttraining's auc: 0.722682\ttraining's binary_logloss: 0.183523\tvalid_1's auc: 0.678105\tvalid_1's binary_logloss: 0.187751\n",
      "[400]\ttraining's auc: 0.736989\ttraining's binary_logloss: 0.180972\tvalid_1's auc: 0.680579\tvalid_1's binary_logloss: 0.187155\n",
      "[600]\ttraining's auc: 0.746749\ttraining's binary_logloss: 0.179255\tvalid_1's auc: 0.682\tvalid_1's binary_logloss: 0.186888\n",
      "[800]\ttraining's auc: 0.75415\ttraining's binary_logloss: 0.177805\tvalid_1's auc: 0.684091\tvalid_1's binary_logloss: 0.186583\n",
      "Early stopping, best iteration is:\n",
      "[786]\ttraining's auc: 0.753669\ttraining's binary_logloss: 0.177901\tvalid_1's auc: 0.684189\tvalid_1's binary_logloss: 0.186564\n",
      "Fold  4 AUC : 0.684189\n",
      "[LightGBM] [Warning] num_threads is set with nthread=4, will be overridden by n_jobs=-1. Current value: num_threads=-1\n",
      "Training until validation scores don't improve for 200 rounds\n",
      "[200]\ttraining's auc: 0.71714\ttraining's binary_logloss: 0.183944\tvalid_1's auc: 0.68595\tvalid_1's binary_logloss: 0.187622\n",
      "[400]\ttraining's auc: 0.734386\ttraining's binary_logloss: 0.181047\tvalid_1's auc: 0.691099\tvalid_1's binary_logloss: 0.18701\n",
      "Early stopping, best iteration is:\n",
      "[399]\ttraining's auc: 0.734371\ttraining's binary_logloss: 0.181054\tvalid_1's auc: 0.691105\tvalid_1's binary_logloss: 0.187007\n",
      "Fold  5 AUC : 0.691105\n",
      "Full AUC score 0.690965\n"
     ]
    }
   ],
   "source": [
    "num_folds = 5\n",
    "train_df = df_train\n",
    "print(\"LightGBM. Train shape: {}\")\n",
    "folds = StratifiedKFold(n_splits= num_folds, shuffle=True, random_state=1001)\n",
    "\n",
    "oof_preds = np.zeros(train_df.shape[0])\n",
    "feature_importance_df = pd.DataFrame()\n",
    "feats = [f for f in train_df.columns if f not in ['target']]\n",
    "    \n",
    "for n_fold, (train_idx, valid_idx) in enumerate(folds.split(train_df[feats], train_df[\"target\"])):\n",
    "    train_x, train_y = train_df[feats].iloc[train_idx], train_df[\"target\"].iloc[train_idx]\n",
    "    valid_x, valid_y = train_df[feats].iloc[valid_idx], train_df[\"target\"].iloc[valid_idx]\n",
    "    \n",
    "    clf = LGBMClassifier(\n",
    "        nthread=4,\n",
    "        n_estimators=10000,\n",
    "        learning_rate=0.02,\n",
    "        num_leaves=34,\n",
    "        colsample_bytree=0.9497036,\n",
    "        subsample=0.8715623,\n",
    "        max_depth=8,\n",
    "        reg_alpha=0.041545473,\n",
    "        reg_lambda=0.0735294,\n",
    "        min_split_gain=0.0222415,\n",
    "        min_child_weight=39.3259775,\n",
    "        silent=-1,\n",
    "        verbose=-1, )\n",
    "        \n",
    "    clf.fit(train_x, train_y, eval_set=[(train_x, train_y), (valid_x, valid_y)], \n",
    "            eval_metric= 'auc', verbose= 200, early_stopping_rounds= 200)\n",
    "\n",
    "    oof_preds[valid_idx] = clf.predict_proba(valid_x, num_iteration=clf.best_iteration_)[:, 1]\n",
    "    fold_importance_df = pd.DataFrame()\n",
    "    fold_importance_df[\"feature\"] = feats\n",
    "    fold_importance_df[\"importance\"] = clf.feature_importances_\n",
    "    fold_importance_df[\"fold\"] = n_fold + 1\n",
    "    feature_importance_df = pd.concat([feature_importance_df, fold_importance_df], axis=0)\n",
    "    print('Fold %2d AUC : %.6f' % (n_fold + 1, roc_auc_score(valid_y, oof_preds[valid_idx])))\n",
    "    del clf, train_x, train_y, valid_x, valid_y\n",
    "\n",
    "print('Full AUC score %.6f' % roc_auc_score(train_df['target'], oof_preds))"
   ]
  },
  {
   "cell_type": "code",
   "execution_count": 81,
   "metadata": {
    "ExecuteTime": {
     "end_time": "2021-09-19T16:53:46.345567Z",
     "start_time": "2021-09-19T16:53:46.322740Z"
    }
   },
   "outputs": [
    {
     "name": "stdout",
     "output_type": "stream",
     "text": [
      "Full AUC score 0.690965\n"
     ]
    }
   ],
   "source": [
    "print('Full AUC score %.6f' % roc_auc_score(train_df['target'], oof_preds))"
   ]
  },
  {
   "cell_type": "code",
   "execution_count": 82,
   "metadata": {
    "ExecuteTime": {
     "end_time": "2021-09-19T16:53:56.698338Z",
     "start_time": "2021-09-19T16:53:52.013780Z"
    }
   },
   "outputs": [
    {
     "data": {
      "image/png": "[encoded data removed]",
      "text/plain": [
       "<Figure size 1440x1800 with 1 Axes>"
      ]
     },
     "metadata": {
      "needs_background": "light"
     },
     "output_type": "display_data"
    }
   ],
   "source": [
    "display_importances(feature_importance_df)"
   ]
  },
  {
   "cell_type": "markdown",
   "metadata": {},
   "source": [
    "# Commented"
   ]
  },
  {
   "cell_type": "code",
   "execution_count": 32,
   "metadata": {
    "ExecuteTime": {
     "end_time": "2021-09-11T21:18:58.198466Z",
     "start_time": "2021-09-11T21:03:10.343928Z"
    }
   },
   "outputs": [
    {
     "name": "stderr",
     "output_type": "stream",
     "text": [
      "100%|██████████| 1654637/1654637 [15:47<00:00, 1745.68it/s]\n"
     ]
    }
   ],
   "source": [
    "'''\n",
    "loan_application_id = []\n",
    "name = []\n",
    "price = []\n",
    "quantity = []\n",
    "\n",
    "with tqdm(total=ds_1.shape[0]) as pbar:\n",
    "    for _, row in ds_1.iterrows():\n",
    "        pbar.update(1)\n",
    "        ds_json = pd.DataFrame.from_dict(row[\"cart_items\"])\n",
    "        for i in range(0,ds_json.shape[0]):\n",
    "            loan_application_id.append(row[\"loan_application_id\"])\n",
    "            name.append(ds_json[\"name\"][i])\n",
    "            price.append(ds_json[\"price\"][i])\n",
    "            quantity.append(ds_json[\"quantity\"][i])\n",
    "\n",
    "        #print(ds_json.shape)\n",
    "        #print(ds_json)\n",
    "        #break\n",
    "'''"
   ]
  },
  {
   "cell_type": "code",
   "execution_count": 29,
   "metadata": {
    "ExecuteTime": {
     "end_time": "2021-09-12T16:47:16.422115Z",
     "start_time": "2021-09-12T16:47:13.960698Z"
    }
   },
   "outputs": [],
   "source": [
    "ds_1 = pd.read_csv(\"/home/amadeus/Desktop/kaggle/Yury/Mokka_test/input_data/cart_items.csv\",sep=\";\")"
   ]
  },
  {
   "cell_type": "code",
   "execution_count": 30,
   "metadata": {
    "ExecuteTime": {
     "end_time": "2021-09-12T16:47:57.894304Z",
     "start_time": "2021-09-12T16:47:26.506962Z"
    }
   },
   "outputs": [],
   "source": [
    "ds_1['cart_items']=ds_1['cart_items'].apply(lambda x:eval(x))"
   ]
  },
  {
   "cell_type": "code",
   "execution_count": 32,
   "metadata": {
    "ExecuteTime": {
     "end_time": "2021-09-12T16:48:17.696961Z",
     "start_time": "2021-09-12T16:48:17.693654Z"
    }
   },
   "outputs": [
    {
     "data": {
      "text/plain": [
       "[{'name': 'Смартфон Apple iPhone 8 Plus 64GB\\xa0Space Gray (MQ8L2RU/A)',\n",
       "  'price': '44990',\n",
       "  'quantity': '1'},\n",
       " {'name': 'Чехол для iPhone Apple iPhone 8 Plus / 7 Plus Silicone Black (MQGW2ZM/A)',\n",
       "  'price': '2990',\n",
       "  'quantity': '1'}]"
      ]
     },
     "execution_count": 32,
     "metadata": {},
     "output_type": "execute_result"
    }
   ],
   "source": [
    "ds_1['cart_items'][0]"
   ]
  },
  {
   "cell_type": "code",
   "execution_count": 33,
   "metadata": {
    "ExecuteTime": {
     "end_time": "2021-09-12T16:48:27.603067Z",
     "start_time": "2021-09-12T16:48:27.595705Z"
    }
   },
   "outputs": [
    {
     "data": {
      "text/html": [
       "<div>\n",
       "<style scoped>\n",
       "    .dataframe tbody tr th:only-of-type {\n",
       "        vertical-align: middle;\n",
       "    }\n",
       "\n",
       "    .dataframe tbody tr th {\n",
       "        vertical-align: top;\n",
       "    }\n",
       "\n",
       "    .dataframe thead th {\n",
       "        text-align: right;\n",
       "    }\n",
       "</style>\n",
       "<table border=\"1\" class=\"dataframe\">\n",
       "  <thead>\n",
       "    <tr style=\"text-align: right;\">\n",
       "      <th></th>\n",
       "      <th>loan_application_id</th>\n",
       "      <th>cart_items</th>\n",
       "    </tr>\n",
       "  </thead>\n",
       "  <tbody>\n",
       "  </tbody>\n",
       "</table>\n",
       "</div>"
      ],
      "text/plain": [
       "Empty DataFrame\n",
       "Columns: [loan_application_id, cart_items]\n",
       "Index: []"
      ]
     },
     "execution_count": 33,
     "metadata": {},
     "output_type": "execute_result"
    }
   ],
   "source": [
    "ds_1[ds_1[\"loan_application_id\"] == 10565286]"
   ]
  },
  {
   "cell_type": "code",
   "execution_count": 33,
   "metadata": {
    "ExecuteTime": {
     "end_time": "2021-09-12T12:45:13.567193Z",
     "start_time": "2021-09-12T12:45:11.522174Z"
    }
   },
   "outputs": [],
   "source": [
    "ds_1_amended = pd.DataFrame(list(zip(loan_application_id, name,price,quantity)),\n",
    "               columns =['loan_application_id', 'name', 'price', 'quantity'])"
   ]
  },
  {
   "cell_type": "code",
   "execution_count": 15,
   "metadata": {
    "ExecuteTime": {
     "end_time": "2021-09-10T13:19:56.450808Z",
     "start_time": "2021-09-10T13:19:54.037343Z"
    }
   },
   "outputs": [
    {
     "data": {
      "text/html": [
       "<div>\n",
       "<style scoped>\n",
       "    .dataframe tbody tr th:only-of-type {\n",
       "        vertical-align: middle;\n",
       "    }\n",
       "\n",
       "    .dataframe tbody tr th {\n",
       "        vertical-align: top;\n",
       "    }\n",
       "\n",
       "    .dataframe thead th {\n",
       "        text-align: right;\n",
       "    }\n",
       "</style>\n",
       "<table border=\"1\" class=\"dataframe\">\n",
       "  <thead>\n",
       "    <tr style=\"text-align: right;\">\n",
       "      <th></th>\n",
       "      <th>federal_region_nm</th>\n",
       "      <th>event</th>\n",
       "      <th>total_events</th>\n",
       "      <th>event_rate</th>\n",
       "      <th>perc</th>\n",
       "      <th>total</th>\n",
       "    </tr>\n",
       "  </thead>\n",
       "  <tbody>\n",
       "    <tr>\n",
       "      <th>0</th>\n",
       "      <td>г. Москва</td>\n",
       "      <td>808.0</td>\n",
       "      <td>13706</td>\n",
       "      <td>0.058952</td>\n",
       "      <td>13706</td>\n",
       "      <td>82673</td>\n",
       "    </tr>\n",
       "    <tr>\n",
       "      <th>1</th>\n",
       "      <td>Московская область</td>\n",
       "      <td>265.0</td>\n",
       "      <td>4927</td>\n",
       "      <td>0.053785</td>\n",
       "      <td>4927</td>\n",
       "      <td>82673</td>\n",
       "    </tr>\n",
       "    <tr>\n",
       "      <th>2</th>\n",
       "      <td>Кемеровская область</td>\n",
       "      <td>111.0</td>\n",
       "      <td>3449</td>\n",
       "      <td>0.032183</td>\n",
       "      <td>3449</td>\n",
       "      <td>82673</td>\n",
       "    </tr>\n",
       "    <tr>\n",
       "      <th>3</th>\n",
       "      <td>Краснодарский край</td>\n",
       "      <td>211.0</td>\n",
       "      <td>3339</td>\n",
       "      <td>0.063193</td>\n",
       "      <td>3339</td>\n",
       "      <td>82673</td>\n",
       "    </tr>\n",
       "    <tr>\n",
       "      <th>4</th>\n",
       "      <td>Новосибирская область</td>\n",
       "      <td>88.0</td>\n",
       "      <td>3172</td>\n",
       "      <td>0.027743</td>\n",
       "      <td>3172</td>\n",
       "      <td>82673</td>\n",
       "    </tr>\n",
       "    <tr>\n",
       "      <th>...</th>\n",
       "      <td>...</td>\n",
       "      <td>...</td>\n",
       "      <td>...</td>\n",
       "      <td>...</td>\n",
       "      <td>...</td>\n",
       "      <td>...</td>\n",
       "    </tr>\n",
       "    <tr>\n",
       "      <th>75</th>\n",
       "      <td>Ямало-Ненецкий автономный округ</td>\n",
       "      <td>7.0</td>\n",
       "      <td>38</td>\n",
       "      <td>0.184211</td>\n",
       "      <td>38</td>\n",
       "      <td>82673</td>\n",
       "    </tr>\n",
       "    <tr>\n",
       "      <th>76</th>\n",
       "      <td>Камчатский край</td>\n",
       "      <td>1.0</td>\n",
       "      <td>36</td>\n",
       "      <td>0.027778</td>\n",
       "      <td>36</td>\n",
       "      <td>82673</td>\n",
       "    </tr>\n",
       "    <tr>\n",
       "      <th>77</th>\n",
       "      <td>Еврейская автономная область</td>\n",
       "      <td>1.0</td>\n",
       "      <td>14</td>\n",
       "      <td>0.071429</td>\n",
       "      <td>14</td>\n",
       "      <td>82673</td>\n",
       "    </tr>\n",
       "    <tr>\n",
       "      <th>78</th>\n",
       "      <td>None</td>\n",
       "      <td>3.0</td>\n",
       "      <td>14</td>\n",
       "      <td>0.214286</td>\n",
       "      <td>14</td>\n",
       "      <td>82673</td>\n",
       "    </tr>\n",
       "    <tr>\n",
       "      <th>79</th>\n",
       "      <td>Ненецкий автономный округ</td>\n",
       "      <td>0.0</td>\n",
       "      <td>1</td>\n",
       "      <td>0.000000</td>\n",
       "      <td>1</td>\n",
       "      <td>82673</td>\n",
       "    </tr>\n",
       "  </tbody>\n",
       "</table>\n",
       "<p>80 rows × 6 columns</p>\n",
       "</div>"
      ],
      "text/plain": [
       "                  federal_region_nm  event  total_events  event_rate   perc  \\\n",
       "0                         г. Москва  808.0         13706    0.058952  13706   \n",
       "1                Московская область  265.0          4927    0.053785   4927   \n",
       "2               Кемеровская область  111.0          3449    0.032183   3449   \n",
       "3                Краснодарский край  211.0          3339    0.063193   3339   \n",
       "4             Новосибирская область   88.0          3172    0.027743   3172   \n",
       "..                              ...    ...           ...         ...    ...   \n",
       "75  Ямало-Ненецкий автономный округ    7.0            38    0.184211     38   \n",
       "76                  Камчатский край    1.0            36    0.027778     36   \n",
       "77     Еврейская автономная область    1.0            14    0.071429     14   \n",
       "78                             None    3.0            14    0.214286     14   \n",
       "79        Ненецкий автономный округ    0.0             1    0.000000      1   \n",
       "\n",
       "    total  \n",
       "0   82673  \n",
       "1   82673  \n",
       "2   82673  \n",
       "3   82673  \n",
       "4   82673  \n",
       "..    ...  \n",
       "75  82673  \n",
       "76  82673  \n",
       "77  82673  \n",
       "78  82673  \n",
       "79  82673  \n",
       "\n",
       "[80 rows x 6 columns]"
      ]
     },
     "execution_count": 15,
     "metadata": {},
     "output_type": "execute_result"
    }
   ],
   "source": [
    "sqldf(\n",
    "    '''\n",
    "SELECT \n",
    "    federal_region_nm\n",
    "    ,SUM(target) AS event\n",
    "    ,COUNT(target) AS total_events\n",
    "    ,SUM(target)/COUNT(target) AS event_rate\n",
    "    ,(COUNT(target) ) AS perc\n",
    "    ,(SELECT COUNT(target) FROM DS_EDA) AS total\n",
    "FROM \n",
    "    DS_EDA\n",
    "GROUP BY\n",
    "    federal_region_nm\n",
    "ORDER BY\n",
    "    total_events DESC        \n",
    "''')"
   ]
  },
  {
   "cell_type": "code",
   "execution_count": 24,
   "metadata": {
    "ExecuteTime": {
     "end_time": "2021-09-12T14:04:37.431587Z",
     "start_time": "2021-09-12T14:04:06.671676Z"
    }
   },
   "outputs": [
    {
     "data": {
      "text/html": [
       "<div>\n",
       "<style scoped>\n",
       "    .dataframe tbody tr th:only-of-type {\n",
       "        vertical-align: middle;\n",
       "    }\n",
       "\n",
       "    .dataframe tbody tr th {\n",
       "        vertical-align: top;\n",
       "    }\n",
       "\n",
       "    .dataframe thead th {\n",
       "        text-align: right;\n",
       "    }\n",
       "</style>\n",
       "<table border=\"1\" class=\"dataframe\">\n",
       "  <thead>\n",
       "    <tr style=\"text-align: right;\">\n",
       "      <th></th>\n",
       "      <th>client_id</th>\n",
       "      <th>client_count</th>\n",
       "      <th>sum(target)</th>\n",
       "    </tr>\n",
       "  </thead>\n",
       "  <tbody>\n",
       "    <tr>\n",
       "      <th>0</th>\n",
       "      <td>22872</td>\n",
       "      <td>1</td>\n",
       "      <td>NaN</td>\n",
       "    </tr>\n",
       "    <tr>\n",
       "      <th>1</th>\n",
       "      <td>38866</td>\n",
       "      <td>1</td>\n",
       "      <td>NaN</td>\n",
       "    </tr>\n",
       "    <tr>\n",
       "      <th>2</th>\n",
       "      <td>69080</td>\n",
       "      <td>1</td>\n",
       "      <td>NaN</td>\n",
       "    </tr>\n",
       "    <tr>\n",
       "      <th>3</th>\n",
       "      <td>72911</td>\n",
       "      <td>1</td>\n",
       "      <td>0.0</td>\n",
       "    </tr>\n",
       "    <tr>\n",
       "      <th>4</th>\n",
       "      <td>78191</td>\n",
       "      <td>1</td>\n",
       "      <td>NaN</td>\n",
       "    </tr>\n",
       "    <tr>\n",
       "      <th>...</th>\n",
       "      <td>...</td>\n",
       "      <td>...</td>\n",
       "      <td>...</td>\n",
       "    </tr>\n",
       "    <tr>\n",
       "      <th>1091606</th>\n",
       "      <td>601729</td>\n",
       "      <td>18</td>\n",
       "      <td>NaN</td>\n",
       "    </tr>\n",
       "    <tr>\n",
       "      <th>1091607</th>\n",
       "      <td>2567924</td>\n",
       "      <td>18</td>\n",
       "      <td>NaN</td>\n",
       "    </tr>\n",
       "    <tr>\n",
       "      <th>1091608</th>\n",
       "      <td>279502</td>\n",
       "      <td>20</td>\n",
       "      <td>NaN</td>\n",
       "    </tr>\n",
       "    <tr>\n",
       "      <th>1091609</th>\n",
       "      <td>2327833</td>\n",
       "      <td>24</td>\n",
       "      <td>NaN</td>\n",
       "    </tr>\n",
       "    <tr>\n",
       "      <th>1091610</th>\n",
       "      <td>1464215</td>\n",
       "      <td>31</td>\n",
       "      <td>NaN</td>\n",
       "    </tr>\n",
       "  </tbody>\n",
       "</table>\n",
       "<p>1091611 rows × 3 columns</p>\n",
       "</div>"
      ],
      "text/plain": [
       "         client_id  client_count  sum(target)\n",
       "0            22872             1          NaN\n",
       "1            38866             1          NaN\n",
       "2            69080             1          NaN\n",
       "3            72911             1          0.0\n",
       "4            78191             1          NaN\n",
       "...            ...           ...          ...\n",
       "1091606     601729            18          NaN\n",
       "1091607    2567924            18          NaN\n",
       "1091608     279502            20          NaN\n",
       "1091609    2327833            24          NaN\n",
       "1091610    1464215            31          NaN\n",
       "\n",
       "[1091611 rows x 3 columns]"
      ]
     },
     "execution_count": 24,
     "metadata": {},
     "output_type": "execute_result"
    }
   ],
   "source": [
    "sqldf(\n",
    "'''\n",
    "SELECT\n",
    "    target\n",
    "    ,application_repeat_type\n",
    "    ,COUNT(*) AS CNT\n",
    "FROM\n",
    "    ds_2\n",
    "GROUP BY\n",
    "    target\n",
    "    ,application_repeat_type\n",
    "'''\n",
    ")\n",
    "\n",
    "sqldf(\n",
    "'''\n",
    "\n",
    "SELECT\n",
    "    client_id\n",
    "    ,COUNT(client_id) client_count\n",
    "    ,sum(target) tar\n",
    "FROM\n",
    "    AGGREGATED_DS\n",
    "GROUP BY\n",
    "    client_id\n",
    "ORDER BY\n",
    "    client_count\n",
    "'''\n",
    ")\n",
    "\n",
    "sqldf(\n",
    "'''\n",
    "SELECT\n",
    "    *\n",
    "FROM\n",
    "    AGGREGATED_DS\n",
    "WHERE\n",
    "    1 = 1\n",
    "    AND client_id = 601729\n",
    "'''\n",
    ")"
   ]
  },
  {
   "cell_type": "code",
   "execution_count": 36,
   "metadata": {
    "ExecuteTime": {
     "end_time": "2021-09-12T12:46:25.719574Z",
     "start_time": "2021-09-12T12:46:19.033682Z"
    }
   },
   "outputs": [],
   "source": [
    "ds_1_amended.to_csv(\"/home/amadeus/Desktop/kaggle/Yury/Mokka_test/input_data/cart_items_amended.csv\")"
   ]
  },
  {
   "cell_type": "code",
   "execution_count": 16,
   "metadata": {
    "ExecuteTime": {
     "end_time": "2021-09-10T13:20:08.877274Z",
     "start_time": "2021-09-10T13:20:06.478834Z"
    }
   },
   "outputs": [
    {
     "data": {
      "text/html": [
       "<div>\n",
       "<style scoped>\n",
       "    .dataframe tbody tr th:only-of-type {\n",
       "        vertical-align: middle;\n",
       "    }\n",
       "\n",
       "    .dataframe tbody tr th {\n",
       "        vertical-align: top;\n",
       "    }\n",
       "\n",
       "    .dataframe thead th {\n",
       "        text-align: right;\n",
       "    }\n",
       "</style>\n",
       "<table border=\"1\" class=\"dataframe\">\n",
       "  <thead>\n",
       "    <tr style=\"text-align: right;\">\n",
       "      <th></th>\n",
       "      <th>channel_type</th>\n",
       "      <th>event</th>\n",
       "      <th>total_events</th>\n",
       "      <th>event_rate</th>\n",
       "      <th>perc</th>\n",
       "      <th>total</th>\n",
       "    </tr>\n",
       "  </thead>\n",
       "  <tbody>\n",
       "    <tr>\n",
       "      <th>0</th>\n",
       "      <td>Offline</td>\n",
       "      <td>2891.0</td>\n",
       "      <td>62492</td>\n",
       "      <td>0.046262</td>\n",
       "      <td>62492</td>\n",
       "      <td>82673</td>\n",
       "    </tr>\n",
       "    <tr>\n",
       "      <th>1</th>\n",
       "      <td>Online</td>\n",
       "      <td>967.0</td>\n",
       "      <td>17166</td>\n",
       "      <td>0.056332</td>\n",
       "      <td>17166</td>\n",
       "      <td>82673</td>\n",
       "    </tr>\n",
       "    <tr>\n",
       "      <th>2</th>\n",
       "      <td>Full_online</td>\n",
       "      <td>271.0</td>\n",
       "      <td>3015</td>\n",
       "      <td>0.089884</td>\n",
       "      <td>3015</td>\n",
       "      <td>82673</td>\n",
       "    </tr>\n",
       "  </tbody>\n",
       "</table>\n",
       "</div>"
      ],
      "text/plain": [
       "  channel_type   event  total_events  event_rate   perc  total\n",
       "0      Offline  2891.0         62492    0.046262  62492  82673\n",
       "1       Online   967.0         17166    0.056332  17166  82673\n",
       "2  Full_online   271.0          3015    0.089884   3015  82673"
      ]
     },
     "execution_count": 16,
     "metadata": {},
     "output_type": "execute_result"
    }
   ],
   "source": [
    "sqldf(\n",
    "    '''\n",
    "select \n",
    "    channel_type\n",
    "    ,sum(target) as event\n",
    "    ,count(target) as total_events\n",
    "    ,sum(target)/count(target) as event_rate\n",
    "    ,(count(target) ) as perc\n",
    "    ,(select count(target) from DS_EDA) as total\n",
    "from \n",
    "    DS_EDA\n",
    "group by\n",
    "    channel_type\n",
    "order by\n",
    "    total_events desc        \n",
    "''')"
   ]
  },
  {
   "cell_type": "code",
   "execution_count": 17,
   "metadata": {
    "ExecuteTime": {
     "end_time": "2021-09-10T13:20:21.887759Z",
     "start_time": "2021-09-10T13:20:19.415089Z"
    }
   },
   "outputs": [
    {
     "data": {
      "text/html": [
       "<div>\n",
       "<style scoped>\n",
       "    .dataframe tbody tr th:only-of-type {\n",
       "        vertical-align: middle;\n",
       "    }\n",
       "\n",
       "    .dataframe tbody tr th {\n",
       "        vertical-align: top;\n",
       "    }\n",
       "\n",
       "    .dataframe thead th {\n",
       "        text-align: right;\n",
       "    }\n",
       "</style>\n",
       "<table border=\"1\" class=\"dataframe\">\n",
       "  <thead>\n",
       "    <tr style=\"text-align: right;\">\n",
       "      <th></th>\n",
       "      <th>birth_dt</th>\n",
       "      <th>event</th>\n",
       "      <th>total_events</th>\n",
       "      <th>event_rate</th>\n",
       "      <th>perc</th>\n",
       "      <th>total</th>\n",
       "    </tr>\n",
       "  </thead>\n",
       "  <tbody>\n",
       "    <tr>\n",
       "      <th>0</th>\n",
       "      <td>1987-11-03</td>\n",
       "      <td>0.0</td>\n",
       "      <td>20</td>\n",
       "      <td>0.000000</td>\n",
       "      <td>20</td>\n",
       "      <td>82673</td>\n",
       "    </tr>\n",
       "    <tr>\n",
       "      <th>1</th>\n",
       "      <td>1988-10-04</td>\n",
       "      <td>0.0</td>\n",
       "      <td>19</td>\n",
       "      <td>0.000000</td>\n",
       "      <td>19</td>\n",
       "      <td>82673</td>\n",
       "    </tr>\n",
       "    <tr>\n",
       "      <th>2</th>\n",
       "      <td>1987-01-09</td>\n",
       "      <td>1.0</td>\n",
       "      <td>19</td>\n",
       "      <td>0.052632</td>\n",
       "      <td>19</td>\n",
       "      <td>82673</td>\n",
       "    </tr>\n",
       "    <tr>\n",
       "      <th>3</th>\n",
       "      <td>1986-11-07</td>\n",
       "      <td>0.0</td>\n",
       "      <td>19</td>\n",
       "      <td>0.000000</td>\n",
       "      <td>19</td>\n",
       "      <td>82673</td>\n",
       "    </tr>\n",
       "    <tr>\n",
       "      <th>4</th>\n",
       "      <td>1990-04-17</td>\n",
       "      <td>2.0</td>\n",
       "      <td>18</td>\n",
       "      <td>0.111111</td>\n",
       "      <td>18</td>\n",
       "      <td>82673</td>\n",
       "    </tr>\n",
       "    <tr>\n",
       "      <th>...</th>\n",
       "      <td>...</td>\n",
       "      <td>...</td>\n",
       "      <td>...</td>\n",
       "      <td>...</td>\n",
       "      <td>...</td>\n",
       "      <td>...</td>\n",
       "    </tr>\n",
       "    <tr>\n",
       "      <th>18260</th>\n",
       "      <td>1941-07-04</td>\n",
       "      <td>0.0</td>\n",
       "      <td>1</td>\n",
       "      <td>0.000000</td>\n",
       "      <td>1</td>\n",
       "      <td>82673</td>\n",
       "    </tr>\n",
       "    <tr>\n",
       "      <th>18261</th>\n",
       "      <td>1884-07-19</td>\n",
       "      <td>0.0</td>\n",
       "      <td>1</td>\n",
       "      <td>0.000000</td>\n",
       "      <td>1</td>\n",
       "      <td>82673</td>\n",
       "    </tr>\n",
       "    <tr>\n",
       "      <th>18262</th>\n",
       "      <td>1198-06-21</td>\n",
       "      <td>0.0</td>\n",
       "      <td>1</td>\n",
       "      <td>0.000000</td>\n",
       "      <td>1</td>\n",
       "      <td>82673</td>\n",
       "    </tr>\n",
       "    <tr>\n",
       "      <th>18263</th>\n",
       "      <td>1070-03-11</td>\n",
       "      <td>0.0</td>\n",
       "      <td>1</td>\n",
       "      <td>0.000000</td>\n",
       "      <td>1</td>\n",
       "      <td>82673</td>\n",
       "    </tr>\n",
       "    <tr>\n",
       "      <th>18264</th>\n",
       "      <td>0519-09-09</td>\n",
       "      <td>0.0</td>\n",
       "      <td>1</td>\n",
       "      <td>0.000000</td>\n",
       "      <td>1</td>\n",
       "      <td>82673</td>\n",
       "    </tr>\n",
       "  </tbody>\n",
       "</table>\n",
       "<p>18265 rows × 6 columns</p>\n",
       "</div>"
      ],
      "text/plain": [
       "         birth_dt  event  total_events  event_rate  perc  total\n",
       "0      1987-11-03    0.0            20    0.000000    20  82673\n",
       "1      1988-10-04    0.0            19    0.000000    19  82673\n",
       "2      1987-01-09    1.0            19    0.052632    19  82673\n",
       "3      1986-11-07    0.0            19    0.000000    19  82673\n",
       "4      1990-04-17    2.0            18    0.111111    18  82673\n",
       "...           ...    ...           ...         ...   ...    ...\n",
       "18260  1941-07-04    0.0             1    0.000000     1  82673\n",
       "18261  1884-07-19    0.0             1    0.000000     1  82673\n",
       "18262  1198-06-21    0.0             1    0.000000     1  82673\n",
       "18263  1070-03-11    0.0             1    0.000000     1  82673\n",
       "18264  0519-09-09    0.0             1    0.000000     1  82673\n",
       "\n",
       "[18265 rows x 6 columns]"
      ]
     },
     "execution_count": 17,
     "metadata": {},
     "output_type": "execute_result"
    }
   ],
   "source": [
    "sqldf(\n",
    "    '''\n",
    "select \n",
    "    birth_dt\n",
    "    ,sum(target) as event\n",
    "    ,count(target) as total_events\n",
    "    ,sum(target)/count(target) as event_rate\n",
    "    ,(count(target) ) as perc\n",
    "    ,(select count(target) from DS_EDA) as total\n",
    "from \n",
    "    DS_EDA\n",
    "group by\n",
    "    birth_dt\n",
    "order by\n",
    "    total_events desc        \n",
    "''')"
   ]
  }
 ],
 "metadata": {
  "kernelspec": {
   "display_name": "Python 3",
   "language": "python",
   "name": "python3"
  },
  "language_info": {
   "codemirror_mode": {
    "name": "ipython",
    "version": 3
   },
   "file_extension": ".py",
   "mimetype": "text/x-python",
   "name": "python",
   "nbconvert_exporter": "python",
   "pygments_lexer": "ipython3",
   "version": "3.8.5"
  },
  "varInspector": {
   "cols": {
    "lenName": "20",
    "lenType": 16,
    "lenVar": 40
   },
   "kernels_config": {
    "python": {
     "delete_cmd_postfix": "",
     "delete_cmd_prefix": "del ",
     "library": "var_list.py",
     "varRefreshCmd": "print(var_dic_list())"
    },
    "r": {
     "delete_cmd_postfix": ") ",
     "delete_cmd_prefix": "rm(",
     "library": "var_list.r",
     "varRefreshCmd": "cat(var_dic_list()) "
    }
   },
   "oldHeight": 122,
   "position": {
    "height": "40px",
    "left": "1004px",
    "right": "20px",
    "top": "120px",
    "width": "250px"
   },
   "types_to_exclude": [
    "module",
    "function",
    "builtin_function_or_method",
    "instance",
    "_Feature"
   ],
   "varInspector_section_display": "none",
   "window_display": true
  }
 },
 "nbformat": 4,
 "nbformat_minor": 4
}
