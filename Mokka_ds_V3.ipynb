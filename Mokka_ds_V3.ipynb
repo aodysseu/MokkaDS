{
 "cells": [
  {
   "cell_type": "code",
   "execution_count": 1,
   "metadata": {
    "ExecuteTime": {
     "end_time": "2021-09-12T18:25:40.606646Z",
     "start_time": "2021-09-12T18:25:39.900264Z"
    }
   },
   "outputs": [],
   "source": [
    "import pandas as pd\n",
    "from pandasql import sqldf\n",
    "from xgboost import XGBClassifier\n",
    "from sklearn.metrics import roc_auc_score, roc_curve\n",
    "from sklearn.model_selection import KFold, StratifiedKFold\n",
    "from lightgbm import LGBMClassifier\n",
    "import json\n",
    "from tqdm import tqdm\n",
    "import matplotlib.pyplot as plt\n",
    "import seaborn as sns\n",
    "import warnings\n",
    "warnings.filterwarnings(\"ignore\")"
   ]
  },
  {
   "cell_type": "code",
   "execution_count": 2,
   "metadata": {
    "ExecuteTime": {
     "end_time": "2021-09-12T18:25:42.676642Z",
     "start_time": "2021-09-12T18:25:40.679200Z"
    }
   },
   "outputs": [
    {
     "data": {
      "text/html": [
       "<div>\n",
       "<style scoped>\n",
       "    .dataframe tbody tr th:only-of-type {\n",
       "        vertical-align: middle;\n",
       "    }\n",
       "\n",
       "    .dataframe tbody tr th {\n",
       "        vertical-align: top;\n",
       "    }\n",
       "\n",
       "    .dataframe thead th {\n",
       "        text-align: right;\n",
       "    }\n",
       "</style>\n",
       "<table border=\"1\" class=\"dataframe\">\n",
       "  <thead>\n",
       "    <tr style=\"text-align: right;\">\n",
       "      <th></th>\n",
       "      <th>loan_application_id</th>\n",
       "      <th>name</th>\n",
       "      <th>price</th>\n",
       "      <th>quantity</th>\n",
       "    </tr>\n",
       "  </thead>\n",
       "  <tbody>\n",
       "    <tr>\n",
       "      <th>0</th>\n",
       "      <td>7397173</td>\n",
       "      <td>Смартфон Apple iPhone 8 Plus 64GB Space Gray (...</td>\n",
       "      <td>44990.0</td>\n",
       "      <td>1</td>\n",
       "    </tr>\n",
       "    <tr>\n",
       "      <th>1</th>\n",
       "      <td>7397173</td>\n",
       "      <td>Чехол для iPhone Apple iPhone 8 Plus / 7 Plus ...</td>\n",
       "      <td>2990.0</td>\n",
       "      <td>1</td>\n",
       "    </tr>\n",
       "    <tr>\n",
       "      <th>2</th>\n",
       "      <td>7397174</td>\n",
       "      <td>Телевизор LG 32LK510</td>\n",
       "      <td>14990.0</td>\n",
       "      <td>1</td>\n",
       "    </tr>\n",
       "    <tr>\n",
       "      <th>3</th>\n",
       "      <td>7397177</td>\n",
       "      <td>Ноутбук Apple MacBook Air 13 i5 1.8/8Gb/128SSD...</td>\n",
       "      <td>64490.0</td>\n",
       "      <td>1</td>\n",
       "    </tr>\n",
       "    <tr>\n",
       "      <th>4</th>\n",
       "      <td>7397197</td>\n",
       "      <td>Стиральная машина CANDY CS4 1051D1/2-07, фронт...</td>\n",
       "      <td>12470.0</td>\n",
       "      <td>1</td>\n",
       "    </tr>\n",
       "  </tbody>\n",
       "</table>\n",
       "</div>"
      ],
      "text/plain": [
       "   loan_application_id                                               name  \\\n",
       "0              7397173  Смартфон Apple iPhone 8 Plus 64GB Space Gray (...   \n",
       "1              7397173  Чехол для iPhone Apple iPhone 8 Plus / 7 Plus ...   \n",
       "2              7397174                               Телевизор LG 32LK510   \n",
       "3              7397177  Ноутбук Apple MacBook Air 13 i5 1.8/8Gb/128SSD...   \n",
       "4              7397197  Стиральная машина CANDY CS4 1051D1/2-07, фронт...   \n",
       "\n",
       "     price  quantity  \n",
       "0  44990.0         1  \n",
       "1   2990.0         1  \n",
       "2  14990.0         1  \n",
       "3  64490.0         1  \n",
       "4  12470.0         1  "
      ]
     },
     "execution_count": 2,
     "metadata": {},
     "output_type": "execute_result"
    }
   ],
   "source": [
    "ds_1 = pd.read_csv(\"/home/amadeus/Desktop/kaggle/Yury/Mokka_test/input_data/cart_items_amended.csv\")\n",
    "ds_1.drop(['Unnamed: 0'], axis=1, inplace = True)\n",
    "ds_1.head()"
   ]
  },
  {
   "cell_type": "code",
   "execution_count": 3,
   "metadata": {
    "ExecuteTime": {
     "end_time": "2021-09-12T18:25:42.839404Z",
     "start_time": "2021-09-12T18:25:42.824709Z"
    }
   },
   "outputs": [
    {
     "data": {
      "text/html": [
       "<div>\n",
       "<style scoped>\n",
       "    .dataframe tbody tr th:only-of-type {\n",
       "        vertical-align: middle;\n",
       "    }\n",
       "\n",
       "    .dataframe tbody tr th {\n",
       "        vertical-align: top;\n",
       "    }\n",
       "\n",
       "    .dataframe thead th {\n",
       "        text-align: right;\n",
       "    }\n",
       "</style>\n",
       "<table border=\"1\" class=\"dataframe\">\n",
       "  <thead>\n",
       "    <tr style=\"text-align: right;\">\n",
       "      <th></th>\n",
       "      <th>loan_application_id</th>\n",
       "      <th>name</th>\n",
       "      <th>price</th>\n",
       "      <th>quantity</th>\n",
       "    </tr>\n",
       "  </thead>\n",
       "  <tbody>\n",
       "  </tbody>\n",
       "</table>\n",
       "</div>"
      ],
      "text/plain": [
       "Empty DataFrame\n",
       "Columns: [loan_application_id, name, price, quantity]\n",
       "Index: []"
      ]
     },
     "execution_count": 3,
     "metadata": {},
     "output_type": "execute_result"
    }
   ],
   "source": [
    "ds_1[ds_1[\"loan_application_id\"] == 10565286]"
   ]
  },
  {
   "cell_type": "code",
   "execution_count": 4,
   "metadata": {
    "ExecuteTime": {
     "end_time": "2021-09-12T18:26:00.856542Z",
     "start_time": "2021-09-12T18:25:42.995337Z"
    }
   },
   "outputs": [],
   "source": [
    "ds_2 = pd.read_csv(\"/home/amadeus/Desktop/kaggle/Yury/Mokka_test/input_data/apps.csv\",sep=';', engine=\"python\", encoding='cp1251')"
   ]
  },
  {
   "cell_type": "code",
   "execution_count": 5,
   "metadata": {
    "ExecuteTime": {
     "end_time": "2021-09-12T18:26:09.131364Z",
     "start_time": "2021-09-12T18:26:09.116879Z"
    }
   },
   "outputs": [
    {
     "data": {
      "text/html": [
       "<div>\n",
       "<style scoped>\n",
       "    .dataframe tbody tr th:only-of-type {\n",
       "        vertical-align: middle;\n",
       "    }\n",
       "\n",
       "    .dataframe tbody tr th {\n",
       "        vertical-align: top;\n",
       "    }\n",
       "\n",
       "    .dataframe thead th {\n",
       "        text-align: right;\n",
       "    }\n",
       "</style>\n",
       "<table border=\"1\" class=\"dataframe\">\n",
       "  <thead>\n",
       "    <tr style=\"text-align: right;\">\n",
       "      <th></th>\n",
       "      <th>target</th>\n",
       "      <th>loan_application_id</th>\n",
       "      <th>client_id</th>\n",
       "      <th>loan_application_key</th>\n",
       "      <th>previous_application_with_fico_key</th>\n",
       "      <th>federal_region_nm</th>\n",
       "      <th>city_nm</th>\n",
       "      <th>chain_nm</th>\n",
       "      <th>first_chain_nm</th>\n",
       "      <th>first_store_nm</th>\n",
       "      <th>...</th>\n",
       "      <th>application_dttm</th>\n",
       "      <th>application_amt</th>\n",
       "      <th>application_repeat_type</th>\n",
       "      <th>approved_flg</th>\n",
       "      <th>conversion_flg</th>\n",
       "      <th>loan_key</th>\n",
       "      <th>loan_order_num</th>\n",
       "      <th>start_dt</th>\n",
       "      <th>principal_amt</th>\n",
       "      <th>birth_dt</th>\n",
       "    </tr>\n",
       "  </thead>\n",
       "  <tbody>\n",
       "    <tr>\n",
       "      <th>0</th>\n",
       "      <td>NaN</td>\n",
       "      <td>10566042</td>\n",
       "      <td>4272096</td>\n",
       "      <td>10518421</td>\n",
       "      <td>10510793</td>\n",
       "      <td>Волгоградская область</td>\n",
       "      <td>Волгоград</td>\n",
       "      <td>Eldorado DirectCredit pick-up</td>\n",
       "      <td>Mvideo DirectCredit pick-up</td>\n",
       "      <td>PUMVD390YUG</td>\n",
       "      <td>...</td>\n",
       "      <td>2020-03-31 10:47:47</td>\n",
       "      <td>1</td>\n",
       "      <td>preapplication</td>\n",
       "      <td>0</td>\n",
       "      <td>0</td>\n",
       "      <td>NaN</td>\n",
       "      <td>0</td>\n",
       "      <td>NaN</td>\n",
       "      <td>NaN</td>\n",
       "      <td>1994-05-19</td>\n",
       "    </tr>\n",
       "    <tr>\n",
       "      <th>1</th>\n",
       "      <td>NaN</td>\n",
       "      <td>10566033</td>\n",
       "      <td>4272187</td>\n",
       "      <td>10518412</td>\n",
       "      <td>10518412</td>\n",
       "      <td>Томская область</td>\n",
       "      <td>Томск</td>\n",
       "      <td>Mvideo DirectCredit pick-up</td>\n",
       "      <td>Mvideo DirectCredit pick-up</td>\n",
       "      <td>PUMVD642SIB</td>\n",
       "      <td>...</td>\n",
       "      <td>2020-03-31 10:47:09</td>\n",
       "      <td>1</td>\n",
       "      <td>preapplication</td>\n",
       "      <td>1</td>\n",
       "      <td>0</td>\n",
       "      <td>NaN</td>\n",
       "      <td>0</td>\n",
       "      <td>NaN</td>\n",
       "      <td>NaN</td>\n",
       "      <td>1978-11-03</td>\n",
       "    </tr>\n",
       "    <tr>\n",
       "      <th>2</th>\n",
       "      <td>NaN</td>\n",
       "      <td>10566031</td>\n",
       "      <td>4272184</td>\n",
       "      <td>10518410</td>\n",
       "      <td>10518410</td>\n",
       "      <td>г. Москва</td>\n",
       "      <td>Москва</td>\n",
       "      <td>Рево Client App</td>\n",
       "      <td>Рево Client App</td>\n",
       "      <td>Рево Client App</td>\n",
       "      <td>...</td>\n",
       "      <td>2020-03-31 10:47:07</td>\n",
       "      <td>1</td>\n",
       "      <td>preapplication</td>\n",
       "      <td>1</td>\n",
       "      <td>0</td>\n",
       "      <td>NaN</td>\n",
       "      <td>0</td>\n",
       "      <td>NaN</td>\n",
       "      <td>NaN</td>\n",
       "      <td>1996-11-05</td>\n",
       "    </tr>\n",
       "    <tr>\n",
       "      <th>3</th>\n",
       "      <td>NaN</td>\n",
       "      <td>10566028</td>\n",
       "      <td>4272118</td>\n",
       "      <td>10518407</td>\n",
       "      <td>10510936</td>\n",
       "      <td>г. Москва</td>\n",
       "      <td>Москва</td>\n",
       "      <td>Рево Client App</td>\n",
       "      <td>Детский Мир</td>\n",
       "      <td>DM1632VOL</td>\n",
       "      <td>...</td>\n",
       "      <td>2020-03-31 10:47:00</td>\n",
       "      <td>1</td>\n",
       "      <td>preapplication</td>\n",
       "      <td>0</td>\n",
       "      <td>0</td>\n",
       "      <td>NaN</td>\n",
       "      <td>1</td>\n",
       "      <td>NaN</td>\n",
       "      <td>NaN</td>\n",
       "      <td>1989-09-26</td>\n",
       "    </tr>\n",
       "    <tr>\n",
       "      <th>4</th>\n",
       "      <td>NaN</td>\n",
       "      <td>10566026</td>\n",
       "      <td>4272186</td>\n",
       "      <td>10518405</td>\n",
       "      <td>10518405</td>\n",
       "      <td>Свердловская область</td>\n",
       "      <td>Екатеринбург</td>\n",
       "      <td>Eldorado DirectCredit pick-up</td>\n",
       "      <td>Eldorado DirectCredit pick-up</td>\n",
       "      <td>PUELA671URL</td>\n",
       "      <td>...</td>\n",
       "      <td>2020-03-31 10:46:51</td>\n",
       "      <td>1</td>\n",
       "      <td>preapplication</td>\n",
       "      <td>0</td>\n",
       "      <td>0</td>\n",
       "      <td>NaN</td>\n",
       "      <td>0</td>\n",
       "      <td>NaN</td>\n",
       "      <td>NaN</td>\n",
       "      <td>1998-11-30</td>\n",
       "    </tr>\n",
       "  </tbody>\n",
       "</table>\n",
       "<p>5 rows × 21 columns</p>\n",
       "</div>"
      ],
      "text/plain": [
       "   target  loan_application_id  client_id  loan_application_key  \\\n",
       "0     NaN             10566042    4272096              10518421   \n",
       "1     NaN             10566033    4272187              10518412   \n",
       "2     NaN             10566031    4272184              10518410   \n",
       "3     NaN             10566028    4272118              10518407   \n",
       "4     NaN             10566026    4272186              10518405   \n",
       "\n",
       "   previous_application_with_fico_key      federal_region_nm       city_nm  \\\n",
       "0                            10510793  Волгоградская область     Волгоград   \n",
       "1                            10518412        Томская область         Томск   \n",
       "2                            10518410              г. Москва        Москва   \n",
       "3                            10510936              г. Москва        Москва   \n",
       "4                            10518405   Свердловская область  Екатеринбург   \n",
       "\n",
       "                        chain_nm                 first_chain_nm  \\\n",
       "0  Eldorado DirectCredit pick-up    Mvideo DirectCredit pick-up   \n",
       "1    Mvideo DirectCredit pick-up    Mvideo DirectCredit pick-up   \n",
       "2                Рево Client App                Рево Client App   \n",
       "3                Рево Client App                    Детский Мир   \n",
       "4  Eldorado DirectCredit pick-up  Eldorado DirectCredit pick-up   \n",
       "\n",
       "    first_store_nm  ...     application_dttm application_amt  \\\n",
       "0      PUMVD390YUG  ...  2020-03-31 10:47:47               1   \n",
       "1      PUMVD642SIB  ...  2020-03-31 10:47:09               1   \n",
       "2  Рево Client App  ...  2020-03-31 10:47:07               1   \n",
       "3        DM1632VOL  ...  2020-03-31 10:47:00               1   \n",
       "4      PUELA671URL  ...  2020-03-31 10:46:51               1   \n",
       "\n",
       "  application_repeat_type approved_flg  conversion_flg  loan_key  \\\n",
       "0          preapplication            0               0       NaN   \n",
       "1          preapplication            1               0       NaN   \n",
       "2          preapplication            1               0       NaN   \n",
       "3          preapplication            0               0       NaN   \n",
       "4          preapplication            0               0       NaN   \n",
       "\n",
       "   loan_order_num  start_dt principal_amt    birth_dt  \n",
       "0               0       NaN           NaN  1994-05-19  \n",
       "1               0       NaN           NaN  1978-11-03  \n",
       "2               0       NaN           NaN  1996-11-05  \n",
       "3               1       NaN           NaN  1989-09-26  \n",
       "4               0       NaN           NaN  1998-11-30  \n",
       "\n",
       "[5 rows x 21 columns]"
      ]
     },
     "execution_count": 5,
     "metadata": {},
     "output_type": "execute_result"
    }
   ],
   "source": [
    "ds_2.head()"
   ]
  },
  {
   "cell_type": "markdown",
   "metadata": {},
   "source": [
    "# Data cleaning and merging"
   ]
  },
  {
   "cell_type": "code",
   "execution_count": 6,
   "metadata": {
    "ExecuteTime": {
     "end_time": "2021-09-12T18:27:11.267133Z",
     "start_time": "2021-09-12T18:26:17.374565Z"
    }
   },
   "outputs": [],
   "source": [
    "dataset = sqldf(\n",
    "'''\n",
    "SELECT\n",
    "    DS2.*\n",
    "    ,DS1.quantity\n",
    "    ,DS1.total_price\n",
    "    ,DS1.min_price\n",
    "    ,DS1.max_price\n",
    "    ,DS1.avg_price\n",
    "FROM\n",
    "    ds_2 DS2\n",
    "LEFT JOIN\n",
    "(\n",
    "    SELECT\n",
    "        loan_application_id\n",
    "        ,SUM(quantity) AS quantity\n",
    "        ,SUM(price) AS total_price\n",
    "        ,MIN(price) AS min_price\n",
    "        ,MAX(price) AS max_price\n",
    "        ,AVG(price) AS avg_price\n",
    "    FROM\n",
    "        ds_1\n",
    "    GROUP BY\n",
    "        loan_application_id\n",
    ") DS1\n",
    "ON\n",
    "    DS2.loan_application_id = DS1.loan_application_id\n",
    "'''\n",
    ")"
   ]
  },
  {
   "cell_type": "code",
   "execution_count": 7,
   "metadata": {
    "ExecuteTime": {
     "end_time": "2021-09-12T18:27:32.176525Z",
     "start_time": "2021-09-12T18:27:30.259498Z"
    }
   },
   "outputs": [],
   "source": [
    "#bin_labels_5 = ['A_amt', 'B_amt', 'C_amt', 'D_amt', 'E_amt']\n",
    "dataset['application_amt'] = dataset['application_amt'].apply(lambda x: x.replace(',','.'))\n",
    "dataset['application_amt'] = pd.to_numeric(dataset['application_amt'])\n",
    "#dataset['principal_amt'] = dataset['principal_amt'].notnull().apply(lambda x: x.replace(',','.'))\n",
    "dataset['principal_amt'] = dataset['principal_amt'].apply(lambda x: x.replace(',','.') if(pd.notnull(x)) else x)\n",
    "dataset['principal_amt'] = pd.to_numeric(dataset['principal_amt'])    \n",
    "#dataset['amt_quartiles'] = pd.qcut(dataset['application_amt'], 5, labels=bin_labels_5)"
   ]
  },
  {
   "cell_type": "code",
   "execution_count": 8,
   "metadata": {
    "ExecuteTime": {
     "end_time": "2021-09-12T18:27:52.954230Z",
     "start_time": "2021-09-12T18:27:51.062334Z"
    }
   },
   "outputs": [],
   "source": [
    "#Remove garbage\n",
    "dataset = dataset[(dataset[\"birth_dt\"] >= \"1941-07-04\") & (dataset[\"birth_dt\"] < \"2300-01-01\")]\n",
    "#Generate age\n",
    "dataset['application_dttm'] = pd.to_datetime(dataset['application_dttm'])\n",
    "dataset['birth_dt'] = pd.to_datetime(dataset['birth_dt'])\n",
    "dataset[\"borrower_age_yy\"] = (dataset['application_dttm'] - dataset['birth_dt'])\n",
    "dataset[\"borrower_age_yy\"] = ((dataset[\"borrower_age_yy\"] / np.timedelta64(1, 'D')).astype(int)/365.25).astype(float)"
   ]
  },
  {
   "cell_type": "code",
   "execution_count": 9,
   "metadata": {
    "ExecuteTime": {
     "end_time": "2021-09-12T18:28:10.026432Z",
     "start_time": "2021-09-12T18:28:10.016272Z"
    }
   },
   "outputs": [
    {
     "name": "stdout",
     "output_type": "stream",
     "text": [
      "-0.7912388774811773\n",
      "78.64202600958248\n"
     ]
    }
   ],
   "source": [
    "print(dataset[\"borrower_age_yy\"].min())\n",
    "print(dataset[\"borrower_age_yy\"].max())"
   ]
  },
  {
   "cell_type": "code",
   "execution_count": 10,
   "metadata": {
    "ExecuteTime": {
     "end_time": "2021-09-12T18:28:27.132760Z",
     "start_time": "2021-09-12T18:28:27.123432Z"
    }
   },
   "outputs": [],
   "source": [
    "#Сколько денег не хватило в абс и в %%\n",
    "dataset[\"money_shortage_amt\"] = dataset[\"total_price\"] - dataset[\"application_amt\"]\n",
    "dataset[\"money_shortage_perc\"] = dataset[\"money_shortage_amt\"]/dataset[\"total_price\"]"
   ]
  },
  {
   "cell_type": "code",
   "execution_count": 11,
   "metadata": {
    "ExecuteTime": {
     "end_time": "2021-09-12T18:28:44.806946Z",
     "start_time": "2021-09-12T18:28:43.809298Z"
    }
   },
   "outputs": [
    {
     "data": {
      "text/plain": [
       "target                                  82662\n",
       "loan_application_id                   1164811\n",
       "client_id                             1164811\n",
       "loan_application_key                  1164811\n",
       "previous_application_with_fico_key    1164811\n",
       "federal_region_nm                     1163936\n",
       "city_nm                               1161477\n",
       "chain_nm                              1164811\n",
       "first_chain_nm                        1164811\n",
       "first_store_nm                        1164811\n",
       "channel_type                          1164811\n",
       "application_dttm                      1164811\n",
       "application_amt                       1164811\n",
       "application_repeat_type               1164811\n",
       "approved_flg                          1164811\n",
       "conversion_flg                        1164811\n",
       "loan_key                                82662\n",
       "loan_order_num                        1164811\n",
       "start_dt                                82662\n",
       "principal_amt                           82662\n",
       "birth_dt                              1164811\n",
       "quantity                               899267\n",
       "total_price                            899267\n",
       "min_price                              899267\n",
       "max_price                              899267\n",
       "avg_price                              899267\n",
       "borrower_age_yy                       1164811\n",
       "money_shortage_amt                     899267\n",
       "money_shortage_perc                    899267\n",
       "dtype: int64"
      ]
     },
     "execution_count": 11,
     "metadata": {},
     "output_type": "execute_result"
    }
   ],
   "source": [
    "dataset.count()"
   ]
  },
  {
   "cell_type": "code",
   "execution_count": 12,
   "metadata": {
    "ExecuteTime": {
     "end_time": "2021-09-12T18:29:01.421150Z",
     "start_time": "2021-09-12T18:29:01.288239Z"
    }
   },
   "outputs": [
    {
     "data": {
      "text/html": [
       "<div>\n",
       "<style scoped>\n",
       "    .dataframe tbody tr th:only-of-type {\n",
       "        vertical-align: middle;\n",
       "    }\n",
       "\n",
       "    .dataframe tbody tr th {\n",
       "        vertical-align: top;\n",
       "    }\n",
       "\n",
       "    .dataframe thead th {\n",
       "        text-align: right;\n",
       "    }\n",
       "</style>\n",
       "<table border=\"1\" class=\"dataframe\">\n",
       "  <thead>\n",
       "    <tr style=\"text-align: right;\">\n",
       "      <th></th>\n",
       "      <th>target</th>\n",
       "      <th>loan_application_id</th>\n",
       "      <th>client_id</th>\n",
       "      <th>loan_application_key</th>\n",
       "      <th>previous_application_with_fico_key</th>\n",
       "      <th>federal_region_nm</th>\n",
       "      <th>city_nm</th>\n",
       "      <th>chain_nm</th>\n",
       "      <th>first_chain_nm</th>\n",
       "      <th>first_store_nm</th>\n",
       "      <th>...</th>\n",
       "      <th>principal_amt</th>\n",
       "      <th>birth_dt</th>\n",
       "      <th>quantity</th>\n",
       "      <th>total_price</th>\n",
       "      <th>min_price</th>\n",
       "      <th>max_price</th>\n",
       "      <th>avg_price</th>\n",
       "      <th>borrower_age_yy</th>\n",
       "      <th>money_shortage_amt</th>\n",
       "      <th>money_shortage_perc</th>\n",
       "    </tr>\n",
       "  </thead>\n",
       "  <tbody>\n",
       "    <tr>\n",
       "      <th>7</th>\n",
       "      <td>0.0</td>\n",
       "      <td>10565788</td>\n",
       "      <td>4162588</td>\n",
       "      <td>10518384</td>\n",
       "      <td>10137391</td>\n",
       "      <td>г. Москва</td>\n",
       "      <td>Москва</td>\n",
       "      <td>Lamoda</td>\n",
       "      <td>Lamoda</td>\n",
       "      <td>Lamoda (узнать лимит)</td>\n",
       "      <td>...</td>\n",
       "      <td>14938.00</td>\n",
       "      <td>1986-09-06</td>\n",
       "      <td>NaN</td>\n",
       "      <td>NaN</td>\n",
       "      <td>NaN</td>\n",
       "      <td>NaN</td>\n",
       "      <td>NaN</td>\n",
       "      <td>33.566051</td>\n",
       "      <td>NaN</td>\n",
       "      <td>NaN</td>\n",
       "    </tr>\n",
       "    <tr>\n",
       "      <th>23</th>\n",
       "      <td>0.0</td>\n",
       "      <td>10565286</td>\n",
       "      <td>4272015</td>\n",
       "      <td>10518320</td>\n",
       "      <td>10510537</td>\n",
       "      <td>Кемеровская область</td>\n",
       "      <td>Новокузнецк</td>\n",
       "      <td>O'Hara</td>\n",
       "      <td>O'Hara</td>\n",
       "      <td>OHR1098SIB</td>\n",
       "      <td>...</td>\n",
       "      <td>5458.18</td>\n",
       "      <td>1952-11-06</td>\n",
       "      <td>NaN</td>\n",
       "      <td>NaN</td>\n",
       "      <td>NaN</td>\n",
       "      <td>NaN</td>\n",
       "      <td>NaN</td>\n",
       "      <td>67.397673</td>\n",
       "      <td>NaN</td>\n",
       "      <td>NaN</td>\n",
       "    </tr>\n",
       "    <tr>\n",
       "      <th>27</th>\n",
       "      <td>0.0</td>\n",
       "      <td>10565048</td>\n",
       "      <td>4271961</td>\n",
       "      <td>10518303</td>\n",
       "      <td>10510325</td>\n",
       "      <td>Кемеровская область</td>\n",
       "      <td>Кемерово</td>\n",
       "      <td>585</td>\n",
       "      <td>585</td>\n",
       "      <td>PVP2267SIB</td>\n",
       "      <td>...</td>\n",
       "      <td>10947.00</td>\n",
       "      <td>1997-09-19</td>\n",
       "      <td>NaN</td>\n",
       "      <td>NaN</td>\n",
       "      <td>NaN</td>\n",
       "      <td>NaN</td>\n",
       "      <td>NaN</td>\n",
       "      <td>22.529774</td>\n",
       "      <td>NaN</td>\n",
       "      <td>NaN</td>\n",
       "    </tr>\n",
       "    <tr>\n",
       "      <th>320</th>\n",
       "      <td>0.0</td>\n",
       "      <td>10572101</td>\n",
       "      <td>4007039</td>\n",
       "      <td>10517256</td>\n",
       "      <td>9650496</td>\n",
       "      <td>г. Москва</td>\n",
       "      <td>Москва</td>\n",
       "      <td>Ennergiia</td>\n",
       "      <td>Рево Client App</td>\n",
       "      <td>Рево Client App</td>\n",
       "      <td>...</td>\n",
       "      <td>6562.00</td>\n",
       "      <td>1995-04-17</td>\n",
       "      <td>NaN</td>\n",
       "      <td>NaN</td>\n",
       "      <td>NaN</td>\n",
       "      <td>NaN</td>\n",
       "      <td>NaN</td>\n",
       "      <td>24.955510</td>\n",
       "      <td>NaN</td>\n",
       "      <td>NaN</td>\n",
       "    </tr>\n",
       "    <tr>\n",
       "      <th>497</th>\n",
       "      <td>0.0</td>\n",
       "      <td>10571517</td>\n",
       "      <td>4195101</td>\n",
       "      <td>10516672</td>\n",
       "      <td>10245322</td>\n",
       "      <td>Краснодарский край</td>\n",
       "      <td>Анапа</td>\n",
       "      <td>Детский Мир</td>\n",
       "      <td>Детский Мир</td>\n",
       "      <td>DM1642YUG</td>\n",
       "      <td>...</td>\n",
       "      <td>5796.00</td>\n",
       "      <td>1955-08-18</td>\n",
       "      <td>NaN</td>\n",
       "      <td>NaN</td>\n",
       "      <td>NaN</td>\n",
       "      <td>NaN</td>\n",
       "      <td>NaN</td>\n",
       "      <td>64.618754</td>\n",
       "      <td>NaN</td>\n",
       "      <td>NaN</td>\n",
       "    </tr>\n",
       "    <tr>\n",
       "      <th>...</th>\n",
       "      <td>...</td>\n",
       "      <td>...</td>\n",
       "      <td>...</td>\n",
       "      <td>...</td>\n",
       "      <td>...</td>\n",
       "      <td>...</td>\n",
       "      <td>...</td>\n",
       "      <td>...</td>\n",
       "      <td>...</td>\n",
       "      <td>...</td>\n",
       "      <td>...</td>\n",
       "      <td>...</td>\n",
       "      <td>...</td>\n",
       "      <td>...</td>\n",
       "      <td>...</td>\n",
       "      <td>...</td>\n",
       "      <td>...</td>\n",
       "      <td>...</td>\n",
       "      <td>...</td>\n",
       "      <td>...</td>\n",
       "      <td>...</td>\n",
       "    </tr>\n",
       "    <tr>\n",
       "      <th>1165271</th>\n",
       "      <td>0.0</td>\n",
       "      <td>7283957</td>\n",
       "      <td>3056906</td>\n",
       "      <td>7233056</td>\n",
       "      <td>7233418</td>\n",
       "      <td>Хабаровский край</td>\n",
       "      <td>Комсомольск-на-Амуре</td>\n",
       "      <td>585</td>\n",
       "      <td>585</td>\n",
       "      <td>PVP2134VOS</td>\n",
       "      <td>...</td>\n",
       "      <td>7433.00</td>\n",
       "      <td>1994-10-25</td>\n",
       "      <td>NaN</td>\n",
       "      <td>NaN</td>\n",
       "      <td>NaN</td>\n",
       "      <td>NaN</td>\n",
       "      <td>NaN</td>\n",
       "      <td>24.933607</td>\n",
       "      <td>NaN</td>\n",
       "      <td>NaN</td>\n",
       "    </tr>\n",
       "    <tr>\n",
       "      <th>1165298</th>\n",
       "      <td>0.0</td>\n",
       "      <td>7283800</td>\n",
       "      <td>3051960</td>\n",
       "      <td>7232960</td>\n",
       "      <td>7233753</td>\n",
       "      <td>Республика Бурятия</td>\n",
       "      <td>Улан-Удэ</td>\n",
       "      <td>Unichel</td>\n",
       "      <td>Unichel</td>\n",
       "      <td>UNI1723URL</td>\n",
       "      <td>...</td>\n",
       "      <td>6425.00</td>\n",
       "      <td>1961-07-28</td>\n",
       "      <td>NaN</td>\n",
       "      <td>NaN</td>\n",
       "      <td>NaN</td>\n",
       "      <td>NaN</td>\n",
       "      <td>NaN</td>\n",
       "      <td>58.176591</td>\n",
       "      <td>NaN</td>\n",
       "      <td>NaN</td>\n",
       "    </tr>\n",
       "    <tr>\n",
       "      <th>1165320</th>\n",
       "      <td>0.0</td>\n",
       "      <td>7283527</td>\n",
       "      <td>2973257</td>\n",
       "      <td>7232887</td>\n",
       "      <td>7061214</td>\n",
       "      <td>г. Москва</td>\n",
       "      <td>Москва</td>\n",
       "      <td>Mvideo DirectCredit pick-up</td>\n",
       "      <td>Mvideo DirectCredit pick-up</td>\n",
       "      <td>PUMVD084MOS</td>\n",
       "      <td>...</td>\n",
       "      <td>26453.70</td>\n",
       "      <td>1989-08-12</td>\n",
       "      <td>NaN</td>\n",
       "      <td>NaN</td>\n",
       "      <td>NaN</td>\n",
       "      <td>NaN</td>\n",
       "      <td>NaN</td>\n",
       "      <td>30.135524</td>\n",
       "      <td>NaN</td>\n",
       "      <td>NaN</td>\n",
       "    </tr>\n",
       "    <tr>\n",
       "      <th>1165330</th>\n",
       "      <td>0.0</td>\n",
       "      <td>7283426</td>\n",
       "      <td>2485289</td>\n",
       "      <td>7232869</td>\n",
       "      <td>5662310</td>\n",
       "      <td>г. Москва</td>\n",
       "      <td>Москва</td>\n",
       "      <td>Mvideo DirectCredit pick-up</td>\n",
       "      <td>Mvideo DirectCredit pick-up</td>\n",
       "      <td>PUMVD020MOS</td>\n",
       "      <td>...</td>\n",
       "      <td>29990.00</td>\n",
       "      <td>1997-05-22</td>\n",
       "      <td>NaN</td>\n",
       "      <td>NaN</td>\n",
       "      <td>NaN</td>\n",
       "      <td>NaN</td>\n",
       "      <td>NaN</td>\n",
       "      <td>22.360027</td>\n",
       "      <td>NaN</td>\n",
       "      <td>NaN</td>\n",
       "    </tr>\n",
       "    <tr>\n",
       "      <th>1165337</th>\n",
       "      <td>0.0</td>\n",
       "      <td>7283410</td>\n",
       "      <td>3056571</td>\n",
       "      <td>7232853</td>\n",
       "      <td>7232561</td>\n",
       "      <td>Московская область</td>\n",
       "      <td>Химки</td>\n",
       "      <td>Mvideo DirectCredit pick-up</td>\n",
       "      <td>Mvideo DirectCredit pick-up</td>\n",
       "      <td>PUMVD035MOS</td>\n",
       "      <td>...</td>\n",
       "      <td>8990.00</td>\n",
       "      <td>1989-01-10</td>\n",
       "      <td>NaN</td>\n",
       "      <td>NaN</td>\n",
       "      <td>NaN</td>\n",
       "      <td>NaN</td>\n",
       "      <td>NaN</td>\n",
       "      <td>30.721424</td>\n",
       "      <td>NaN</td>\n",
       "      <td>NaN</td>\n",
       "    </tr>\n",
       "  </tbody>\n",
       "</table>\n",
       "<p>63815 rows × 29 columns</p>\n",
       "</div>"
      ],
      "text/plain": [
       "         target  loan_application_id  client_id  loan_application_key  \\\n",
       "7           0.0             10565788    4162588              10518384   \n",
       "23          0.0             10565286    4272015              10518320   \n",
       "27          0.0             10565048    4271961              10518303   \n",
       "320         0.0             10572101    4007039              10517256   \n",
       "497         0.0             10571517    4195101              10516672   \n",
       "...         ...                  ...        ...                   ...   \n",
       "1165271     0.0              7283957    3056906               7233056   \n",
       "1165298     0.0              7283800    3051960               7232960   \n",
       "1165320     0.0              7283527    2973257               7232887   \n",
       "1165330     0.0              7283426    2485289               7232869   \n",
       "1165337     0.0              7283410    3056571               7232853   \n",
       "\n",
       "         previous_application_with_fico_key    federal_region_nm  \\\n",
       "7                                  10137391            г. Москва   \n",
       "23                                 10510537  Кемеровская область   \n",
       "27                                 10510325  Кемеровская область   \n",
       "320                                 9650496            г. Москва   \n",
       "497                                10245322   Краснодарский край   \n",
       "...                                     ...                  ...   \n",
       "1165271                             7233418     Хабаровский край   \n",
       "1165298                             7233753   Республика Бурятия   \n",
       "1165320                             7061214            г. Москва   \n",
       "1165330                             5662310            г. Москва   \n",
       "1165337                             7232561   Московская область   \n",
       "\n",
       "                      city_nm                     chain_nm  \\\n",
       "7                      Москва                       Lamoda   \n",
       "23                Новокузнецк                       O'Hara   \n",
       "27                   Кемерово                          585   \n",
       "320                    Москва                    Ennergiia   \n",
       "497                     Анапа                  Детский Мир   \n",
       "...                       ...                          ...   \n",
       "1165271  Комсомольск-на-Амуре                          585   \n",
       "1165298              Улан-Удэ                      Unichel   \n",
       "1165320                Москва  Mvideo DirectCredit pick-up   \n",
       "1165330                Москва  Mvideo DirectCredit pick-up   \n",
       "1165337                 Химки  Mvideo DirectCredit pick-up   \n",
       "\n",
       "                      first_chain_nm         first_store_nm  ...  \\\n",
       "7                             Lamoda  Lamoda (узнать лимит)  ...   \n",
       "23                            O'Hara             OHR1098SIB  ...   \n",
       "27                               585             PVP2267SIB  ...   \n",
       "320                  Рево Client App        Рево Client App  ...   \n",
       "497                      Детский Мир              DM1642YUG  ...   \n",
       "...                              ...                    ...  ...   \n",
       "1165271                          585             PVP2134VOS  ...   \n",
       "1165298                      Unichel             UNI1723URL  ...   \n",
       "1165320  Mvideo DirectCredit pick-up            PUMVD084MOS  ...   \n",
       "1165330  Mvideo DirectCredit pick-up            PUMVD020MOS  ...   \n",
       "1165337  Mvideo DirectCredit pick-up            PUMVD035MOS  ...   \n",
       "\n",
       "        principal_amt   birth_dt  quantity total_price  min_price  max_price  \\\n",
       "7            14938.00 1986-09-06       NaN         NaN        NaN        NaN   \n",
       "23            5458.18 1952-11-06       NaN         NaN        NaN        NaN   \n",
       "27           10947.00 1997-09-19       NaN         NaN        NaN        NaN   \n",
       "320           6562.00 1995-04-17       NaN         NaN        NaN        NaN   \n",
       "497           5796.00 1955-08-18       NaN         NaN        NaN        NaN   \n",
       "...               ...        ...       ...         ...        ...        ...   \n",
       "1165271       7433.00 1994-10-25       NaN         NaN        NaN        NaN   \n",
       "1165298       6425.00 1961-07-28       NaN         NaN        NaN        NaN   \n",
       "1165320      26453.70 1989-08-12       NaN         NaN        NaN        NaN   \n",
       "1165330      29990.00 1997-05-22       NaN         NaN        NaN        NaN   \n",
       "1165337       8990.00 1989-01-10       NaN         NaN        NaN        NaN   \n",
       "\n",
       "         avg_price  borrower_age_yy money_shortage_amt  money_shortage_perc  \n",
       "7              NaN        33.566051                NaN                  NaN  \n",
       "23             NaN        67.397673                NaN                  NaN  \n",
       "27             NaN        22.529774                NaN                  NaN  \n",
       "320            NaN        24.955510                NaN                  NaN  \n",
       "497            NaN        64.618754                NaN                  NaN  \n",
       "...            ...              ...                ...                  ...  \n",
       "1165271        NaN        24.933607                NaN                  NaN  \n",
       "1165298        NaN        58.176591                NaN                  NaN  \n",
       "1165320        NaN        30.135524                NaN                  NaN  \n",
       "1165330        NaN        22.360027                NaN                  NaN  \n",
       "1165337        NaN        30.721424                NaN                  NaN  \n",
       "\n",
       "[63815 rows x 29 columns]"
      ]
     },
     "execution_count": 12,
     "metadata": {},
     "output_type": "execute_result"
    }
   ],
   "source": [
    "dataset[(dataset[\"target\"].notnull() & dataset[\"quantity\"].isnull() )]"
   ]
  },
  {
   "cell_type": "markdown",
   "metadata": {},
   "source": [
    "# Numerical features"
   ]
  },
  {
   "cell_type": "code",
   "execution_count": 13,
   "metadata": {
    "ExecuteTime": {
     "end_time": "2021-09-12T18:29:21.463455Z",
     "start_time": "2021-09-12T18:29:17.882934Z"
    }
   },
   "outputs": [
    {
     "data": {
      "image/png": "[encoded data removed]",
      "text/plain": [
       "<Figure size 864x1008 with 6 Axes>"
      ]
     },
     "metadata": {
      "needs_background": "light"
     },
     "output_type": "display_data"
    }
   ],
   "source": [
    "import warnings\n",
    "warnings.filterwarnings(\"ignore\")\n",
    "numerical_cols = [\"total_price\", \"avg_price\", \"min_price\", \"max_price\", \"money_shortage_amt\", \"borrower_age_yy\"]\n",
    "fig, axes = plt.subplots(ncols = 2, nrows = 3, figsize = (12,14))\n",
    "fig.subplots_adjust(hspace = 0.4, wspace = 0.2)\n",
    "fig.suptitle(\"KDE plots of numerical features\")\n",
    "\n",
    "for ax, col in zip(axes.flatten(), numerical_cols) :\n",
    "    sns.kdeplot(dataset[(dataset[\"application_repeat_type\"] != \"preapplication\") & ( dataset[\"target\"] == 1)][col], shade=\"True\", label=\"Not accepted\", ax = ax)\n",
    "    sns.kdeplot(dataset[(dataset[\"application_repeat_type\"] != \"preapplication\") & ( dataset[\"target\"] == 0)][col], shade=\"True\", label=\"Rejected\", ax = ax)\n",
    "    ax.set_xlabel(col)"
   ]
  },
  {
   "cell_type": "markdown",
   "metadata": {},
   "source": [
    "# Categorical features with low cardinality"
   ]
  },
  {
   "cell_type": "code",
   "execution_count": 14,
   "metadata": {
    "ExecuteTime": {
     "end_time": "2021-09-12T18:29:38.419740Z",
     "start_time": "2021-09-12T18:29:37.806670Z"
    }
   },
   "outputs": [
    {
     "data": {
      "image/png": "[encoded data removed]",
      "text/plain": [
       "<Figure size 1008x1008 with 9 Axes>"
      ]
     },
     "metadata": {
      "needs_background": "light"
     },
     "output_type": "display_data"
    }
   ],
   "source": [
    "cat_cols_few = [\"conversion_flg\"]\n",
    "\n",
    "\n",
    "fig, axes = plt.subplots(ncols = 3, nrows = 3, figsize = (14,14))\n",
    "fig.subplots_adjust(hspace = 0.3, wspace = 0.3)\n",
    "fig.suptitle(\"Categorical features with low cardinality\")\n",
    "\n",
    "for ax, col in zip(axes.flatten(), cat_cols_few) :\n",
    "    pd.crosstab(dataset[col], dataset[\"target\"]).plot(kind=\"bar\", ax = ax)\n",
    "    ax.set_xlabel(col)"
   ]
  },
  {
   "cell_type": "markdown",
   "metadata": {},
   "source": [
    "# Categorical features with high cardinality"
   ]
  },
  {
   "cell_type": "code",
   "execution_count": 14,
   "metadata": {
    "ExecuteTime": {
     "end_time": "2021-09-12T17:21:39.116003Z",
     "start_time": "2021-09-12T17:21:38.855751Z"
    }
   },
   "outputs": [
    {
     "ename": "TypeError",
     "evalue": "The x variable is categorical, but one of ['numeric', 'datetime'] is required",
     "output_type": "error",
     "traceback": [
      "\u001b[0;31m---------------------------------------------------------------------------\u001b[0m",
      "\u001b[0;31mTypeError\u001b[0m                                 Traceback (most recent call last)",
      "\u001b[0;32m<ipython-input-14-eb23e5990e1e>\u001b[0m in \u001b[0;36m<module>\u001b[0;34m\u001b[0m\n\u001b[1;32m      6\u001b[0m \u001b[0;34m\u001b[0m\u001b[0m\n\u001b[1;32m      7\u001b[0m \u001b[0;32mfor\u001b[0m \u001b[0max\u001b[0m\u001b[0;34m,\u001b[0m \u001b[0mcol\u001b[0m \u001b[0;32min\u001b[0m \u001b[0mzip\u001b[0m\u001b[0;34m(\u001b[0m\u001b[0maxes\u001b[0m\u001b[0;34m.\u001b[0m\u001b[0mflatten\u001b[0m\u001b[0;34m(\u001b[0m\u001b[0;34m)\u001b[0m\u001b[0;34m,\u001b[0m \u001b[0mcat_cols_many\u001b[0m\u001b[0;34m)\u001b[0m \u001b[0;34m:\u001b[0m\u001b[0;34m\u001b[0m\u001b[0;34m\u001b[0m\u001b[0m\n\u001b[0;32m----> 8\u001b[0;31m     \u001b[0msns\u001b[0m\u001b[0;34m.\u001b[0m\u001b[0mkdeplot\u001b[0m\u001b[0;34m(\u001b[0m\u001b[0mdataset\u001b[0m\u001b[0;34m[\u001b[0m\u001b[0mdataset\u001b[0m\u001b[0;34m[\u001b[0m\u001b[0;34m\"target\"\u001b[0m\u001b[0;34m]\u001b[0m \u001b[0;34m==\u001b[0m \u001b[0;36m0\u001b[0m\u001b[0;34m]\u001b[0m\u001b[0;34m[\u001b[0m\u001b[0mcol\u001b[0m\u001b[0;34m]\u001b[0m\u001b[0;34m,\u001b[0m \u001b[0mshade\u001b[0m\u001b[0;34m=\u001b[0m\u001b[0;34m\"True\"\u001b[0m\u001b[0;34m,\u001b[0m \u001b[0mlabel\u001b[0m\u001b[0;34m=\u001b[0m\u001b[0;34m\"Not accepted\"\u001b[0m\u001b[0;34m,\u001b[0m \u001b[0max\u001b[0m \u001b[0;34m=\u001b[0m \u001b[0max\u001b[0m\u001b[0;34m)\u001b[0m\u001b[0;34m\u001b[0m\u001b[0;34m\u001b[0m\u001b[0m\n\u001b[0m\u001b[1;32m      9\u001b[0m     \u001b[0msns\u001b[0m\u001b[0;34m.\u001b[0m\u001b[0mkdeplot\u001b[0m\u001b[0;34m(\u001b[0m\u001b[0mdataset\u001b[0m\u001b[0;34m[\u001b[0m\u001b[0mdataset\u001b[0m\u001b[0;34m[\u001b[0m\u001b[0;34m\"target\"\u001b[0m\u001b[0;34m]\u001b[0m \u001b[0;34m==\u001b[0m \u001b[0;36m1\u001b[0m\u001b[0;34m]\u001b[0m\u001b[0;34m[\u001b[0m\u001b[0mcol\u001b[0m\u001b[0;34m]\u001b[0m\u001b[0;34m,\u001b[0m \u001b[0mshade\u001b[0m\u001b[0;34m=\u001b[0m\u001b[0;34m\"True\"\u001b[0m\u001b[0;34m,\u001b[0m \u001b[0mlabel\u001b[0m\u001b[0;34m=\u001b[0m\u001b[0;34m\"Accepted\"\u001b[0m\u001b[0;34m,\u001b[0m \u001b[0max\u001b[0m \u001b[0;34m=\u001b[0m \u001b[0max\u001b[0m\u001b[0;34m)\u001b[0m\u001b[0;34m\u001b[0m\u001b[0;34m\u001b[0m\u001b[0m\n\u001b[1;32m     10\u001b[0m     \u001b[0max\u001b[0m\u001b[0;34m.\u001b[0m\u001b[0mset_xlabel\u001b[0m\u001b[0;34m(\u001b[0m\u001b[0mcol\u001b[0m\u001b[0;34m)\u001b[0m\u001b[0;34m\u001b[0m\u001b[0;34m\u001b[0m\u001b[0m\n",
      "\u001b[0;32m~/Yury_env/Yury_env/lib/python3.8/site-packages/seaborn/_decorators.py\u001b[0m in \u001b[0;36minner_f\u001b[0;34m(*args, **kwargs)\u001b[0m\n\u001b[1;32m     44\u001b[0m             )\n\u001b[1;32m     45\u001b[0m         \u001b[0mkwargs\u001b[0m\u001b[0;34m.\u001b[0m\u001b[0mupdate\u001b[0m\u001b[0;34m(\u001b[0m\u001b[0;34m{\u001b[0m\u001b[0mk\u001b[0m\u001b[0;34m:\u001b[0m \u001b[0marg\u001b[0m \u001b[0;32mfor\u001b[0m \u001b[0mk\u001b[0m\u001b[0;34m,\u001b[0m \u001b[0marg\u001b[0m \u001b[0;32min\u001b[0m \u001b[0mzip\u001b[0m\u001b[0;34m(\u001b[0m\u001b[0msig\u001b[0m\u001b[0;34m.\u001b[0m\u001b[0mparameters\u001b[0m\u001b[0;34m,\u001b[0m \u001b[0margs\u001b[0m\u001b[0;34m)\u001b[0m\u001b[0;34m}\u001b[0m\u001b[0;34m)\u001b[0m\u001b[0;34m\u001b[0m\u001b[0;34m\u001b[0m\u001b[0m\n\u001b[0;32m---> 46\u001b[0;31m         \u001b[0;32mreturn\u001b[0m \u001b[0mf\u001b[0m\u001b[0;34m(\u001b[0m\u001b[0;34m**\u001b[0m\u001b[0mkwargs\u001b[0m\u001b[0;34m)\u001b[0m\u001b[0;34m\u001b[0m\u001b[0;34m\u001b[0m\u001b[0m\n\u001b[0m\u001b[1;32m     47\u001b[0m     \u001b[0;32mreturn\u001b[0m \u001b[0minner_f\u001b[0m\u001b[0;34m\u001b[0m\u001b[0;34m\u001b[0m\u001b[0m\n\u001b[1;32m     48\u001b[0m \u001b[0;34m\u001b[0m\u001b[0m\n",
      "\u001b[0;32m~/Yury_env/Yury_env/lib/python3.8/site-packages/seaborn/distributions.py\u001b[0m in \u001b[0;36mkdeplot\u001b[0;34m(x, y, shade, vertical, kernel, bw, gridsize, cut, clip, legend, cumulative, shade_lowest, cbar, cbar_ax, cbar_kws, ax, weights, hue, palette, hue_order, hue_norm, multiple, common_norm, common_grid, levels, thresh, bw_method, bw_adjust, log_scale, color, fill, data, data2, **kwargs)\u001b[0m\n\u001b[1;32m   1718\u001b[0m     )\n\u001b[1;32m   1719\u001b[0m \u001b[0;34m\u001b[0m\u001b[0m\n\u001b[0;32m-> 1720\u001b[0;31m     \u001b[0mp\u001b[0m\u001b[0;34m.\u001b[0m\u001b[0m_attach\u001b[0m\u001b[0;34m(\u001b[0m\u001b[0max\u001b[0m\u001b[0;34m,\u001b[0m \u001b[0mallowed_types\u001b[0m\u001b[0;34m=\u001b[0m\u001b[0;34m[\u001b[0m\u001b[0;34m\"numeric\"\u001b[0m\u001b[0;34m,\u001b[0m \u001b[0;34m\"datetime\"\u001b[0m\u001b[0;34m]\u001b[0m\u001b[0;34m,\u001b[0m \u001b[0mlog_scale\u001b[0m\u001b[0;34m=\u001b[0m\u001b[0mlog_scale\u001b[0m\u001b[0;34m)\u001b[0m\u001b[0;34m\u001b[0m\u001b[0;34m\u001b[0m\u001b[0m\n\u001b[0m\u001b[1;32m   1721\u001b[0m \u001b[0;34m\u001b[0m\u001b[0m\n\u001b[1;32m   1722\u001b[0m     \u001b[0;32mif\u001b[0m \u001b[0mp\u001b[0m\u001b[0;34m.\u001b[0m\u001b[0munivariate\u001b[0m\u001b[0;34m:\u001b[0m\u001b[0;34m\u001b[0m\u001b[0;34m\u001b[0m\u001b[0m\n",
      "\u001b[0;32m~/Yury_env/Yury_env/lib/python3.8/site-packages/seaborn/_core.py\u001b[0m in \u001b[0;36m_attach\u001b[0;34m(self, obj, allowed_types, log_scale)\u001b[0m\n\u001b[1;32m   1116\u001b[0m                     \u001b[0;34mf\"{allowed_types} is required\"\u001b[0m\u001b[0;34m\u001b[0m\u001b[0;34m\u001b[0m\u001b[0m\n\u001b[1;32m   1117\u001b[0m                 )\n\u001b[0;32m-> 1118\u001b[0;31m                 \u001b[0;32mraise\u001b[0m \u001b[0mTypeError\u001b[0m\u001b[0;34m(\u001b[0m\u001b[0merr\u001b[0m\u001b[0;34m)\u001b[0m\u001b[0;34m\u001b[0m\u001b[0;34m\u001b[0m\u001b[0m\n\u001b[0m\u001b[1;32m   1119\u001b[0m \u001b[0;34m\u001b[0m\u001b[0m\n\u001b[1;32m   1120\u001b[0m             \u001b[0;31m# Register with the matplotlib unit conversion machinery\u001b[0m\u001b[0;34m\u001b[0m\u001b[0;34m\u001b[0m\u001b[0;34m\u001b[0m\u001b[0m\n",
      "\u001b[0;31mTypeError\u001b[0m: The x variable is categorical, but one of ['numeric', 'datetime'] is required"
     ]
    },
    {
     "data": {
      "image/png": "[encoded data removed]",
      "text/plain": [
       "<Figure size 1008x720 with 2 Axes>"
      ]
     },
     "metadata": {
      "needs_background": "light"
     },
     "output_type": "display_data"
    }
   ],
   "source": [
    "cat_cols_many = [\"city_nm\"]\n",
    "\n",
    "fig, axes = plt.subplots(ncols = 2, nrows = 1, figsize = (14,10))\n",
    "fig.subplots_adjust(hspace = 0.3, wspace = 0.3)\n",
    "fig.suptitle(\"Categorical features with high cardinality\")\n",
    "\n",
    "for ax, col in zip(axes.flatten(), cat_cols_many) :\n",
    "    sns.kdeplot(dataset[dataset[\"target\"] == 0][col], shade=\"True\", label=\"Not accepted\", ax = ax)\n",
    "    sns.kdeplot(dataset[dataset[\"target\"] == 1][col], shade=\"True\", label=\"Accepted\", ax = ax)\n",
    "    ax.set_xlabel(col)"
   ]
  },
  {
   "cell_type": "code",
   "execution_count": 15,
   "metadata": {
    "ExecuteTime": {
     "end_time": "2021-09-12T18:29:54.931929Z",
     "start_time": "2021-09-12T18:29:54.883802Z"
    }
   },
   "outputs": [],
   "source": [
    "df_train = dataset[dataset[\"target\"].notnull()]"
   ]
  },
  {
   "cell_type": "code",
   "execution_count": 16,
   "metadata": {
    "ExecuteTime": {
     "end_time": "2021-09-12T18:30:12.532367Z",
     "start_time": "2021-09-12T18:30:12.410854Z"
    }
   },
   "outputs": [
    {
     "data": {
      "text/plain": [
       "target                                82662\n",
       "loan_application_id                   82662\n",
       "client_id                             82662\n",
       "loan_application_key                  82662\n",
       "previous_application_with_fico_key    82662\n",
       "federal_region_nm                     82648\n",
       "city_nm                               82571\n",
       "chain_nm                              82662\n",
       "first_chain_nm                        82662\n",
       "first_store_nm                        82662\n",
       "channel_type                          82662\n",
       "application_dttm                      82662\n",
       "application_amt                       82662\n",
       "application_repeat_type               82662\n",
       "approved_flg                          82662\n",
       "conversion_flg                        82662\n",
       "loan_key                              82662\n",
       "loan_order_num                        82662\n",
       "start_dt                              82662\n",
       "principal_amt                         82662\n",
       "birth_dt                              82662\n",
       "quantity                              18847\n",
       "total_price                           18847\n",
       "min_price                             18847\n",
       "max_price                             18847\n",
       "avg_price                             18847\n",
       "borrower_age_yy                       82662\n",
       "money_shortage_amt                    18847\n",
       "money_shortage_perc                   18847\n",
       "dtype: int64"
      ]
     },
     "execution_count": 16,
     "metadata": {},
     "output_type": "execute_result"
    }
   ],
   "source": [
    "df_train.count()"
   ]
  },
  {
   "cell_type": "markdown",
   "metadata": {},
   "source": [
    "# Cleaning"
   ]
  },
  {
   "cell_type": "code",
   "execution_count": 17,
   "metadata": {
    "ExecuteTime": {
     "end_time": "2021-09-12T18:30:30.137191Z",
     "start_time": "2021-09-12T18:30:30.110319Z"
    }
   },
   "outputs": [],
   "source": [
    "to_drop = [\"loan_application_id\", \"client_id\", \"approved_flg\",\n",
    "           \"loan_application_key\", \"previous_application_with_fico_key\", \"city_nm\" , \"first_chain_nm\", \"first_store_nm\", \"application_dttm\", \"loan_key\",\"start_dt\", \"birth_dt\"]\n",
    "df_train.drop(to_drop, axis=1, inplace=True)"
   ]
  },
  {
   "cell_type": "code",
   "execution_count": 18,
   "metadata": {
    "ExecuteTime": {
     "end_time": "2021-09-12T18:30:46.751278Z",
     "start_time": "2021-09-12T18:30:46.687913Z"
    }
   },
   "outputs": [
    {
     "data": {
      "text/plain": [
       "target                     82662\n",
       "federal_region_nm          82648\n",
       "chain_nm                   82662\n",
       "channel_type               82662\n",
       "application_amt            82662\n",
       "application_repeat_type    82662\n",
       "conversion_flg             82662\n",
       "loan_order_num             82662\n",
       "principal_amt              82662\n",
       "quantity                   18847\n",
       "total_price                18847\n",
       "min_price                  18847\n",
       "max_price                  18847\n",
       "avg_price                  18847\n",
       "borrower_age_yy            82662\n",
       "money_shortage_amt         18847\n",
       "money_shortage_perc        18847\n",
       "dtype: int64"
      ]
     },
     "execution_count": 18,
     "metadata": {},
     "output_type": "execute_result"
    }
   ],
   "source": [
    "df_train.count()"
   ]
  },
  {
   "cell_type": "code",
   "execution_count": 19,
   "metadata": {
    "ExecuteTime": {
     "end_time": "2021-09-12T18:31:03.634953Z",
     "start_time": "2021-09-12T18:31:03.331635Z"
    }
   },
   "outputs": [],
   "source": [
    "cat_cols_few = [\"federal_region_nm\", \"chain_nm\",\n",
    "            \"channel_type\",\"application_repeat_type\"]#, \"amt_quartiles\"]\n",
    "for col in cat_cols_few:\n",
    "        df_train[col].fillna(df_train[col].mode()[0], inplace=True)\n",
    "df_train = pd.get_dummies(df_train, columns = cat_cols_few)"
   ]
  },
  {
   "cell_type": "code",
   "execution_count": 20,
   "metadata": {
    "ExecuteTime": {
     "end_time": "2021-09-12T18:31:20.286348Z",
     "start_time": "2021-09-12T18:31:20.259127Z"
    }
   },
   "outputs": [
    {
     "data": {
      "text/plain": [
       "target                                  82662\n",
       "application_amt                         82662\n",
       "conversion_flg                          82662\n",
       "loan_order_num                          82662\n",
       "principal_amt                           82662\n",
       "                                        ...  \n",
       "channel_type_Full_online                82662\n",
       "channel_type_Offline                    82662\n",
       "channel_type_Online                     82662\n",
       "application_repeat_type_false repeat    82662\n",
       "application_repeat_type_new             82662\n",
       "Length: 152, dtype: int64"
      ]
     },
     "execution_count": 20,
     "metadata": {},
     "output_type": "execute_result"
    }
   ],
   "source": [
    "df_train.count()"
   ]
  },
  {
   "cell_type": "code",
   "execution_count": 21,
   "metadata": {
    "ExecuteTime": {
     "end_time": "2021-09-12T18:31:36.955263Z",
     "start_time": "2021-09-12T18:31:36.926283Z"
    }
   },
   "outputs": [
    {
     "data": {
      "text/html": [
       "<div>\n",
       "<style scoped>\n",
       "    .dataframe tbody tr th:only-of-type {\n",
       "        vertical-align: middle;\n",
       "    }\n",
       "\n",
       "    .dataframe tbody tr th {\n",
       "        vertical-align: top;\n",
       "    }\n",
       "\n",
       "    .dataframe thead th {\n",
       "        text-align: right;\n",
       "    }\n",
       "</style>\n",
       "<table border=\"1\" class=\"dataframe\">\n",
       "  <thead>\n",
       "    <tr style=\"text-align: right;\">\n",
       "      <th></th>\n",
       "      <th>target</th>\n",
       "      <th>application_amt</th>\n",
       "      <th>conversion_flg</th>\n",
       "      <th>loan_order_num</th>\n",
       "      <th>principal_amt</th>\n",
       "      <th>quantity</th>\n",
       "      <th>total_price</th>\n",
       "      <th>min_price</th>\n",
       "      <th>max_price</th>\n",
       "      <th>avg_price</th>\n",
       "      <th>...</th>\n",
       "      <th>chain_nm_Перевод на карту</th>\n",
       "      <th>chain_nm_Связной</th>\n",
       "      <th>chain_nm_Связной Онлайн</th>\n",
       "      <th>chain_nm_Сеть отсутствует в ChainLookup</th>\n",
       "      <th>chain_nm_Точка Зрения Пермь</th>\n",
       "      <th>channel_type_Full_online</th>\n",
       "      <th>channel_type_Offline</th>\n",
       "      <th>channel_type_Online</th>\n",
       "      <th>application_repeat_type_false repeat</th>\n",
       "      <th>application_repeat_type_new</th>\n",
       "    </tr>\n",
       "  </thead>\n",
       "  <tbody>\n",
       "    <tr>\n",
       "      <th>7</th>\n",
       "      <td>0</td>\n",
       "      <td>14938.00</td>\n",
       "      <td>1</td>\n",
       "      <td>1</td>\n",
       "      <td>14938.00</td>\n",
       "      <td>NaN</td>\n",
       "      <td>NaN</td>\n",
       "      <td>NaN</td>\n",
       "      <td>NaN</td>\n",
       "      <td>NaN</td>\n",
       "      <td>...</td>\n",
       "      <td>0</td>\n",
       "      <td>0</td>\n",
       "      <td>0</td>\n",
       "      <td>0</td>\n",
       "      <td>0</td>\n",
       "      <td>0</td>\n",
       "      <td>0</td>\n",
       "      <td>1</td>\n",
       "      <td>1</td>\n",
       "      <td>0</td>\n",
       "    </tr>\n",
       "    <tr>\n",
       "      <th>23</th>\n",
       "      <td>0</td>\n",
       "      <td>5458.18</td>\n",
       "      <td>1</td>\n",
       "      <td>1</td>\n",
       "      <td>5458.18</td>\n",
       "      <td>NaN</td>\n",
       "      <td>NaN</td>\n",
       "      <td>NaN</td>\n",
       "      <td>NaN</td>\n",
       "      <td>NaN</td>\n",
       "      <td>...</td>\n",
       "      <td>0</td>\n",
       "      <td>0</td>\n",
       "      <td>0</td>\n",
       "      <td>0</td>\n",
       "      <td>0</td>\n",
       "      <td>0</td>\n",
       "      <td>1</td>\n",
       "      <td>0</td>\n",
       "      <td>0</td>\n",
       "      <td>1</td>\n",
       "    </tr>\n",
       "    <tr>\n",
       "      <th>27</th>\n",
       "      <td>0</td>\n",
       "      <td>10947.00</td>\n",
       "      <td>1</td>\n",
       "      <td>1</td>\n",
       "      <td>10947.00</td>\n",
       "      <td>NaN</td>\n",
       "      <td>NaN</td>\n",
       "      <td>NaN</td>\n",
       "      <td>NaN</td>\n",
       "      <td>NaN</td>\n",
       "      <td>...</td>\n",
       "      <td>0</td>\n",
       "      <td>0</td>\n",
       "      <td>0</td>\n",
       "      <td>0</td>\n",
       "      <td>0</td>\n",
       "      <td>0</td>\n",
       "      <td>1</td>\n",
       "      <td>0</td>\n",
       "      <td>0</td>\n",
       "      <td>1</td>\n",
       "    </tr>\n",
       "    <tr>\n",
       "      <th>70</th>\n",
       "      <td>0</td>\n",
       "      <td>23990.00</td>\n",
       "      <td>1</td>\n",
       "      <td>1</td>\n",
       "      <td>23990.00</td>\n",
       "      <td>1.0</td>\n",
       "      <td>23990.0</td>\n",
       "      <td>23990.0</td>\n",
       "      <td>23990.0</td>\n",
       "      <td>23990.0</td>\n",
       "      <td>...</td>\n",
       "      <td>0</td>\n",
       "      <td>0</td>\n",
       "      <td>0</td>\n",
       "      <td>0</td>\n",
       "      <td>0</td>\n",
       "      <td>0</td>\n",
       "      <td>0</td>\n",
       "      <td>1</td>\n",
       "      <td>1</td>\n",
       "      <td>0</td>\n",
       "    </tr>\n",
       "    <tr>\n",
       "      <th>92</th>\n",
       "      <td>0</td>\n",
       "      <td>44181.00</td>\n",
       "      <td>1</td>\n",
       "      <td>1</td>\n",
       "      <td>44181.00</td>\n",
       "      <td>3.0</td>\n",
       "      <td>44181.0</td>\n",
       "      <td>0.0</td>\n",
       "      <td>26591.0</td>\n",
       "      <td>14727.0</td>\n",
       "      <td>...</td>\n",
       "      <td>0</td>\n",
       "      <td>0</td>\n",
       "      <td>0</td>\n",
       "      <td>0</td>\n",
       "      <td>0</td>\n",
       "      <td>1</td>\n",
       "      <td>0</td>\n",
       "      <td>0</td>\n",
       "      <td>1</td>\n",
       "      <td>0</td>\n",
       "    </tr>\n",
       "    <tr>\n",
       "      <th>...</th>\n",
       "      <td>...</td>\n",
       "      <td>...</td>\n",
       "      <td>...</td>\n",
       "      <td>...</td>\n",
       "      <td>...</td>\n",
       "      <td>...</td>\n",
       "      <td>...</td>\n",
       "      <td>...</td>\n",
       "      <td>...</td>\n",
       "      <td>...</td>\n",
       "      <td>...</td>\n",
       "      <td>...</td>\n",
       "      <td>...</td>\n",
       "      <td>...</td>\n",
       "      <td>...</td>\n",
       "      <td>...</td>\n",
       "      <td>...</td>\n",
       "      <td>...</td>\n",
       "      <td>...</td>\n",
       "      <td>...</td>\n",
       "      <td>...</td>\n",
       "    </tr>\n",
       "    <tr>\n",
       "      <th>1165271</th>\n",
       "      <td>0</td>\n",
       "      <td>7433.00</td>\n",
       "      <td>1</td>\n",
       "      <td>1</td>\n",
       "      <td>7433.00</td>\n",
       "      <td>NaN</td>\n",
       "      <td>NaN</td>\n",
       "      <td>NaN</td>\n",
       "      <td>NaN</td>\n",
       "      <td>NaN</td>\n",
       "      <td>...</td>\n",
       "      <td>0</td>\n",
       "      <td>0</td>\n",
       "      <td>0</td>\n",
       "      <td>0</td>\n",
       "      <td>0</td>\n",
       "      <td>0</td>\n",
       "      <td>1</td>\n",
       "      <td>0</td>\n",
       "      <td>0</td>\n",
       "      <td>1</td>\n",
       "    </tr>\n",
       "    <tr>\n",
       "      <th>1165298</th>\n",
       "      <td>0</td>\n",
       "      <td>6425.00</td>\n",
       "      <td>1</td>\n",
       "      <td>1</td>\n",
       "      <td>6425.00</td>\n",
       "      <td>NaN</td>\n",
       "      <td>NaN</td>\n",
       "      <td>NaN</td>\n",
       "      <td>NaN</td>\n",
       "      <td>NaN</td>\n",
       "      <td>...</td>\n",
       "      <td>0</td>\n",
       "      <td>0</td>\n",
       "      <td>0</td>\n",
       "      <td>0</td>\n",
       "      <td>0</td>\n",
       "      <td>0</td>\n",
       "      <td>1</td>\n",
       "      <td>0</td>\n",
       "      <td>0</td>\n",
       "      <td>1</td>\n",
       "    </tr>\n",
       "    <tr>\n",
       "      <th>1165320</th>\n",
       "      <td>0</td>\n",
       "      <td>26453.70</td>\n",
       "      <td>1</td>\n",
       "      <td>1</td>\n",
       "      <td>26453.70</td>\n",
       "      <td>NaN</td>\n",
       "      <td>NaN</td>\n",
       "      <td>NaN</td>\n",
       "      <td>NaN</td>\n",
       "      <td>NaN</td>\n",
       "      <td>...</td>\n",
       "      <td>0</td>\n",
       "      <td>0</td>\n",
       "      <td>0</td>\n",
       "      <td>0</td>\n",
       "      <td>0</td>\n",
       "      <td>0</td>\n",
       "      <td>0</td>\n",
       "      <td>1</td>\n",
       "      <td>1</td>\n",
       "      <td>0</td>\n",
       "    </tr>\n",
       "    <tr>\n",
       "      <th>1165330</th>\n",
       "      <td>0</td>\n",
       "      <td>29990.00</td>\n",
       "      <td>1</td>\n",
       "      <td>1</td>\n",
       "      <td>29990.00</td>\n",
       "      <td>NaN</td>\n",
       "      <td>NaN</td>\n",
       "      <td>NaN</td>\n",
       "      <td>NaN</td>\n",
       "      <td>NaN</td>\n",
       "      <td>...</td>\n",
       "      <td>0</td>\n",
       "      <td>0</td>\n",
       "      <td>0</td>\n",
       "      <td>0</td>\n",
       "      <td>0</td>\n",
       "      <td>0</td>\n",
       "      <td>0</td>\n",
       "      <td>1</td>\n",
       "      <td>1</td>\n",
       "      <td>0</td>\n",
       "    </tr>\n",
       "    <tr>\n",
       "      <th>1165337</th>\n",
       "      <td>0</td>\n",
       "      <td>8990.00</td>\n",
       "      <td>1</td>\n",
       "      <td>1</td>\n",
       "      <td>8990.00</td>\n",
       "      <td>NaN</td>\n",
       "      <td>NaN</td>\n",
       "      <td>NaN</td>\n",
       "      <td>NaN</td>\n",
       "      <td>NaN</td>\n",
       "      <td>...</td>\n",
       "      <td>0</td>\n",
       "      <td>0</td>\n",
       "      <td>0</td>\n",
       "      <td>0</td>\n",
       "      <td>0</td>\n",
       "      <td>0</td>\n",
       "      <td>0</td>\n",
       "      <td>1</td>\n",
       "      <td>1</td>\n",
       "      <td>0</td>\n",
       "    </tr>\n",
       "  </tbody>\n",
       "</table>\n",
       "<p>82662 rows × 152 columns</p>\n",
       "</div>"
      ],
      "text/plain": [
       "         target  application_amt  conversion_flg  loan_order_num  \\\n",
       "7             0         14938.00               1               1   \n",
       "23            0          5458.18               1               1   \n",
       "27            0         10947.00               1               1   \n",
       "70            0         23990.00               1               1   \n",
       "92            0         44181.00               1               1   \n",
       "...         ...              ...             ...             ...   \n",
       "1165271       0          7433.00               1               1   \n",
       "1165298       0          6425.00               1               1   \n",
       "1165320       0         26453.70               1               1   \n",
       "1165330       0         29990.00               1               1   \n",
       "1165337       0          8990.00               1               1   \n",
       "\n",
       "         principal_amt  quantity  total_price  min_price  max_price  \\\n",
       "7             14938.00       NaN          NaN        NaN        NaN   \n",
       "23             5458.18       NaN          NaN        NaN        NaN   \n",
       "27            10947.00       NaN          NaN        NaN        NaN   \n",
       "70            23990.00       1.0      23990.0    23990.0    23990.0   \n",
       "92            44181.00       3.0      44181.0        0.0    26591.0   \n",
       "...                ...       ...          ...        ...        ...   \n",
       "1165271        7433.00       NaN          NaN        NaN        NaN   \n",
       "1165298        6425.00       NaN          NaN        NaN        NaN   \n",
       "1165320       26453.70       NaN          NaN        NaN        NaN   \n",
       "1165330       29990.00       NaN          NaN        NaN        NaN   \n",
       "1165337        8990.00       NaN          NaN        NaN        NaN   \n",
       "\n",
       "         avg_price  ...  chain_nm_Перевод на карту  chain_nm_Связной  \\\n",
       "7              NaN  ...                          0                 0   \n",
       "23             NaN  ...                          0                 0   \n",
       "27             NaN  ...                          0                 0   \n",
       "70         23990.0  ...                          0                 0   \n",
       "92         14727.0  ...                          0                 0   \n",
       "...            ...  ...                        ...               ...   \n",
       "1165271        NaN  ...                          0                 0   \n",
       "1165298        NaN  ...                          0                 0   \n",
       "1165320        NaN  ...                          0                 0   \n",
       "1165330        NaN  ...                          0                 0   \n",
       "1165337        NaN  ...                          0                 0   \n",
       "\n",
       "         chain_nm_Связной Онлайн  chain_nm_Сеть отсутствует в ChainLookup  \\\n",
       "7                              0                                        0   \n",
       "23                             0                                        0   \n",
       "27                             0                                        0   \n",
       "70                             0                                        0   \n",
       "92                             0                                        0   \n",
       "...                          ...                                      ...   \n",
       "1165271                        0                                        0   \n",
       "1165298                        0                                        0   \n",
       "1165320                        0                                        0   \n",
       "1165330                        0                                        0   \n",
       "1165337                        0                                        0   \n",
       "\n",
       "         chain_nm_Точка Зрения Пермь  channel_type_Full_online  \\\n",
       "7                                  0                         0   \n",
       "23                                 0                         0   \n",
       "27                                 0                         0   \n",
       "70                                 0                         0   \n",
       "92                                 0                         1   \n",
       "...                              ...                       ...   \n",
       "1165271                            0                         0   \n",
       "1165298                            0                         0   \n",
       "1165320                            0                         0   \n",
       "1165330                            0                         0   \n",
       "1165337                            0                         0   \n",
       "\n",
       "         channel_type_Offline  channel_type_Online  \\\n",
       "7                           0                    1   \n",
       "23                          1                    0   \n",
       "27                          1                    0   \n",
       "70                          0                    1   \n",
       "92                          0                    0   \n",
       "...                       ...                  ...   \n",
       "1165271                     1                    0   \n",
       "1165298                     1                    0   \n",
       "1165320                     0                    1   \n",
       "1165330                     0                    1   \n",
       "1165337                     0                    1   \n",
       "\n",
       "         application_repeat_type_false repeat  application_repeat_type_new  \n",
       "7                                           1                            0  \n",
       "23                                          0                            1  \n",
       "27                                          0                            1  \n",
       "70                                          1                            0  \n",
       "92                                          1                            0  \n",
       "...                                       ...                          ...  \n",
       "1165271                                     0                            1  \n",
       "1165298                                     0                            1  \n",
       "1165320                                     1                            0  \n",
       "1165330                                     1                            0  \n",
       "1165337                                     1                            0  \n",
       "\n",
       "[82662 rows x 152 columns]"
      ]
     },
     "execution_count": 21,
     "metadata": {},
     "output_type": "execute_result"
    }
   ],
   "source": [
    "df_train[\"target\"] = (df_train[\"target\"]).astype(int)\n",
    "df_train"
   ]
  },
  {
   "cell_type": "markdown",
   "metadata": {},
   "source": [
    "# Modelling"
   ]
  },
  {
   "cell_type": "code",
   "execution_count": 22,
   "metadata": {
    "ExecuteTime": {
     "end_time": "2021-09-12T18:33:49.895276Z",
     "start_time": "2021-09-12T18:31:53.617110Z"
    }
   },
   "outputs": [
    {
     "name": "stdout",
     "output_type": "stream",
     "text": [
      "Starting XGBoost. Train shape: (82662, 152)\n",
      "Fold training\n",
      "[0]\tvalidation_0-auc:0.64243\tvalidation_1-auc:0.62870\n",
      "[200]\tvalidation_0-auc:0.75494\tvalidation_1-auc:0.69075\n",
      "[400]\tvalidation_0-auc:0.77663\tvalidation_1-auc:0.69278\n",
      "[600]\tvalidation_0-auc:0.79554\tvalidation_1-auc:0.69122\n",
      "[777]\tvalidation_0-auc:0.80717\tvalidation_1-auc:0.68850\n",
      "Fold training\n",
      "[0]\tvalidation_0-auc:0.62418\tvalidation_1-auc:0.63556\n",
      "[200]\tvalidation_0-auc:0.75189\tvalidation_1-auc:0.70652\n",
      "[400]\tvalidation_0-auc:0.77543\tvalidation_1-auc:0.70427\n",
      "[576]\tvalidation_0-auc:0.78970\tvalidation_1-auc:0.69947\n",
      "Fold training\n",
      "[0]\tvalidation_0-auc:0.63319\tvalidation_1-auc:0.63392\n",
      "[200]\tvalidation_0-auc:0.75076\tvalidation_1-auc:0.70822\n",
      "[400]\tvalidation_0-auc:0.77370\tvalidation_1-auc:0.71009\n",
      "[600]\tvalidation_0-auc:0.79192\tvalidation_1-auc:0.70919\n",
      "[798]\tvalidation_0-auc:0.80707\tvalidation_1-auc:0.70691\n",
      "Fold training\n",
      "[0]\tvalidation_0-auc:0.64544\tvalidation_1-auc:0.62819\n",
      "[200]\tvalidation_0-auc:0.75611\tvalidation_1-auc:0.68811\n",
      "[400]\tvalidation_0-auc:0.77831\tvalidation_1-auc:0.68776\n",
      "[600]\tvalidation_0-auc:0.79540\tvalidation_1-auc:0.68504\n",
      "[697]\tvalidation_0-auc:0.80261\tvalidation_1-auc:0.68525\n",
      "Fold training\n",
      "[0]\tvalidation_0-auc:0.65037\tvalidation_1-auc:0.63914\n",
      "[200]\tvalidation_0-auc:0.75229\tvalidation_1-auc:0.69588\n",
      "[400]\tvalidation_0-auc:0.77735\tvalidation_1-auc:0.69415\n",
      "[600]\tvalidation_0-auc:0.79595\tvalidation_1-auc:0.69135\n",
      "[603]\tvalidation_0-auc:0.79617\tvalidation_1-auc:0.69112\n"
     ]
    }
   ],
   "source": [
    "# Divide in training/validation and test data\n",
    "stratified = True\n",
    "num_folds = 5\n",
    "df = df_train\n",
    "print(\"Starting XGBoost. Train shape: {}\".format(df.shape))\n",
    "    #gc.collect()\n",
    "    # Cross validation model\n",
    "if stratified:\n",
    "        folds = StratifiedKFold(n_splits= num_folds, shuffle=True, random_state=1001)\n",
    "else:\n",
    "        folds = KFold(n_splits= num_folds, shuffle=True, random_state=1001)\n",
    "    # Create arrays and dataframes to store results\n",
    "    #oof_preds = np.zeros(df.shape[0])\n",
    "feature_importance_df = pd.DataFrame()\n",
    "feats = [f for f in df.columns if f not in [\"target\"]]\n",
    "    \n",
    "for n_fold, (train_idx, valid_idx) in enumerate(folds.split(df[feats], df[\"target\"])):\n",
    "    train_x, train_y = df[feats].iloc[train_idx], df[\"target\"].iloc[train_idx]\n",
    "    valid_x, valid_y = df[feats].iloc[valid_idx], df[\"target\"].iloc[valid_idx]\n",
    "    print(\"Fold training\")\n",
    "    xgboost_model = XGBClassifier(\n",
    "            #tree_method='gpu_hist', \n",
    "            #gpu_id=1,\n",
    "            base_score=0.5, \n",
    "            booster='gbtree', \n",
    "            colsample_bylevel=1,\n",
    "            colsample_bytree=0.6, \n",
    "            gamma=0, \n",
    "            learning_rate=0.02, \n",
    "            max_delta_step=0,\n",
    "            max_depth=8, \n",
    "            min_child_weight=8, \n",
    "            missing=None, \n",
    "            n_estimators=1000,\n",
    "            n_jobs=16, \n",
    "            nthread=None, \n",
    "            objective='binary:logistic', \n",
    "            random_state=0,\n",
    "            reg_alpha=0.2, \n",
    "            reg_lambda=1, \n",
    "            scale_pos_weight=1, \n",
    "            seed=None,\n",
    "            #silent=True, \n",
    "            subsample=0.7\n",
    "    )\n",
    "       # xgboost_model.fit(train_x, train_y, eval_set=[(train_x, train_y), (valid_x, valid_y)],\n",
    "       #         eval_metric= 'auc', verbose= 200, early_stopping_rounds= 200)\n",
    "\n",
    "       #     oof_preds[valid_idx] = xgboost_model.predict_proba(valid_x, num_iteration=xgboost_model.best_iteration_)[:, 1]\n",
    "        #    sub_preds += clf.predict_proba(test_df[feats], num_iteration=clf.best_iteration_)[:, 1] / folds.n_splits\n",
    "\n",
    "        #prediction = xgboost_model.predict(train_y)\n",
    "    xgboost_model.fit(train_x, train_y, eval_set=[(train_x, train_y), (valid_x, valid_y)], \n",
    "                eval_metric= 'auc', verbose= 200, early_stopping_rounds= 400)\n"
   ]
  },
  {
   "cell_type": "code",
   "execution_count": 23,
   "metadata": {
    "ExecuteTime": {
     "end_time": "2021-09-12T18:34:07.505731Z",
     "start_time": "2021-09-12T18:34:07.502527Z"
    }
   },
   "outputs": [
    {
     "data": {
      "text/plain": [
       "0.6986760000000001"
      ]
     },
     "execution_count": 23,
     "metadata": {},
     "output_type": "execute_result"
    }
   ],
   "source": [
    "np.mean([0.69278,0.70652,0.71009,0.68811,0.69588])"
   ]
  },
  {
   "cell_type": "code",
   "execution_count": null,
   "metadata": {
    "ExecuteTime": {
     "start_time": "2021-09-12T18:26:01.932Z"
    }
   },
   "outputs": [
    {
     "name": "stdout",
     "output_type": "stream",
     "text": [
      "Starting LightGBM. Train shape: {}, test shape: {}\n",
      "[LightGBM] [Warning] num_threads is set with nthread=4, will be overridden by n_jobs=-1. Current value: num_threads=-1\n",
      "Training until validation scores don't improve for 200 rounds\n",
      "Did not meet early stopping. Best iteration is:\n",
      "[100]\ttraining's auc: 0.712336\ttraining's binary_logloss: 0.192319\tvalid_1's auc: 0.673042\tvalid_1's binary_logloss: 0.19374\n",
      "Fold  1 AUC : 0.673042\n",
      "[LightGBM] [Warning] num_threads is set with nthread=4, will be overridden by n_jobs=-1. Current value: num_threads=-1\n",
      "Training until validation scores don't improve for 200 rounds\n",
      "Did not meet early stopping. Best iteration is:\n",
      "[98]\ttraining's auc: 0.710001\ttraining's binary_logloss: 0.192751\tvalid_1's auc: 0.68645\tvalid_1's binary_logloss: 0.193545\n",
      "Fold  2 AUC : 0.686450\n",
      "[LightGBM] [Warning] num_threads is set with nthread=4, will be overridden by n_jobs=-1. Current value: num_threads=-1\n",
      "Training until validation scores don't improve for 200 rounds\n",
      "Did not meet early stopping. Best iteration is:\n",
      "[99]\ttraining's auc: 0.708739\ttraining's binary_logloss: 0.192547\tvalid_1's auc: 0.686143\tvalid_1's binary_logloss: 0.193245\n",
      "Fold  3 AUC : 0.686143\n",
      "[LightGBM] [Warning] num_threads is set with nthread=4, will be overridden by n_jobs=-1. Current value: num_threads=-1\n",
      "Training until validation scores don't improve for 200 rounds\n",
      "Did not meet early stopping. Best iteration is:\n",
      "[98]\ttraining's auc: 0.711923\ttraining's binary_logloss: 0.192584\tvalid_1's auc: 0.672802\tvalid_1's binary_logloss: 0.193659\n",
      "Fold  4 AUC : 0.672802\n",
      "[LightGBM] [Warning] num_threads is set with nthread=4, will be overridden by n_jobs=-1. Current value: num_threads=-1\n",
      "Training until validation scores don't improve for 200 rounds\n"
     ]
    }
   ],
   "source": [
    "stratified = True\n",
    "num_folds = 5\n",
    "train_df = df_train\n",
    "# Divide in training/validation and test data\n",
    "print(\"Starting LightGBM. Train shape: {}, test shape: {}\")#.format(df.shape, test_df.shape))\n",
    "#gc.collect()\n",
    "    # Cross validation model\n",
    "if stratified:\n",
    "    folds = StratifiedKFold(n_splits= num_folds, shuffle=True, random_state=1001)\n",
    "else:\n",
    "    folds = KFold(n_splits= num_folds, shuffle=True, random_state=1001)\n",
    "    # Create arrays and dataframes to store results\n",
    "oof_preds = np.zeros(train_df.shape[0])\n",
    "feature_importance_df = pd.DataFrame()\n",
    "feats = [f for f in train_df.columns if f not in ['target']]\n",
    "    \n",
    "for n_fold, (train_idx, valid_idx) in enumerate(folds.split(train_df[feats], train_df[\"target\"])):\n",
    "    train_x, train_y = train_df[feats].iloc[train_idx], train_df[\"target\"].iloc[train_idx]\n",
    "    valid_x, valid_y = train_df[feats].iloc[valid_idx], train_df[\"target\"].iloc[valid_idx]\n",
    "\n",
    "        # LightGBM parameters found by Bayesian optimization\n",
    "    clf = LGBMClassifier(\n",
    "            boosting_type= 'goss',\n",
    "            nthread=4,\n",
    "            n_estimators=100,#10000,\n",
    "            learning_rate=0.005134,\n",
    "            num_leaves=54,\n",
    "            colsample_bytree=0.508716,\n",
    "            subsample=1,\n",
    "            subsample_for_bin= 240000,\n",
    "            max_depth=10,\n",
    "            reg_alpha=0.436193,\n",
    "            reg_lambda=0.436193,\n",
    "            min_split_gain=0.024766,\n",
    "            min_child_weight=39.3259775,\n",
    "            silent=-1,\n",
    "            verbose=-1, )\n",
    "        \n",
    "    clf.fit(train_x, train_y, eval_set=[(train_x, train_y), (valid_x, valid_y)], \n",
    "            eval_metric= 'auc', verbose= 200, early_stopping_rounds= 200)\n",
    "\n",
    "    oof_preds[valid_idx] = clf.predict_proba(valid_x, num_iteration=clf.best_iteration_)[:, 1]\n",
    "    #sub_preds += clf.predict_proba(test_df[feats], num_iteration=clf.best_iteration_)[:, 1] / folds.n_splits\n",
    "\n",
    "    fold_importance_df = pd.DataFrame()\n",
    "    fold_importance_df[\"feature\"] = feats\n",
    "    fold_importance_df[\"importance\"] = clf.feature_importances_\n",
    "    fold_importance_df[\"fold\"] = n_fold + 1\n",
    "    feature_importance_df = pd.concat([feature_importance_df, fold_importance_df], axis=0)\n",
    "    print('Fold %2d AUC : %.6f' % (n_fold + 1, roc_auc_score(valid_y, oof_preds[valid_idx])))\n",
    "    del clf, train_x, train_y, valid_x, valid_y\n",
    "    #gc.collect()\n",
    "\n",
    "print('Full AUC score %.6f' % roc_auc_score(train_df['target'], oof_preds))\n",
    "    # Write submission file and plot feature importance\n",
    "    #if not debug:\n",
    "    #    test_df['TARGET'] = sub_preds\n",
    "    #    test_df[['SK_ID_CURR', 'TARGET']].to_csv(submission_file_name, index= False)\n",
    "    #display_importances(feature_importance_df)\n",
    "    #return feature_importance_df"
   ]
  },
  {
   "cell_type": "code",
   "execution_count": 25,
   "metadata": {
    "ExecuteTime": {
     "end_time": "2021-09-12T19:47:04.603293Z",
     "start_time": "2021-09-12T19:47:04.573717Z"
    }
   },
   "outputs": [
    {
     "name": "stdout",
     "output_type": "stream",
     "text": [
      "Full AUC score 0.679408\n"
     ]
    }
   ],
   "source": [
    "print('Full AUC score %.6f' % roc_auc_score(train_df['target'], oof_preds))"
   ]
  },
  {
   "cell_type": "code",
   "execution_count": 55,
   "metadata": {
    "ExecuteTime": {
     "end_time": "2021-09-09T21:24:29.594325Z",
     "start_time": "2021-09-09T21:24:29.574668Z"
    }
   },
   "outputs": [
    {
     "ename": "TypeError",
     "evalue": "unsupported operand type(s) for +: 'int' and 'str'",
     "output_type": "error",
     "traceback": [
      "\u001b[0;31m---------------------------------------------------------------------------\u001b[0m",
      "\u001b[0;31mTypeError\u001b[0m                                 Traceback (most recent call last)",
      "\u001b[0;32m<ipython-input-55-87319c6075e0>\u001b[0m in \u001b[0;36m<module>\u001b[0;34m\u001b[0m\n\u001b[0;32m----> 1\u001b[0;31m \u001b[0msum\u001b[0m\u001b[0;34m(\u001b[0m\u001b[0mtrain_x\u001b[0m\u001b[0;34m.\u001b[0m\u001b[0misnull\u001b[0m\u001b[0;34m(\u001b[0m\u001b[0;34m)\u001b[0m\u001b[0;34m)\u001b[0m\u001b[0;34m\u001b[0m\u001b[0;34m\u001b[0m\u001b[0m\n\u001b[0m",
      "\u001b[0;31mTypeError\u001b[0m: unsupported operand type(s) for +: 'int' and 'str'"
     ]
    }
   ],
   "source": [
    "sum(train_x.isnull())"
   ]
  },
  {
   "cell_type": "code",
   "execution_count": 49,
   "metadata": {
    "ExecuteTime": {
     "end_time": "2021-09-09T21:18:04.351729Z",
     "start_time": "2021-09-09T21:18:04.320420Z"
    }
   },
   "outputs": [
    {
     "ename": "XGBoostError",
     "evalue": "[00:18:04] ../src/c_api/c_api_utils.h:161: Invalid missing value: null\nStack trace:\n  [bt] (0) /home/amadeus/Yury_env/Yury_env/lib/python3.8/site-packages/xgboost/lib/libxgboost.so(+0x9133f) [0x7fc9af5b533f]\n  [bt] (1) /home/amadeus/Yury_env/Yury_env/lib/python3.8/site-packages/xgboost/lib/libxgboost.so(+0x9c811) [0x7fc9af5c0811]\n  [bt] (2) /home/amadeus/Yury_env/Yury_env/lib/python3.8/site-packages/xgboost/lib/libxgboost.so(+0x9cac0) [0x7fc9af5c0ac0]\n  [bt] (3) /home/amadeus/Yury_env/Yury_env/lib/python3.8/site-packages/xgboost/lib/libxgboost.so(XGBoosterPredictFromDense+0x225) [0x7fc9af5a8005]\n  [bt] (4) /lib/x86_64-linux-gnu/libffi.so.7(+0x6ff5) [0x7fca51eecff5]\n  [bt] (5) /lib/x86_64-linux-gnu/libffi.so.7(+0x640a) [0x7fca51eec40a]\n  [bt] (6) /usr/lib/python3.8/lib-dynload/_ctypes.cpython-38-x86_64-linux-gnu.so(_ctypes_callproc+0x58c) [0x7fca50f9429c]\n  [bt] (7) /usr/lib/python3.8/lib-dynload/_ctypes.cpython-38-x86_64-linux-gnu.so(+0x137d0) [0x7fca50f947d0]\n  [bt] (8) /home/amadeus/Yury_env/Yury_env/bin/python(_PyObject_MakeTpCall+0x296) [0x5f66f6]\n\n",
     "output_type": "error",
     "traceback": [
      "\u001b[0;31m---------------------------------------------------------------------------\u001b[0m",
      "\u001b[0;31mXGBoostError\u001b[0m                              Traceback (most recent call last)",
      "\u001b[0;32m<ipython-input-49-e4adffb115c5>\u001b[0m in \u001b[0;36m<module>\u001b[0;34m\u001b[0m\n\u001b[0;32m----> 1\u001b[0;31m \u001b[0mxgboost_model\u001b[0m\u001b[0;34m.\u001b[0m\u001b[0mpredict\u001b[0m\u001b[0;34m(\u001b[0m\u001b[0mtrain_x\u001b[0m\u001b[0;34m)\u001b[0m\u001b[0;34m\u001b[0m\u001b[0;34m\u001b[0m\u001b[0m\n\u001b[0m",
      "\u001b[0;32m~/Yury_env/Yury_env/lib/python3.8/site-packages/xgboost/sklearn.py\u001b[0m in \u001b[0;36mpredict\u001b[0;34m(self, X, output_margin, ntree_limit, validate_features, base_margin, iteration_range)\u001b[0m\n\u001b[1;32m   1207\u001b[0m         \u001b[0miteration_range\u001b[0m\u001b[0;34m:\u001b[0m \u001b[0mOptional\u001b[0m\u001b[0;34m[\u001b[0m\u001b[0mTuple\u001b[0m\u001b[0;34m[\u001b[0m\u001b[0mint\u001b[0m\u001b[0;34m,\u001b[0m \u001b[0mint\u001b[0m\u001b[0;34m]\u001b[0m\u001b[0;34m]\u001b[0m \u001b[0;34m=\u001b[0m \u001b[0;32mNone\u001b[0m\u001b[0;34m,\u001b[0m\u001b[0;34m\u001b[0m\u001b[0;34m\u001b[0m\u001b[0m\n\u001b[1;32m   1208\u001b[0m     ):\n\u001b[0;32m-> 1209\u001b[0;31m         class_probs = super().predict(\n\u001b[0m\u001b[1;32m   1210\u001b[0m             \u001b[0mX\u001b[0m\u001b[0;34m=\u001b[0m\u001b[0mX\u001b[0m\u001b[0;34m,\u001b[0m\u001b[0;34m\u001b[0m\u001b[0;34m\u001b[0m\u001b[0m\n\u001b[1;32m   1211\u001b[0m             \u001b[0moutput_margin\u001b[0m\u001b[0;34m=\u001b[0m\u001b[0moutput_margin\u001b[0m\u001b[0;34m,\u001b[0m\u001b[0;34m\u001b[0m\u001b[0;34m\u001b[0m\u001b[0m\n",
      "\u001b[0;32m~/Yury_env/Yury_env/lib/python3.8/site-packages/xgboost/sklearn.py\u001b[0m in \u001b[0;36mpredict\u001b[0;34m(self, X, output_margin, ntree_limit, validate_features, base_margin, iteration_range)\u001b[0m\n\u001b[1;32m    818\u001b[0m         \u001b[0;32mif\u001b[0m \u001b[0mself\u001b[0m\u001b[0;34m.\u001b[0m\u001b[0m_can_use_inplace_predict\u001b[0m\u001b[0;34m(\u001b[0m\u001b[0;34m)\u001b[0m\u001b[0;34m:\u001b[0m\u001b[0;34m\u001b[0m\u001b[0;34m\u001b[0m\u001b[0m\n\u001b[1;32m    819\u001b[0m             \u001b[0;32mtry\u001b[0m\u001b[0;34m:\u001b[0m\u001b[0;34m\u001b[0m\u001b[0;34m\u001b[0m\u001b[0m\n\u001b[0;32m--> 820\u001b[0;31m                 predts = self.get_booster().inplace_predict(\n\u001b[0m\u001b[1;32m    821\u001b[0m                     \u001b[0mdata\u001b[0m\u001b[0;34m=\u001b[0m\u001b[0mX\u001b[0m\u001b[0;34m,\u001b[0m\u001b[0;34m\u001b[0m\u001b[0;34m\u001b[0m\u001b[0m\n\u001b[1;32m    822\u001b[0m                     \u001b[0miteration_range\u001b[0m\u001b[0;34m=\u001b[0m\u001b[0miteration_range\u001b[0m\u001b[0;34m,\u001b[0m\u001b[0;34m\u001b[0m\u001b[0;34m\u001b[0m\u001b[0m\n",
      "\u001b[0;32m~/Yury_env/Yury_env/lib/python3.8/site-packages/xgboost/core.py\u001b[0m in \u001b[0;36minplace_predict\u001b[0;34m(self, data, iteration_range, predict_type, missing, validate_features, base_margin, strict_shape)\u001b[0m\n\u001b[1;32m   1847\u001b[0m             \u001b[0;32mfrom\u001b[0m \u001b[0;34m.\u001b[0m\u001b[0mdata\u001b[0m \u001b[0;32mimport\u001b[0m \u001b[0m_ensure_np_dtype\u001b[0m\u001b[0;34m\u001b[0m\u001b[0;34m\u001b[0m\u001b[0m\n\u001b[1;32m   1848\u001b[0m             \u001b[0mdata\u001b[0m\u001b[0;34m,\u001b[0m \u001b[0m_\u001b[0m \u001b[0;34m=\u001b[0m \u001b[0m_ensure_np_dtype\u001b[0m\u001b[0;34m(\u001b[0m\u001b[0mdata\u001b[0m\u001b[0;34m,\u001b[0m \u001b[0mdata\u001b[0m\u001b[0;34m.\u001b[0m\u001b[0mdtype\u001b[0m\u001b[0;34m)\u001b[0m\u001b[0;34m\u001b[0m\u001b[0;34m\u001b[0m\u001b[0m\n\u001b[0;32m-> 1849\u001b[0;31m             _check_call(\n\u001b[0m\u001b[1;32m   1850\u001b[0m                 _LIB.XGBoosterPredictFromDense(\n\u001b[1;32m   1851\u001b[0m                     \u001b[0mself\u001b[0m\u001b[0;34m.\u001b[0m\u001b[0mhandle\u001b[0m\u001b[0;34m,\u001b[0m\u001b[0;34m\u001b[0m\u001b[0;34m\u001b[0m\u001b[0m\n",
      "\u001b[0;32m~/Yury_env/Yury_env/lib/python3.8/site-packages/xgboost/core.py\u001b[0m in \u001b[0;36m_check_call\u001b[0;34m(ret)\u001b[0m\n\u001b[1;32m    208\u001b[0m     \"\"\"\n\u001b[1;32m    209\u001b[0m     \u001b[0;32mif\u001b[0m \u001b[0mret\u001b[0m \u001b[0;34m!=\u001b[0m \u001b[0;36m0\u001b[0m\u001b[0;34m:\u001b[0m\u001b[0;34m\u001b[0m\u001b[0;34m\u001b[0m\u001b[0m\n\u001b[0;32m--> 210\u001b[0;31m         \u001b[0;32mraise\u001b[0m \u001b[0mXGBoostError\u001b[0m\u001b[0;34m(\u001b[0m\u001b[0mpy_str\u001b[0m\u001b[0;34m(\u001b[0m\u001b[0m_LIB\u001b[0m\u001b[0;34m.\u001b[0m\u001b[0mXGBGetLastError\u001b[0m\u001b[0;34m(\u001b[0m\u001b[0;34m)\u001b[0m\u001b[0;34m)\u001b[0m\u001b[0;34m)\u001b[0m\u001b[0;34m\u001b[0m\u001b[0;34m\u001b[0m\u001b[0m\n\u001b[0m\u001b[1;32m    211\u001b[0m \u001b[0;34m\u001b[0m\u001b[0m\n\u001b[1;32m    212\u001b[0m \u001b[0;34m\u001b[0m\u001b[0m\n",
      "\u001b[0;31mXGBoostError\u001b[0m: [00:18:04] ../src/c_api/c_api_utils.h:161: Invalid missing value: null\nStack trace:\n  [bt] (0) /home/amadeus/Yury_env/Yury_env/lib/python3.8/site-packages/xgboost/lib/libxgboost.so(+0x9133f) [0x7fc9af5b533f]\n  [bt] (1) /home/amadeus/Yury_env/Yury_env/lib/python3.8/site-packages/xgboost/lib/libxgboost.so(+0x9c811) [0x7fc9af5c0811]\n  [bt] (2) /home/amadeus/Yury_env/Yury_env/lib/python3.8/site-packages/xgboost/lib/libxgboost.so(+0x9cac0) [0x7fc9af5c0ac0]\n  [bt] (3) /home/amadeus/Yury_env/Yury_env/lib/python3.8/site-packages/xgboost/lib/libxgboost.so(XGBoosterPredictFromDense+0x225) [0x7fc9af5a8005]\n  [bt] (4) /lib/x86_64-linux-gnu/libffi.so.7(+0x6ff5) [0x7fca51eecff5]\n  [bt] (5) /lib/x86_64-linux-gnu/libffi.so.7(+0x640a) [0x7fca51eec40a]\n  [bt] (6) /usr/lib/python3.8/lib-dynload/_ctypes.cpython-38-x86_64-linux-gnu.so(_ctypes_callproc+0x58c) [0x7fca50f9429c]\n  [bt] (7) /usr/lib/python3.8/lib-dynload/_ctypes.cpython-38-x86_64-linux-gnu.so(+0x137d0) [0x7fca50f947d0]\n  [bt] (8) /home/amadeus/Yury_env/Yury_env/bin/python(_PyObject_MakeTpCall+0x296) [0x5f66f6]\n\n"
     ]
    }
   ],
   "source": [
    "xgboost_model.predict(train_x)"
   ]
  },
  {
   "cell_type": "code",
   "execution_count": 43,
   "metadata": {
    "ExecuteTime": {
     "end_time": "2021-09-09T21:15:15.963316Z",
     "start_time": "2021-09-09T21:15:15.953728Z"
    }
   },
   "outputs": [],
   "source": [
    "def kfold_XBG(df, num_folds, stratified = False, debug= False):\n",
    "    # Divide in training/validation and test data\n",
    "    print(\"Starting XGBoost. Train shape: {}\".format(df.shape))\n",
    "    #gc.collect()\n",
    "    # Cross validation model\n",
    "    if stratified:\n",
    "        folds = StratifiedKFold(n_splits= num_folds, shuffle=True, random_state=1001)\n",
    "    else:\n",
    "        folds = KFold(n_splits= num_folds, shuffle=True, random_state=1001)\n",
    "    # Create arrays and dataframes to store results\n",
    "    #oof_preds = np.zeros(df.shape[0])\n",
    "    feature_importance_df = pd.DataFrame()\n",
    "    feats = [f for f in df.columns if f not in [\"target\"]]\n",
    "    \n",
    "    for n_fold, (train_idx, valid_idx) in enumerate(folds.split(df[feats], df[\"target\"])):\n",
    "        train_x, train_y = df[feats].iloc[train_idx], df[\"target\"].iloc[train_idx]\n",
    "        valid_x, valid_y = df[feats].iloc[valid_idx], df[\"target\"].iloc[valid_idx]\n",
    "\n",
    "    xgboost_model = XGBClassifier(\n",
    "        tree_method='gpu_hist', \n",
    "        gpu_id=1,\n",
    "        base_score=0.5, \n",
    "        booster='gbtree', \n",
    "        colsample_bylevel=1,\n",
    "        colsample_bytree=0.6, \n",
    "        gamma=0, \n",
    "        learning_rate=0.02, \n",
    "        max_delta_step=0,\n",
    "        max_depth=8, \n",
    "        min_child_weight=8, \n",
    "        missing=None, \n",
    "        n_estimators=10000,\n",
    "        n_jobs=1, \n",
    "        nthread=None, \n",
    "        objective='binary:logistic', \n",
    "        random_state=0,\n",
    "        reg_alpha=0.2, \n",
    "        reg_lambda=1, \n",
    "        scale_pos_weight=1, \n",
    "        seed=None,\n",
    "        silent=True, \n",
    "        subsample=0.7\n",
    "    )\n",
    "\n",
    "   # xgboost_model.fit(train_x, train_y, eval_set=[(train_x, train_y), (valid_x, valid_y)],\n",
    "   #         eval_metric= 'auc', verbose= 200, early_stopping_rounds= 200)\n",
    "\n",
    "   #     oof_preds[valid_idx] = xgboost_model.predict_proba(valid_x, num_iteration=xgboost_model.best_iteration_)[:, 1]\n",
    "    #    sub_preds += clf.predict_proba(test_df[feats], num_iteration=clf.best_iteration_)[:, 1] / folds.n_splits\n",
    "        \n",
    "    #prediction = xgboost_model.predict(train_y)\n",
    "    xgboost_model.fit(train_x, train_y, eval_set=[(train_x, train_y), (valid_x, valid_y)], \n",
    "            eval_metric= 'auc', verbose= 200, early_stopping_rounds= 200)\n",
    "\n",
    "    #prediction = xgboost_model.predict_proba(valid_x)\n",
    "        #sub_preds += xgboost_model.predict_proba(test_df[feats], num_iteration=xgboost_model.best_iteration_)[:, 1] / folds.n_splits\n",
    "    return xgboost_model# prediction, valid_y"
   ]
  },
  {
   "cell_type": "code",
   "execution_count": 44,
   "metadata": {
    "ExecuteTime": {
     "end_time": "2021-09-09T21:15:23.240657Z",
     "start_time": "2021-09-09T21:15:20.114573Z"
    }
   },
   "outputs": [
    {
     "name": "stdout",
     "output_type": "stream",
     "text": [
      "Starting XGBoost. Train shape: (82571, 143)\n"
     ]
    },
    {
     "name": "stderr",
     "output_type": "stream",
     "text": [
      "/home/amadeus/Yury_env/Yury_env/lib/python3.8/site-packages/xgboost/sklearn.py:1146: UserWarning: The use of label encoder in XGBClassifier is deprecated and will be removed in a future release. To remove this warning, do the following: 1) Pass option use_label_encoder=False when constructing XGBClassifier object; and 2) Encode your labels (y) as integers starting with 0, i.e. 0, 1, 2, ..., [num_class - 1].\n",
      "  warnings.warn(label_encoder_deprecation_msg, UserWarning)\n"
     ]
    },
    {
     "name": "stdout",
     "output_type": "stream",
     "text": [
      "[00:15:20] WARNING: ../src/learner.cc:573: \n",
      "Parameters: { \"silent\" } might not be used.\n",
      "\n",
      "  This may not be accurate due to some parameters are only used in language bindings but\n",
      "  passed down to XGBoost core.  Or some parameters are not used but slip through this\n",
      "  verification. Please open an issue if you find above cases.\n",
      "\n",
      "\n",
      "[0]\tvalidation_0-auc:0.62043\tvalidation_1-auc:0.61603\n",
      "[200]\tvalidation_0-auc:0.71297\tvalidation_1-auc:0.67679\n",
      "[383]\tvalidation_0-auc:0.72551\tvalidation_1-auc:0.67504\n"
     ]
    }
   ],
   "source": [
    "model = kfold_XBG(dataset,5,True,True)"
   ]
  },
  {
   "cell_type": "code",
   "execution_count": 45,
   "metadata": {
    "ExecuteTime": {
     "end_time": "2021-09-09T21:15:27.401021Z",
     "start_time": "2021-09-09T21:15:27.396593Z"
    }
   },
   "outputs": [
    {
     "data": {
      "text/plain": [
       "XGBClassifier(base_score=0.5, booster='gbtree', colsample_bylevel=1,\n",
       "              colsample_bynode=1, colsample_bytree=0.6, gamma=0, gpu_id=1,\n",
       "              importance_type='gain', interaction_constraints='',\n",
       "              learning_rate=0.02, max_delta_step=0, max_depth=8,\n",
       "              min_child_weight=8, missing=None, monotone_constraints='()',\n",
       "              n_estimators=600, n_jobs=1, nthread=1, num_parallel_tree=1,\n",
       "              random_state=0, reg_alpha=0.2, reg_lambda=1, scale_pos_weight=1,\n",
       "              seed=0, silent=True, subsample=0.7, tree_method='gpu_hist',\n",
       "              validate_parameters=1, verbosity=None)"
      ]
     },
     "execution_count": 45,
     "metadata": {},
     "output_type": "execute_result"
    }
   ],
   "source": [
    "model.predict_proba()"
   ]
  },
  {
   "cell_type": "code",
   "execution_count": 42,
   "metadata": {
    "ExecuteTime": {
     "end_time": "2021-09-09T21:13:49.123050Z",
     "start_time": "2021-09-09T21:13:46.054950Z"
    }
   },
   "outputs": [
    {
     "name": "stdout",
     "output_type": "stream",
     "text": [
      "Starting XGBoost. Train shape: (82571, 143)\n"
     ]
    },
    {
     "name": "stderr",
     "output_type": "stream",
     "text": [
      "/home/amadeus/Yury_env/Yury_env/lib/python3.8/site-packages/xgboost/sklearn.py:1146: UserWarning: The use of label encoder in XGBClassifier is deprecated and will be removed in a future release. To remove this warning, do the following: 1) Pass option use_label_encoder=False when constructing XGBClassifier object; and 2) Encode your labels (y) as integers starting with 0, i.e. 0, 1, 2, ..., [num_class - 1].\n",
      "  warnings.warn(label_encoder_deprecation_msg, UserWarning)\n"
     ]
    },
    {
     "name": "stdout",
     "output_type": "stream",
     "text": [
      "[00:13:46] WARNING: ../src/learner.cc:573: \n",
      "Parameters: { \"silent\" } might not be used.\n",
      "\n",
      "  This may not be accurate due to some parameters are only used in language bindings but\n",
      "  passed down to XGBoost core.  Or some parameters are not used but slip through this\n",
      "  verification. Please open an issue if you find above cases.\n",
      "\n",
      "\n",
      "[0]\tvalidation_0-auc:0.62043\tvalidation_1-auc:0.61603\n",
      "[200]\tvalidation_0-auc:0.71297\tvalidation_1-auc:0.67679\n",
      "[383]\tvalidation_0-auc:0.72551\tvalidation_1-auc:0.67504\n"
     ]
    },
    {
     "ename": "XGBoostError",
     "evalue": "[00:13:49] ../src/c_api/c_api_utils.h:161: Invalid missing value: null\nStack trace:\n  [bt] (0) /home/amadeus/Yury_env/Yury_env/lib/python3.8/site-packages/xgboost/lib/libxgboost.so(+0x9133f) [0x7fc9af5b533f]\n  [bt] (1) /home/amadeus/Yury_env/Yury_env/lib/python3.8/site-packages/xgboost/lib/libxgboost.so(+0x9c811) [0x7fc9af5c0811]\n  [bt] (2) /home/amadeus/Yury_env/Yury_env/lib/python3.8/site-packages/xgboost/lib/libxgboost.so(+0x9cac0) [0x7fc9af5c0ac0]\n  [bt] (3) /home/amadeus/Yury_env/Yury_env/lib/python3.8/site-packages/xgboost/lib/libxgboost.so(XGBoosterPredictFromDense+0x225) [0x7fc9af5a8005]\n  [bt] (4) /lib/x86_64-linux-gnu/libffi.so.7(+0x6ff5) [0x7fca51eecff5]\n  [bt] (5) /lib/x86_64-linux-gnu/libffi.so.7(+0x640a) [0x7fca51eec40a]\n  [bt] (6) /usr/lib/python3.8/lib-dynload/_ctypes.cpython-38-x86_64-linux-gnu.so(_ctypes_callproc+0x58c) [0x7fca50f9429c]\n  [bt] (7) /usr/lib/python3.8/lib-dynload/_ctypes.cpython-38-x86_64-linux-gnu.so(+0x137d0) [0x7fca50f947d0]\n  [bt] (8) /home/amadeus/Yury_env/Yury_env/bin/python(_PyObject_MakeTpCall+0x296) [0x5f66f6]\n\n",
     "output_type": "error",
     "traceback": [
      "\u001b[0;31m---------------------------------------------------------------------------\u001b[0m",
      "\u001b[0;31mXGBoostError\u001b[0m                              Traceback (most recent call last)",
      "\u001b[0;32m<ipython-input-42-1f2041bdaa64>\u001b[0m in \u001b[0;36m<module>\u001b[0;34m\u001b[0m\n\u001b[0;32m----> 1\u001b[0;31m \u001b[0mprediction\u001b[0m\u001b[0;34m,\u001b[0m \u001b[0mvalid_y\u001b[0m \u001b[0;34m=\u001b[0m \u001b[0mkfold_XBG\u001b[0m\u001b[0;34m(\u001b[0m\u001b[0mdataset\u001b[0m\u001b[0;34m,\u001b[0m\u001b[0;36m5\u001b[0m\u001b[0;34m,\u001b[0m\u001b[0;32mTrue\u001b[0m\u001b[0;34m,\u001b[0m\u001b[0;32mTrue\u001b[0m\u001b[0;34m)\u001b[0m\u001b[0;34m\u001b[0m\u001b[0;34m\u001b[0m\u001b[0m\n\u001b[0m",
      "\u001b[0;32m<ipython-input-41-d1f8b68edfe8>\u001b[0m in \u001b[0;36mkfold_XBG\u001b[0;34m(df, num_folds, stratified, debug)\u001b[0m\n\u001b[1;32m     53\u001b[0m             eval_metric= 'auc', verbose= 200, early_stopping_rounds= 200)\n\u001b[1;32m     54\u001b[0m \u001b[0;34m\u001b[0m\u001b[0m\n\u001b[0;32m---> 55\u001b[0;31m     \u001b[0mprediction\u001b[0m \u001b[0;34m=\u001b[0m \u001b[0mxgboost_model\u001b[0m\u001b[0;34m.\u001b[0m\u001b[0mpredict_proba\u001b[0m\u001b[0;34m(\u001b[0m\u001b[0mvalid_x\u001b[0m\u001b[0;34m)\u001b[0m\u001b[0;34m\u001b[0m\u001b[0;34m\u001b[0m\u001b[0m\n\u001b[0m\u001b[1;32m     56\u001b[0m         \u001b[0;31m#sub_preds += xgboost_model.predict_proba(test_df[feats], num_iteration=xgboost_model.best_iteration_)[:, 1] / folds.n_splits\u001b[0m\u001b[0;34m\u001b[0m\u001b[0;34m\u001b[0m\u001b[0;34m\u001b[0m\u001b[0m\n\u001b[1;32m     57\u001b[0m     \u001b[0;32mreturn\u001b[0m \u001b[0mprediction\u001b[0m\u001b[0;34m,\u001b[0m \u001b[0mvalid_y\u001b[0m\u001b[0;34m\u001b[0m\u001b[0;34m\u001b[0m\u001b[0m\n",
      "\u001b[0;32m~/Yury_env/Yury_env/lib/python3.8/site-packages/xgboost/sklearn.py\u001b[0m in \u001b[0;36mpredict_proba\u001b[0;34m(self, X, ntree_limit, validate_features, base_margin, iteration_range)\u001b[0m\n\u001b[1;32m   1271\u001b[0m         \u001b[0;31m# binary:logistic: Expand the prob vector into 2-class matrix after predict.\u001b[0m\u001b[0;34m\u001b[0m\u001b[0;34m\u001b[0m\u001b[0;34m\u001b[0m\u001b[0m\n\u001b[1;32m   1272\u001b[0m         \u001b[0;31m# binary:logitraw: Unsupported by predict_proba()\u001b[0m\u001b[0;34m\u001b[0m\u001b[0;34m\u001b[0m\u001b[0;34m\u001b[0m\u001b[0m\n\u001b[0;32m-> 1273\u001b[0;31m         class_probs = super().predict(\n\u001b[0m\u001b[1;32m   1274\u001b[0m             \u001b[0mX\u001b[0m\u001b[0;34m=\u001b[0m\u001b[0mX\u001b[0m\u001b[0;34m,\u001b[0m\u001b[0;34m\u001b[0m\u001b[0;34m\u001b[0m\u001b[0m\n\u001b[1;32m   1275\u001b[0m             \u001b[0moutput_margin\u001b[0m\u001b[0;34m=\u001b[0m\u001b[0mself\u001b[0m\u001b[0;34m.\u001b[0m\u001b[0mobjective\u001b[0m \u001b[0;34m==\u001b[0m \u001b[0;34m\"multi:softmax\"\u001b[0m\u001b[0;34m,\u001b[0m\u001b[0;34m\u001b[0m\u001b[0;34m\u001b[0m\u001b[0m\n",
      "\u001b[0;32m~/Yury_env/Yury_env/lib/python3.8/site-packages/xgboost/sklearn.py\u001b[0m in \u001b[0;36mpredict\u001b[0;34m(self, X, output_margin, ntree_limit, validate_features, base_margin, iteration_range)\u001b[0m\n\u001b[1;32m    818\u001b[0m         \u001b[0;32mif\u001b[0m \u001b[0mself\u001b[0m\u001b[0;34m.\u001b[0m\u001b[0m_can_use_inplace_predict\u001b[0m\u001b[0;34m(\u001b[0m\u001b[0;34m)\u001b[0m\u001b[0;34m:\u001b[0m\u001b[0;34m\u001b[0m\u001b[0;34m\u001b[0m\u001b[0m\n\u001b[1;32m    819\u001b[0m             \u001b[0;32mtry\u001b[0m\u001b[0;34m:\u001b[0m\u001b[0;34m\u001b[0m\u001b[0;34m\u001b[0m\u001b[0m\n\u001b[0;32m--> 820\u001b[0;31m                 predts = self.get_booster().inplace_predict(\n\u001b[0m\u001b[1;32m    821\u001b[0m                     \u001b[0mdata\u001b[0m\u001b[0;34m=\u001b[0m\u001b[0mX\u001b[0m\u001b[0;34m,\u001b[0m\u001b[0;34m\u001b[0m\u001b[0;34m\u001b[0m\u001b[0m\n\u001b[1;32m    822\u001b[0m                     \u001b[0miteration_range\u001b[0m\u001b[0;34m=\u001b[0m\u001b[0miteration_range\u001b[0m\u001b[0;34m,\u001b[0m\u001b[0;34m\u001b[0m\u001b[0;34m\u001b[0m\u001b[0m\n",
      "\u001b[0;32m~/Yury_env/Yury_env/lib/python3.8/site-packages/xgboost/core.py\u001b[0m in \u001b[0;36minplace_predict\u001b[0;34m(self, data, iteration_range, predict_type, missing, validate_features, base_margin, strict_shape)\u001b[0m\n\u001b[1;32m   1847\u001b[0m             \u001b[0;32mfrom\u001b[0m \u001b[0;34m.\u001b[0m\u001b[0mdata\u001b[0m \u001b[0;32mimport\u001b[0m \u001b[0m_ensure_np_dtype\u001b[0m\u001b[0;34m\u001b[0m\u001b[0;34m\u001b[0m\u001b[0m\n\u001b[1;32m   1848\u001b[0m             \u001b[0mdata\u001b[0m\u001b[0;34m,\u001b[0m \u001b[0m_\u001b[0m \u001b[0;34m=\u001b[0m \u001b[0m_ensure_np_dtype\u001b[0m\u001b[0;34m(\u001b[0m\u001b[0mdata\u001b[0m\u001b[0;34m,\u001b[0m \u001b[0mdata\u001b[0m\u001b[0;34m.\u001b[0m\u001b[0mdtype\u001b[0m\u001b[0;34m)\u001b[0m\u001b[0;34m\u001b[0m\u001b[0;34m\u001b[0m\u001b[0m\n\u001b[0;32m-> 1849\u001b[0;31m             _check_call(\n\u001b[0m\u001b[1;32m   1850\u001b[0m                 _LIB.XGBoosterPredictFromDense(\n\u001b[1;32m   1851\u001b[0m                     \u001b[0mself\u001b[0m\u001b[0;34m.\u001b[0m\u001b[0mhandle\u001b[0m\u001b[0;34m,\u001b[0m\u001b[0;34m\u001b[0m\u001b[0;34m\u001b[0m\u001b[0m\n",
      "\u001b[0;32m~/Yury_env/Yury_env/lib/python3.8/site-packages/xgboost/core.py\u001b[0m in \u001b[0;36m_check_call\u001b[0;34m(ret)\u001b[0m\n\u001b[1;32m    208\u001b[0m     \"\"\"\n\u001b[1;32m    209\u001b[0m     \u001b[0;32mif\u001b[0m \u001b[0mret\u001b[0m \u001b[0;34m!=\u001b[0m \u001b[0;36m0\u001b[0m\u001b[0;34m:\u001b[0m\u001b[0;34m\u001b[0m\u001b[0;34m\u001b[0m\u001b[0m\n\u001b[0;32m--> 210\u001b[0;31m         \u001b[0;32mraise\u001b[0m \u001b[0mXGBoostError\u001b[0m\u001b[0;34m(\u001b[0m\u001b[0mpy_str\u001b[0m\u001b[0;34m(\u001b[0m\u001b[0m_LIB\u001b[0m\u001b[0;34m.\u001b[0m\u001b[0mXGBGetLastError\u001b[0m\u001b[0;34m(\u001b[0m\u001b[0;34m)\u001b[0m\u001b[0;34m)\u001b[0m\u001b[0;34m)\u001b[0m\u001b[0;34m\u001b[0m\u001b[0;34m\u001b[0m\u001b[0m\n\u001b[0m\u001b[1;32m    211\u001b[0m \u001b[0;34m\u001b[0m\u001b[0m\n\u001b[1;32m    212\u001b[0m \u001b[0;34m\u001b[0m\u001b[0m\n",
      "\u001b[0;31mXGBoostError\u001b[0m: [00:13:49] ../src/c_api/c_api_utils.h:161: Invalid missing value: null\nStack trace:\n  [bt] (0) /home/amadeus/Yury_env/Yury_env/lib/python3.8/site-packages/xgboost/lib/libxgboost.so(+0x9133f) [0x7fc9af5b533f]\n  [bt] (1) /home/amadeus/Yury_env/Yury_env/lib/python3.8/site-packages/xgboost/lib/libxgboost.so(+0x9c811) [0x7fc9af5c0811]\n  [bt] (2) /home/amadeus/Yury_env/Yury_env/lib/python3.8/site-packages/xgboost/lib/libxgboost.so(+0x9cac0) [0x7fc9af5c0ac0]\n  [bt] (3) /home/amadeus/Yury_env/Yury_env/lib/python3.8/site-packages/xgboost/lib/libxgboost.so(XGBoosterPredictFromDense+0x225) [0x7fc9af5a8005]\n  [bt] (4) /lib/x86_64-linux-gnu/libffi.so.7(+0x6ff5) [0x7fca51eecff5]\n  [bt] (5) /lib/x86_64-linux-gnu/libffi.so.7(+0x640a) [0x7fca51eec40a]\n  [bt] (6) /usr/lib/python3.8/lib-dynload/_ctypes.cpython-38-x86_64-linux-gnu.so(_ctypes_callproc+0x58c) [0x7fca50f9429c]\n  [bt] (7) /usr/lib/python3.8/lib-dynload/_ctypes.cpython-38-x86_64-linux-gnu.so(+0x137d0) [0x7fca50f947d0]\n  [bt] (8) /home/amadeus/Yury_env/Yury_env/bin/python(_PyObject_MakeTpCall+0x296) [0x5f66f6]\n\n"
     ]
    }
   ],
   "source": [
    "prediction, valid_y = kfold_XBG(dataset,5,True,True)"
   ]
  },
  {
   "cell_type": "code",
   "execution_count": null,
   "metadata": {},
   "outputs": [],
   "source": [
    "print('The accuracy is:', metrics.accuracy_score(y_test, prediction))\n",
    "print(\"\\n\")\n",
    "print(\"Classification Report:\")\n",
    "print(metrics.classification_report(y_test, prediction))\n",
    "\n",
    "sns.heatmap(confusion_matrix(y_test, prediction), annot=True)\n",
    "plt.title(\"Confusion Matrix\")\n",
    "plt.show()"
   ]
  },
  {
   "cell_type": "code",
   "execution_count": null,
   "metadata": {},
   "outputs": [],
   "source": [
    "def kfold_lightgbm(df, num_folds, stratified = False, debug= False):\n",
    "    # Divide in training/validation and test data\n",
    "    print(\"Starting LightGBM. Train shape: {}, test shape: {}\".format(df.shape, test_df.shape))\n",
    "    gc.collect()\n",
    "    # Cross validation model\n",
    "    if stratified:\n",
    "        folds = StratifiedKFold(n_splits= num_folds, shuffle=True, random_state=1001)\n",
    "    else:\n",
    "        folds = KFold(n_splits= num_folds, shuffle=True, random_state=1001)\n",
    "    # Create arrays and dataframes to store results\n",
    "    oof_preds = np.zeros(train_df.shape[0])\n",
    "    feature_importance_df = pd.DataFrame()\n",
    "    feats = [f for f in train_df.columns if f not in ['TARGET','SK_ID_CURR','SK_ID_BUREAU','SK_ID_PREV','index']]\n",
    "    \n",
    "    for n_fold, (train_idx, valid_idx) in enumerate(folds.split(train_df[feats], train_df[\"target\"])):\n",
    "        train_x, train_y = train_df[feats].iloc[train_idx], train_df[\"target\"].iloc[train_idx]\n",
    "        valid_x, valid_y = train_df[feats].iloc[valid_idx], train_df[\"target\"].iloc[valid_idx]\n",
    "\n",
    "        # LightGBM parameters found by Bayesian optimization\n",
    "        clf = LGBMClassifier(\n",
    "            boosting_type= 'goss',\n",
    "            nthread=4,\n",
    "            n_estimators=100,#10000,\n",
    "            learning_rate=0.005134,\n",
    "            num_leaves=54,\n",
    "            colsample_bytree=0.508716,\n",
    "            subsample=1,\n",
    "            subsample_for_bin= 240000,\n",
    "            max_depth=10,\n",
    "            reg_alpha=0.436193,\n",
    "            reg_lambda=0.436193,\n",
    "            min_split_gain=0.024766,\n",
    "            min_child_weight=39.3259775,\n",
    "            silent=-1,\n",
    "            verbose=-1, )\n",
    "        \n",
    "        clf.fit(train_x, train_y, eval_set=[(train_x, train_y), (valid_x, valid_y)], \n",
    "            eval_metric= 'auc', verbose= 200, early_stopping_rounds= 200)\n",
    "\n",
    "        oof_preds[valid_idx] = clf.predict_proba(valid_x, num_iteration=clf.best_iteration_)[:, 1]\n",
    "        sub_preds += clf.predict_proba(test_df[feats], num_iteration=clf.best_iteration_)[:, 1] / folds.n_splits\n",
    "\n",
    "        fold_importance_df = pd.DataFrame()\n",
    "        fold_importance_df[\"feature\"] = feats\n",
    "        fold_importance_df[\"importance\"] = clf.feature_importances_\n",
    "        fold_importance_df[\"fold\"] = n_fold + 1\n",
    "        feature_importance_df = pd.concat([feature_importance_df, fold_importance_df], axis=0)\n",
    "        print('Fold %2d AUC : %.6f' % (n_fold + 1, roc_auc_score(valid_y, oof_preds[valid_idx])))\n",
    "        del clf, train_x, train_y, valid_x, valid_y\n",
    "        gc.collect()\n",
    "\n",
    "    print('Full AUC score %.6f' % roc_auc_score(train_df['TARGET'], oof_preds))\n",
    "    # Write submission file and plot feature importance\n",
    "    if not debug:\n",
    "        test_df['TARGET'] = sub_preds\n",
    "        test_df[['SK_ID_CURR', 'TARGET']].to_csv(submission_file_name, index= False)\n",
    "    display_importances(feature_importance_df)\n",
    "    return feature_importance_df"
   ]
  },
  {
   "cell_type": "code",
   "execution_count": null,
   "metadata": {},
   "outputs": [],
   "source": [
    "to_log = [\"loan_amount\", \"applicant_income\", \"number_of_owner-occupied_units\",\n",
    "          \"number_of_1_to_4_family_units\", \"minority_population\"]\n",
    "\n",
    "to_drop = [\"row_id\", \"number_of_1_to_4_family_units\",\n",
    "           \"occupancy\", \"preapproval\", \"county_code\"]\n",
    "\n",
    "num_cols = [\"loan_amount\", \"applicant_income\", \"population\", \"minority_population_pct\",\n",
    "            \"ffiecmedian_family_income\", \"tract_to_msa_md_income_pct\",\n",
    "            \"number_of_owner-occupied_units\"]\n",
    "\n",
    "cat_cols_few = [\"loan_type\", \"property_type\", \"loan_purpose\",\n",
    "            \"applicant_ethnicity\", \"applicant_race\",\n",
    "            \"applicant_sex\", \"co_applicant\"]\n",
    "\n",
    "def prepare_data(df):\n",
    "    \n",
    "    df[\"co_applicant\"] = df[\"co_applicant\"].astype(\"int8\")\n",
    "    df.replace(replace_dict, np.nan, inplace = True)\n",
    "    \n",
    "    for col in num_cols:\n",
    "        df[col].fillna(df[col].median(), inplace=True)\n",
    "        \n",
    "    for col in cat_cols_few:\n",
    "        df[col].fillna(df[col].mode()[0], inplace=True)\n",
    "        \n",
    "    df[\"minority_population\"] = (df[\"minority_population_pct\"] / 100) * (df[\"population\"])\n",
    "    df[\"tract_family_income\"] = (df[\"tract_to_msa_md_income_pct\"] / 100) * (df[\"ffiecmedian_family_income\"])\n",
    "\n",
    "    df[to_log] = df[to_log].applymap(math.log)\n",
    "    \n",
    "    to_drop.extend([\"minority_population_pct\", \"population\",\n",
    "                    \"ffiecmedian_family_income\", \"tract_to_msa_md_income_pct\"])\n",
    "    df.drop(to_drop, axis=1, inplace=True)\n",
    "    \n",
    "    df = pd.get_dummies(df, columns = cat_cols_few)\n",
    "    \n",
    "    return df"
   ]
  },
  {
   "cell_type": "markdown",
   "metadata": {},
   "source": [
    "# Commented"
   ]
  },
  {
   "cell_type": "code",
   "execution_count": 32,
   "metadata": {
    "ExecuteTime": {
     "end_time": "2021-09-11T21:18:58.198466Z",
     "start_time": "2021-09-11T21:03:10.343928Z"
    }
   },
   "outputs": [
    {
     "name": "stderr",
     "output_type": "stream",
     "text": [
      "100%|██████████| 1654637/1654637 [15:47<00:00, 1745.68it/s]\n"
     ]
    }
   ],
   "source": [
    "'''\n",
    "loan_application_id = []\n",
    "name = []\n",
    "price = []\n",
    "quantity = []\n",
    "\n",
    "with tqdm(total=ds_1.shape[0]) as pbar:\n",
    "    for _, row in ds_1.iterrows():\n",
    "        pbar.update(1)\n",
    "        ds_json = pd.DataFrame.from_dict(row[\"cart_items\"])\n",
    "        for i in range(0,ds_json.shape[0]):\n",
    "            loan_application_id.append(row[\"loan_application_id\"])\n",
    "            name.append(ds_json[\"name\"][i])\n",
    "            price.append(ds_json[\"price\"][i])\n",
    "            quantity.append(ds_json[\"quantity\"][i])\n",
    "\n",
    "        #print(ds_json.shape)\n",
    "        #print(ds_json)\n",
    "        #break\n",
    "'''"
   ]
  },
  {
   "cell_type": "code",
   "execution_count": 29,
   "metadata": {
    "ExecuteTime": {
     "end_time": "2021-09-12T16:47:16.422115Z",
     "start_time": "2021-09-12T16:47:13.960698Z"
    }
   },
   "outputs": [],
   "source": [
    "ds_1 = pd.read_csv(\"/home/amadeus/Desktop/kaggle/Yury/Mokka_test/input_data/cart_items.csv\",sep=\";\")"
   ]
  },
  {
   "cell_type": "code",
   "execution_count": 30,
   "metadata": {
    "ExecuteTime": {
     "end_time": "2021-09-12T16:47:57.894304Z",
     "start_time": "2021-09-12T16:47:26.506962Z"
    }
   },
   "outputs": [],
   "source": [
    "ds_1['cart_items']=ds_1['cart_items'].apply(lambda x:eval(x))"
   ]
  },
  {
   "cell_type": "code",
   "execution_count": 32,
   "metadata": {
    "ExecuteTime": {
     "end_time": "2021-09-12T16:48:17.696961Z",
     "start_time": "2021-09-12T16:48:17.693654Z"
    }
   },
   "outputs": [
    {
     "data": {
      "text/plain": [
       "[{'name': 'Смартфон Apple iPhone 8 Plus 64GB\\xa0Space Gray (MQ8L2RU/A)',\n",
       "  'price': '44990',\n",
       "  'quantity': '1'},\n",
       " {'name': 'Чехол для iPhone Apple iPhone 8 Plus / 7 Plus Silicone Black (MQGW2ZM/A)',\n",
       "  'price': '2990',\n",
       "  'quantity': '1'}]"
      ]
     },
     "execution_count": 32,
     "metadata": {},
     "output_type": "execute_result"
    }
   ],
   "source": [
    "ds_1['cart_items'][0]"
   ]
  },
  {
   "cell_type": "code",
   "execution_count": 33,
   "metadata": {
    "ExecuteTime": {
     "end_time": "2021-09-12T16:48:27.603067Z",
     "start_time": "2021-09-12T16:48:27.595705Z"
    }
   },
   "outputs": [
    {
     "data": {
      "text/html": [
       "<div>\n",
       "<style scoped>\n",
       "    .dataframe tbody tr th:only-of-type {\n",
       "        vertical-align: middle;\n",
       "    }\n",
       "\n",
       "    .dataframe tbody tr th {\n",
       "        vertical-align: top;\n",
       "    }\n",
       "\n",
       "    .dataframe thead th {\n",
       "        text-align: right;\n",
       "    }\n",
       "</style>\n",
       "<table border=\"1\" class=\"dataframe\">\n",
       "  <thead>\n",
       "    <tr style=\"text-align: right;\">\n",
       "      <th></th>\n",
       "      <th>loan_application_id</th>\n",
       "      <th>cart_items</th>\n",
       "    </tr>\n",
       "  </thead>\n",
       "  <tbody>\n",
       "  </tbody>\n",
       "</table>\n",
       "</div>"
      ],
      "text/plain": [
       "Empty DataFrame\n",
       "Columns: [loan_application_id, cart_items]\n",
       "Index: []"
      ]
     },
     "execution_count": 33,
     "metadata": {},
     "output_type": "execute_result"
    }
   ],
   "source": [
    "ds_1[ds_1[\"loan_application_id\"] == 10565286]"
   ]
  },
  {
   "cell_type": "code",
   "execution_count": 33,
   "metadata": {
    "ExecuteTime": {
     "end_time": "2021-09-12T12:45:13.567193Z",
     "start_time": "2021-09-12T12:45:11.522174Z"
    }
   },
   "outputs": [],
   "source": [
    "ds_1_amended = pd.DataFrame(list(zip(loan_application_id, name,price,quantity)),\n",
    "               columns =['loan_application_id', 'name', 'price', 'quantity'])"
   ]
  },
  {
   "cell_type": "code",
   "execution_count": 15,
   "metadata": {
    "ExecuteTime": {
     "end_time": "2021-09-10T13:19:56.450808Z",
     "start_time": "2021-09-10T13:19:54.037343Z"
    }
   },
   "outputs": [
    {
     "data": {
      "text/html": [
       "<div>\n",
       "<style scoped>\n",
       "    .dataframe tbody tr th:only-of-type {\n",
       "        vertical-align: middle;\n",
       "    }\n",
       "\n",
       "    .dataframe tbody tr th {\n",
       "        vertical-align: top;\n",
       "    }\n",
       "\n",
       "    .dataframe thead th {\n",
       "        text-align: right;\n",
       "    }\n",
       "</style>\n",
       "<table border=\"1\" class=\"dataframe\">\n",
       "  <thead>\n",
       "    <tr style=\"text-align: right;\">\n",
       "      <th></th>\n",
       "      <th>federal_region_nm</th>\n",
       "      <th>event</th>\n",
       "      <th>total_events</th>\n",
       "      <th>event_rate</th>\n",
       "      <th>perc</th>\n",
       "      <th>total</th>\n",
       "    </tr>\n",
       "  </thead>\n",
       "  <tbody>\n",
       "    <tr>\n",
       "      <th>0</th>\n",
       "      <td>г. Москва</td>\n",
       "      <td>808.0</td>\n",
       "      <td>13706</td>\n",
       "      <td>0.058952</td>\n",
       "      <td>13706</td>\n",
       "      <td>82673</td>\n",
       "    </tr>\n",
       "    <tr>\n",
       "      <th>1</th>\n",
       "      <td>Московская область</td>\n",
       "      <td>265.0</td>\n",
       "      <td>4927</td>\n",
       "      <td>0.053785</td>\n",
       "      <td>4927</td>\n",
       "      <td>82673</td>\n",
       "    </tr>\n",
       "    <tr>\n",
       "      <th>2</th>\n",
       "      <td>Кемеровская область</td>\n",
       "      <td>111.0</td>\n",
       "      <td>3449</td>\n",
       "      <td>0.032183</td>\n",
       "      <td>3449</td>\n",
       "      <td>82673</td>\n",
       "    </tr>\n",
       "    <tr>\n",
       "      <th>3</th>\n",
       "      <td>Краснодарский край</td>\n",
       "      <td>211.0</td>\n",
       "      <td>3339</td>\n",
       "      <td>0.063193</td>\n",
       "      <td>3339</td>\n",
       "      <td>82673</td>\n",
       "    </tr>\n",
       "    <tr>\n",
       "      <th>4</th>\n",
       "      <td>Новосибирская область</td>\n",
       "      <td>88.0</td>\n",
       "      <td>3172</td>\n",
       "      <td>0.027743</td>\n",
       "      <td>3172</td>\n",
       "      <td>82673</td>\n",
       "    </tr>\n",
       "    <tr>\n",
       "      <th>...</th>\n",
       "      <td>...</td>\n",
       "      <td>...</td>\n",
       "      <td>...</td>\n",
       "      <td>...</td>\n",
       "      <td>...</td>\n",
       "      <td>...</td>\n",
       "    </tr>\n",
       "    <tr>\n",
       "      <th>75</th>\n",
       "      <td>Ямало-Ненецкий автономный округ</td>\n",
       "      <td>7.0</td>\n",
       "      <td>38</td>\n",
       "      <td>0.184211</td>\n",
       "      <td>38</td>\n",
       "      <td>82673</td>\n",
       "    </tr>\n",
       "    <tr>\n",
       "      <th>76</th>\n",
       "      <td>Камчатский край</td>\n",
       "      <td>1.0</td>\n",
       "      <td>36</td>\n",
       "      <td>0.027778</td>\n",
       "      <td>36</td>\n",
       "      <td>82673</td>\n",
       "    </tr>\n",
       "    <tr>\n",
       "      <th>77</th>\n",
       "      <td>Еврейская автономная область</td>\n",
       "      <td>1.0</td>\n",
       "      <td>14</td>\n",
       "      <td>0.071429</td>\n",
       "      <td>14</td>\n",
       "      <td>82673</td>\n",
       "    </tr>\n",
       "    <tr>\n",
       "      <th>78</th>\n",
       "      <td>None</td>\n",
       "      <td>3.0</td>\n",
       "      <td>14</td>\n",
       "      <td>0.214286</td>\n",
       "      <td>14</td>\n",
       "      <td>82673</td>\n",
       "    </tr>\n",
       "    <tr>\n",
       "      <th>79</th>\n",
       "      <td>Ненецкий автономный округ</td>\n",
       "      <td>0.0</td>\n",
       "      <td>1</td>\n",
       "      <td>0.000000</td>\n",
       "      <td>1</td>\n",
       "      <td>82673</td>\n",
       "    </tr>\n",
       "  </tbody>\n",
       "</table>\n",
       "<p>80 rows × 6 columns</p>\n",
       "</div>"
      ],
      "text/plain": [
       "                  federal_region_nm  event  total_events  event_rate   perc  \\\n",
       "0                         г. Москва  808.0         13706    0.058952  13706   \n",
       "1                Московская область  265.0          4927    0.053785   4927   \n",
       "2               Кемеровская область  111.0          3449    0.032183   3449   \n",
       "3                Краснодарский край  211.0          3339    0.063193   3339   \n",
       "4             Новосибирская область   88.0          3172    0.027743   3172   \n",
       "..                              ...    ...           ...         ...    ...   \n",
       "75  Ямало-Ненецкий автономный округ    7.0            38    0.184211     38   \n",
       "76                  Камчатский край    1.0            36    0.027778     36   \n",
       "77     Еврейская автономная область    1.0            14    0.071429     14   \n",
       "78                             None    3.0            14    0.214286     14   \n",
       "79        Ненецкий автономный округ    0.0             1    0.000000      1   \n",
       "\n",
       "    total  \n",
       "0   82673  \n",
       "1   82673  \n",
       "2   82673  \n",
       "3   82673  \n",
       "4   82673  \n",
       "..    ...  \n",
       "75  82673  \n",
       "76  82673  \n",
       "77  82673  \n",
       "78  82673  \n",
       "79  82673  \n",
       "\n",
       "[80 rows x 6 columns]"
      ]
     },
     "execution_count": 15,
     "metadata": {},
     "output_type": "execute_result"
    }
   ],
   "source": [
    "sqldf(\n",
    "    '''\n",
    "SELECT \n",
    "    federal_region_nm\n",
    "    ,SUM(target) AS event\n",
    "    ,COUNT(target) AS total_events\n",
    "    ,SUM(target)/COUNT(target) AS event_rate\n",
    "    ,(COUNT(target) ) AS perc\n",
    "    ,(SELECT COUNT(target) FROM DS_EDA) AS total\n",
    "FROM \n",
    "    DS_EDA\n",
    "GROUP BY\n",
    "    federal_region_nm\n",
    "ORDER BY\n",
    "    total_events DESC        \n",
    "''')"
   ]
  },
  {
   "cell_type": "code",
   "execution_count": 24,
   "metadata": {
    "ExecuteTime": {
     "end_time": "2021-09-12T14:04:37.431587Z",
     "start_time": "2021-09-12T14:04:06.671676Z"
    }
   },
   "outputs": [
    {
     "data": {
      "text/html": [
       "<div>\n",
       "<style scoped>\n",
       "    .dataframe tbody tr th:only-of-type {\n",
       "        vertical-align: middle;\n",
       "    }\n",
       "\n",
       "    .dataframe tbody tr th {\n",
       "        vertical-align: top;\n",
       "    }\n",
       "\n",
       "    .dataframe thead th {\n",
       "        text-align: right;\n",
       "    }\n",
       "</style>\n",
       "<table border=\"1\" class=\"dataframe\">\n",
       "  <thead>\n",
       "    <tr style=\"text-align: right;\">\n",
       "      <th></th>\n",
       "      <th>client_id</th>\n",
       "      <th>client_count</th>\n",
       "      <th>sum(target)</th>\n",
       "    </tr>\n",
       "  </thead>\n",
       "  <tbody>\n",
       "    <tr>\n",
       "      <th>0</th>\n",
       "      <td>22872</td>\n",
       "      <td>1</td>\n",
       "      <td>NaN</td>\n",
       "    </tr>\n",
       "    <tr>\n",
       "      <th>1</th>\n",
       "      <td>38866</td>\n",
       "      <td>1</td>\n",
       "      <td>NaN</td>\n",
       "    </tr>\n",
       "    <tr>\n",
       "      <th>2</th>\n",
       "      <td>69080</td>\n",
       "      <td>1</td>\n",
       "      <td>NaN</td>\n",
       "    </tr>\n",
       "    <tr>\n",
       "      <th>3</th>\n",
       "      <td>72911</td>\n",
       "      <td>1</td>\n",
       "      <td>0.0</td>\n",
       "    </tr>\n",
       "    <tr>\n",
       "      <th>4</th>\n",
       "      <td>78191</td>\n",
       "      <td>1</td>\n",
       "      <td>NaN</td>\n",
       "    </tr>\n",
       "    <tr>\n",
       "      <th>...</th>\n",
       "      <td>...</td>\n",
       "      <td>...</td>\n",
       "      <td>...</td>\n",
       "    </tr>\n",
       "    <tr>\n",
       "      <th>1091606</th>\n",
       "      <td>601729</td>\n",
       "      <td>18</td>\n",
       "      <td>NaN</td>\n",
       "    </tr>\n",
       "    <tr>\n",
       "      <th>1091607</th>\n",
       "      <td>2567924</td>\n",
       "      <td>18</td>\n",
       "      <td>NaN</td>\n",
       "    </tr>\n",
       "    <tr>\n",
       "      <th>1091608</th>\n",
       "      <td>279502</td>\n",
       "      <td>20</td>\n",
       "      <td>NaN</td>\n",
       "    </tr>\n",
       "    <tr>\n",
       "      <th>1091609</th>\n",
       "      <td>2327833</td>\n",
       "      <td>24</td>\n",
       "      <td>NaN</td>\n",
       "    </tr>\n",
       "    <tr>\n",
       "      <th>1091610</th>\n",
       "      <td>1464215</td>\n",
       "      <td>31</td>\n",
       "      <td>NaN</td>\n",
       "    </tr>\n",
       "  </tbody>\n",
       "</table>\n",
       "<p>1091611 rows × 3 columns</p>\n",
       "</div>"
      ],
      "text/plain": [
       "         client_id  client_count  sum(target)\n",
       "0            22872             1          NaN\n",
       "1            38866             1          NaN\n",
       "2            69080             1          NaN\n",
       "3            72911             1          0.0\n",
       "4            78191             1          NaN\n",
       "...            ...           ...          ...\n",
       "1091606     601729            18          NaN\n",
       "1091607    2567924            18          NaN\n",
       "1091608     279502            20          NaN\n",
       "1091609    2327833            24          NaN\n",
       "1091610    1464215            31          NaN\n",
       "\n",
       "[1091611 rows x 3 columns]"
      ]
     },
     "execution_count": 24,
     "metadata": {},
     "output_type": "execute_result"
    }
   ],
   "source": [
    "sqldf(\n",
    "'''\n",
    "SELECT\n",
    "    target\n",
    "    ,application_repeat_type\n",
    "    ,COUNT(*) AS CNT\n",
    "FROM\n",
    "    ds_2\n",
    "GROUP BY\n",
    "    target\n",
    "    ,application_repeat_type\n",
    "'''\n",
    ")\n",
    "\n",
    "sqldf(\n",
    "'''\n",
    "\n",
    "SELECT\n",
    "    client_id\n",
    "    ,COUNT(client_id) client_count\n",
    "    ,sum(target) tar\n",
    "FROM\n",
    "    AGGREGATED_DS\n",
    "GROUP BY\n",
    "    client_id\n",
    "ORDER BY\n",
    "    client_count\n",
    "'''\n",
    ")\n",
    "\n",
    "sqldf(\n",
    "'''\n",
    "SELECT\n",
    "    *\n",
    "FROM\n",
    "    AGGREGATED_DS\n",
    "WHERE\n",
    "    1 = 1\n",
    "    AND client_id = 601729\n",
    "'''\n",
    ")"
   ]
  },
  {
   "cell_type": "code",
   "execution_count": 36,
   "metadata": {
    "ExecuteTime": {
     "end_time": "2021-09-12T12:46:25.719574Z",
     "start_time": "2021-09-12T12:46:19.033682Z"
    }
   },
   "outputs": [],
   "source": [
    "ds_1_amended.to_csv(\"/home/amadeus/Desktop/kaggle/Yury/Mokka_test/input_data/cart_items_amended.csv\")"
   ]
  },
  {
   "cell_type": "code",
   "execution_count": 16,
   "metadata": {
    "ExecuteTime": {
     "end_time": "2021-09-10T13:20:08.877274Z",
     "start_time": "2021-09-10T13:20:06.478834Z"
    }
   },
   "outputs": [
    {
     "data": {
      "text/html": [
       "<div>\n",
       "<style scoped>\n",
       "    .dataframe tbody tr th:only-of-type {\n",
       "        vertical-align: middle;\n",
       "    }\n",
       "\n",
       "    .dataframe tbody tr th {\n",
       "        vertical-align: top;\n",
       "    }\n",
       "\n",
       "    .dataframe thead th {\n",
       "        text-align: right;\n",
       "    }\n",
       "</style>\n",
       "<table border=\"1\" class=\"dataframe\">\n",
       "  <thead>\n",
       "    <tr style=\"text-align: right;\">\n",
       "      <th></th>\n",
       "      <th>channel_type</th>\n",
       "      <th>event</th>\n",
       "      <th>total_events</th>\n",
       "      <th>event_rate</th>\n",
       "      <th>perc</th>\n",
       "      <th>total</th>\n",
       "    </tr>\n",
       "  </thead>\n",
       "  <tbody>\n",
       "    <tr>\n",
       "      <th>0</th>\n",
       "      <td>Offline</td>\n",
       "      <td>2891.0</td>\n",
       "      <td>62492</td>\n",
       "      <td>0.046262</td>\n",
       "      <td>62492</td>\n",
       "      <td>82673</td>\n",
       "    </tr>\n",
       "    <tr>\n",
       "      <th>1</th>\n",
       "      <td>Online</td>\n",
       "      <td>967.0</td>\n",
       "      <td>17166</td>\n",
       "      <td>0.056332</td>\n",
       "      <td>17166</td>\n",
       "      <td>82673</td>\n",
       "    </tr>\n",
       "    <tr>\n",
       "      <th>2</th>\n",
       "      <td>Full_online</td>\n",
       "      <td>271.0</td>\n",
       "      <td>3015</td>\n",
       "      <td>0.089884</td>\n",
       "      <td>3015</td>\n",
       "      <td>82673</td>\n",
       "    </tr>\n",
       "  </tbody>\n",
       "</table>\n",
       "</div>"
      ],
      "text/plain": [
       "  channel_type   event  total_events  event_rate   perc  total\n",
       "0      Offline  2891.0         62492    0.046262  62492  82673\n",
       "1       Online   967.0         17166    0.056332  17166  82673\n",
       "2  Full_online   271.0          3015    0.089884   3015  82673"
      ]
     },
     "execution_count": 16,
     "metadata": {},
     "output_type": "execute_result"
    }
   ],
   "source": [
    "sqldf(\n",
    "    '''\n",
    "select \n",
    "    channel_type\n",
    "    ,sum(target) as event\n",
    "    ,count(target) as total_events\n",
    "    ,sum(target)/count(target) as event_rate\n",
    "    ,(count(target) ) as perc\n",
    "    ,(select count(target) from DS_EDA) as total\n",
    "from \n",
    "    DS_EDA\n",
    "group by\n",
    "    channel_type\n",
    "order by\n",
    "    total_events desc        \n",
    "''')"
   ]
  },
  {
   "cell_type": "code",
   "execution_count": 17,
   "metadata": {
    "ExecuteTime": {
     "end_time": "2021-09-10T13:20:21.887759Z",
     "start_time": "2021-09-10T13:20:19.415089Z"
    }
   },
   "outputs": [
    {
     "data": {
      "text/html": [
       "<div>\n",
       "<style scoped>\n",
       "    .dataframe tbody tr th:only-of-type {\n",
       "        vertical-align: middle;\n",
       "    }\n",
       "\n",
       "    .dataframe tbody tr th {\n",
       "        vertical-align: top;\n",
       "    }\n",
       "\n",
       "    .dataframe thead th {\n",
       "        text-align: right;\n",
       "    }\n",
       "</style>\n",
       "<table border=\"1\" class=\"dataframe\">\n",
       "  <thead>\n",
       "    <tr style=\"text-align: right;\">\n",
       "      <th></th>\n",
       "      <th>birth_dt</th>\n",
       "      <th>event</th>\n",
       "      <th>total_events</th>\n",
       "      <th>event_rate</th>\n",
       "      <th>perc</th>\n",
       "      <th>total</th>\n",
       "    </tr>\n",
       "  </thead>\n",
       "  <tbody>\n",
       "    <tr>\n",
       "      <th>0</th>\n",
       "      <td>1987-11-03</td>\n",
       "      <td>0.0</td>\n",
       "      <td>20</td>\n",
       "      <td>0.000000</td>\n",
       "      <td>20</td>\n",
       "      <td>82673</td>\n",
       "    </tr>\n",
       "    <tr>\n",
       "      <th>1</th>\n",
       "      <td>1988-10-04</td>\n",
       "      <td>0.0</td>\n",
       "      <td>19</td>\n",
       "      <td>0.000000</td>\n",
       "      <td>19</td>\n",
       "      <td>82673</td>\n",
       "    </tr>\n",
       "    <tr>\n",
       "      <th>2</th>\n",
       "      <td>1987-01-09</td>\n",
       "      <td>1.0</td>\n",
       "      <td>19</td>\n",
       "      <td>0.052632</td>\n",
       "      <td>19</td>\n",
       "      <td>82673</td>\n",
       "    </tr>\n",
       "    <tr>\n",
       "      <th>3</th>\n",
       "      <td>1986-11-07</td>\n",
       "      <td>0.0</td>\n",
       "      <td>19</td>\n",
       "      <td>0.000000</td>\n",
       "      <td>19</td>\n",
       "      <td>82673</td>\n",
       "    </tr>\n",
       "    <tr>\n",
       "      <th>4</th>\n",
       "      <td>1990-04-17</td>\n",
       "      <td>2.0</td>\n",
       "      <td>18</td>\n",
       "      <td>0.111111</td>\n",
       "      <td>18</td>\n",
       "      <td>82673</td>\n",
       "    </tr>\n",
       "    <tr>\n",
       "      <th>...</th>\n",
       "      <td>...</td>\n",
       "      <td>...</td>\n",
       "      <td>...</td>\n",
       "      <td>...</td>\n",
       "      <td>...</td>\n",
       "      <td>...</td>\n",
       "    </tr>\n",
       "    <tr>\n",
       "      <th>18260</th>\n",
       "      <td>1941-07-04</td>\n",
       "      <td>0.0</td>\n",
       "      <td>1</td>\n",
       "      <td>0.000000</td>\n",
       "      <td>1</td>\n",
       "      <td>82673</td>\n",
       "    </tr>\n",
       "    <tr>\n",
       "      <th>18261</th>\n",
       "      <td>1884-07-19</td>\n",
       "      <td>0.0</td>\n",
       "      <td>1</td>\n",
       "      <td>0.000000</td>\n",
       "      <td>1</td>\n",
       "      <td>82673</td>\n",
       "    </tr>\n",
       "    <tr>\n",
       "      <th>18262</th>\n",
       "      <td>1198-06-21</td>\n",
       "      <td>0.0</td>\n",
       "      <td>1</td>\n",
       "      <td>0.000000</td>\n",
       "      <td>1</td>\n",
       "      <td>82673</td>\n",
       "    </tr>\n",
       "    <tr>\n",
       "      <th>18263</th>\n",
       "      <td>1070-03-11</td>\n",
       "      <td>0.0</td>\n",
       "      <td>1</td>\n",
       "      <td>0.000000</td>\n",
       "      <td>1</td>\n",
       "      <td>82673</td>\n",
       "    </tr>\n",
       "    <tr>\n",
       "      <th>18264</th>\n",
       "      <td>0519-09-09</td>\n",
       "      <td>0.0</td>\n",
       "      <td>1</td>\n",
       "      <td>0.000000</td>\n",
       "      <td>1</td>\n",
       "      <td>82673</td>\n",
       "    </tr>\n",
       "  </tbody>\n",
       "</table>\n",
       "<p>18265 rows × 6 columns</p>\n",
       "</div>"
      ],
      "text/plain": [
       "         birth_dt  event  total_events  event_rate  perc  total\n",
       "0      1987-11-03    0.0            20    0.000000    20  82673\n",
       "1      1988-10-04    0.0            19    0.000000    19  82673\n",
       "2      1987-01-09    1.0            19    0.052632    19  82673\n",
       "3      1986-11-07    0.0            19    0.000000    19  82673\n",
       "4      1990-04-17    2.0            18    0.111111    18  82673\n",
       "...           ...    ...           ...         ...   ...    ...\n",
       "18260  1941-07-04    0.0             1    0.000000     1  82673\n",
       "18261  1884-07-19    0.0             1    0.000000     1  82673\n",
       "18262  1198-06-21    0.0             1    0.000000     1  82673\n",
       "18263  1070-03-11    0.0             1    0.000000     1  82673\n",
       "18264  0519-09-09    0.0             1    0.000000     1  82673\n",
       "\n",
       "[18265 rows x 6 columns]"
      ]
     },
     "execution_count": 17,
     "metadata": {},
     "output_type": "execute_result"
    }
   ],
   "source": [
    "sqldf(\n",
    "    '''\n",
    "select \n",
    "    birth_dt\n",
    "    ,sum(target) as event\n",
    "    ,count(target) as total_events\n",
    "    ,sum(target)/count(target) as event_rate\n",
    "    ,(count(target) ) as perc\n",
    "    ,(select count(target) from DS_EDA) as total\n",
    "from \n",
    "    DS_EDA\n",
    "group by\n",
    "    birth_dt\n",
    "order by\n",
    "    total_events desc        \n",
    "''')"
   ]
  }
 ],
 "metadata": {
  "kernelspec": {
   "display_name": "Python 3",
   "language": "python",
   "name": "python3"
  },
  "language_info": {
   "codemirror_mode": {
    "name": "ipython",
    "version": 3
   },
   "file_extension": ".py",
   "mimetype": "text/x-python",
   "name": "python",
   "nbconvert_exporter": "python",
   "pygments_lexer": "ipython3",
   "version": "3.8.5"
  },
  "varInspector": {
   "cols": {
    "lenName": "20",
    "lenType": 16,
    "lenVar": 40
   },
   "kernels_config": {
    "python": {
     "delete_cmd_postfix": "",
     "delete_cmd_prefix": "del ",
     "library": "var_list.py",
     "varRefreshCmd": "print(var_dic_list())"
    },
    "r": {
     "delete_cmd_postfix": ") ",
     "delete_cmd_prefix": "rm(",
     "library": "var_list.r",
     "varRefreshCmd": "cat(var_dic_list()) "
    }
   },
   "oldHeight": 122,
   "position": {
    "height": "40px",
    "left": "1004px",
    "right": "20px",
    "top": "120px",
    "width": "250px"
   },
   "types_to_exclude": [
    "module",
    "function",
    "builtin_function_or_method",
    "instance",
    "_Feature"
   ],
   "varInspector_section_display": "none",
   "window_display": true
  }
 },
 "nbformat": 4,
 "nbformat_minor": 4
}
